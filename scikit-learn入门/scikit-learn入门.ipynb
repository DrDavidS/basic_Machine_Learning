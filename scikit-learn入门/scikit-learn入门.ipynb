{
 "cells": [
  {
   "cell_type": "markdown",
   "metadata": {},
   "source": [
    "# Scikit-Learn (sklearn)基础\n",
    "\n",
    "## 参考链接\n",
    "\n",
    "[scikit-learn (sklearn) 官方文档中文版](https://sklearn.apachecn.org/docs/0.21.3/)\n",
    "\n",
    "## SKlearn简介\n",
    "Scikit-Learn，又叫SKlearn，是一款基于Python的大而全的机器学习工具。各位熟悉的诸如：SVM、决策树、随机森林等模型都有被集成其中。\n",
    "\n",
    "SKlearn集成了各种监督学习工具、无监督学习工具、模型评估工具以及各种数据集加载、校验和转换工具。\n",
    "\n"
   ]
  },
  {
   "cell_type": "code",
   "execution_count": null,
   "metadata": {},
   "outputs": [],
   "source": []
  }
 ],
 "metadata": {
  "kernelspec": {
   "display_name": "Python 3",
   "language": "python",
   "name": "python3"
  },
  "language_info": {
   "codemirror_mode": {
    "name": "ipython",
    "version": 3
   },
   "file_extension": ".py",
   "mimetype": "text/x-python",
   "name": "python",
   "nbconvert_exporter": "python",
   "pygments_lexer": "ipython3",
   "version": "3.6.8"
  }
 },
 "nbformat": 4,
 "nbformat_minor": 2
}
