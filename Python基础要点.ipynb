{
 "cells": [
  {
   "cell_type": "markdown",
   "metadata": {},
   "source": [
    "# Python基础\n",
    "\n",
    "## Python的算数计算\n",
    "\n",
    "Python是一门动态语言，在给变量赋值之前不需要指明变量的数据类型。这样的优点就是开发快速，阅读方便；缺点是一些情况下不方便调试。\n",
    "\n",
    "现在我们来实践一下Python的基本算数运算"
   ]
  },
  {
   "cell_type": "code",
   "execution_count": 1,
   "metadata": {
    "collapsed": true
   },
   "outputs": [],
   "source": [
    "x = 5\n",
    "y = 6\n",
    "z = x + y"
   ]
  },
  {
   "cell_type": "code",
   "execution_count": 2,
   "metadata": {},
   "outputs": [
    {
     "name": "stdout",
     "output_type": "stream",
     "text": [
      "5\n",
      "6\n",
      "11\n"
     ]
    }
   ],
   "source": [
    "print(x)\n",
    "print(y)\n",
    "print(z)"
   ]
  },
  {
   "cell_type": "markdown",
   "metadata": {},
   "source": [
    "有时候我们也没必要总是把每个运算结果存在类似 z 这么一个变量里面，可以直接print。\n",
    "\n",
    "以加减乘除和取余运算为例："
   ]
  },
  {
   "cell_type": "code",
   "execution_count": 4,
   "metadata": {},
   "outputs": [
    {
     "name": "stdout",
     "output_type": "stream",
     "text": [
      "x + y=  11\n",
      "x - y=  -1\n",
      "x * y=  30\n",
      "x / y=  0.8333333333333334\n",
      "x % y=  5\n"
     ]
    }
   ],
   "source": [
    "print(\"x + y= \", x + y)\n",
    "print(\"x - y= \", x - y)\n",
    "print(\"x * y= \", x * y)\n",
    "print(\"x / y= \", x / y)\n",
    "print(\"x % y= \", x % y)"
   ]
  },
  {
   "cell_type": "markdown",
   "metadata": {},
   "source": [
    "接下来是乘方和开方的实现方法（不包含复数运算）："
   ]
  },
  {
   "cell_type": "code",
   "execution_count": 6,
   "metadata": {},
   "outputs": [
    {
     "name": "stdout",
     "output_type": "stream",
     "text": [
      "x的平方：  25\n",
      "x开方：  2.23606797749979\n"
     ]
    }
   ],
   "source": [
    "print(\"x的平方： \", x**2)\n",
    "print(\"x开方： \", x**0.5)"
   ]
  },
  {
   "cell_type": "markdown",
   "metadata": {},
   "source": [
    "## Python的基本数据类型\n",
    "\n",
    "数据类型和机器学习密切相关。在很多情况下，机器学习所用的数据都是如下类型：\n",
    "\n",
    "- 整数，int\n",
    "- 浮点数（小数），float\n",
    "- 字符串（文字），string\n",
    "- 布尔值（是否），bool"
   ]
  },
  {
   "cell_type": "code",
   "execution_count": 7,
   "metadata": {},
   "outputs": [
    {
     "name": "stdout",
     "output_type": "stream",
     "text": [
      "1\n",
      "<class 'int'>\n"
     ]
    }
   ],
   "source": [
    "a = 1\n",
    "print(a)\n",
    "print(type(a))"
   ]
  },
  {
   "cell_type": "code",
   "execution_count": 8,
   "metadata": {},
   "outputs": [
    {
     "name": "stdout",
     "output_type": "stream",
     "text": [
      "0.5\n",
      "<class 'float'>\n"
     ]
    }
   ],
   "source": [
    "b = 0.5\n",
    "print(b)\n",
    "print(type(b))"
   ]
  },
  {
   "cell_type": "markdown",
   "metadata": {},
   "source": [
    "如果是 5.0 这样的数字，算 int 还是 float 呢？"
   ]
  },
  {
   "cell_type": "code",
   "execution_count": 9,
   "metadata": {},
   "outputs": [
    {
     "name": "stdout",
     "output_type": "stream",
     "text": [
      "5.0\n",
      "<class 'float'>\n"
     ]
    }
   ],
   "source": [
    "c = 5.0\n",
    "print(c)\n",
    "print(type(c))"
   ]
  },
  {
   "cell_type": "markdown",
   "metadata": {},
   "source": [
    "接下来是字符串，字符串就是一串“文字”。"
   ]
  },
  {
   "cell_type": "code",
   "execution_count": 10,
   "metadata": {},
   "outputs": [
    {
     "name": "stdout",
     "output_type": "stream",
     "text": [
      "你好\n",
      "<class 'str'>\n"
     ]
    }
   ],
   "source": [
    "word = \"你好\"\n",
    "print(word)\n",
    "print(type(word))"
   ]
  },
  {
   "cell_type": "markdown",
   "metadata": {},
   "source": [
    "最后是布尔类型，只有两种值，一种是 True， 一种是 False。"
   ]
  },
  {
   "cell_type": "code",
   "execution_count": 11,
   "metadata": {},
   "outputs": [
    {
     "name": "stdout",
     "output_type": "stream",
     "text": [
      "True\n",
      "<class 'bool'>\n",
      "False\n",
      "<class 'bool'>\n"
     ]
    }
   ],
   "source": [
    "right = True\n",
    "wrong = False\n",
    "print(right)\n",
    "print(type(right))\n",
    "print(wrong)\n",
    "print(type(wrong))"
   ]
  },
  {
   "cell_type": "markdown",
   "metadata": {},
   "source": [
    "这些就是最常见的数据类型。相信大多数有一定编程基础的人都明白这些类型的区别。\n",
    "\n",
    "在机器学习领域，很多数据都是采用这些数据类型来表示的，比如：\n",
    "\n",
    "- 描述生理性别：使用bool值描述男性或者女性\n",
    "- 描述周岁年龄：使用int值描述周岁年龄\n",
    "- 描述体重：使用float描述体重（kg）\n",
    "- 描述姓名：使用string类型描述人的姓名"
   ]
  },
  {
   "cell_type": "markdown",
   "metadata": {},
   "source": [
    "## Python常见数据结构\n",
    "\n",
    "除变量以外，Python中常见的数据结构还有三种：\n",
    "\n",
    "- 元组（Tuple）\n",
    "- 列表（List）\n",
    "- 字典（Dictionary）\n",
    "\n",
    "### Python 元组\n",
    "\n",
    "Python的元组与列表类似，不同之处在于元组的元素不能修改。\n",
    "\n",
    "元组使用小括号，列表使用方括号。\n",
    "\n",
    "元组创建很简单，只需要在括号中添加元素，并使用逗号隔开即可。"
   ]
  },
  {
   "cell_type": "code",
   "execution_count": 13,
   "metadata": {},
   "outputs": [
    {
     "name": "stdout",
     "output_type": "stream",
     "text": [
      "('physics', 'chemistry', 1997, 2000)\n"
     ]
    }
   ],
   "source": [
    "tup1 = ('physics', 'chemistry', 1997, 2000)\n",
    "print(tup1)"
   ]
  },
  {
   "cell_type": "code",
   "execution_count": null,
   "metadata": {
    "collapsed": true
   },
   "outputs": [],
   "source": []
  },
  {
   "cell_type": "code",
   "execution_count": null,
   "metadata": {
    "collapsed": true
   },
   "outputs": [],
   "source": []
  }
 ],
 "metadata": {
  "kernelspec": {
   "display_name": "Python 3",
   "language": "python",
   "name": "python3"
  },
  "language_info": {
   "codemirror_mode": {
    "name": "ipython",
    "version": 3
   },
   "file_extension": ".py",
   "mimetype": "text/x-python",
   "name": "python",
   "nbconvert_exporter": "python",
   "pygments_lexer": "ipython3",
   "version": "3.6.1"
  }
 },
 "nbformat": 4,
 "nbformat_minor": 2
}
