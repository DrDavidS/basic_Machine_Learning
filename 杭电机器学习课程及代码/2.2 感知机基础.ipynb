{
 "cells": [
  {
   "cell_type": "markdown",
   "metadata": {},
   "source": [
    "# 课程回顾\n",
    "\n",
    "## 上节课内容\n",
    "\n",
    "？？？\n",
    "\n",
    "## 补充：模型评价标准\n",
    "\n",
    "### 准确率、精准率与召回率\n",
    "\n",
    "### F1值\n",
    "\n",
    "### 比赛常用指标\n",
    "\n",
    "# 感知机\n",
    "\n",
    "## 感知机原理\n",
    "\n",
    "## 手写代码实现\n",
    "\n",
    "## SKlearn中的感知机\n",
    "\n",
    "[利用sklearn实现感知机（perceptron）算法](https://blog.csdn.net/u011630575/article/details/79396135)"
   ]
  },
  {
   "cell_type": "code",
   "execution_count": null,
   "metadata": {
    "collapsed": true
   },
   "outputs": [],
   "source": []
  }
 ],
 "metadata": {
  "kernelspec": {
   "display_name": "Python 3",
   "language": "python",
   "name": "python3"
  },
  "language_info": {
   "codemirror_mode": {
    "name": "ipython",
    "version": 3
   },
   "file_extension": ".py",
   "mimetype": "text/x-python",
   "name": "python",
   "nbconvert_exporter": "python",
   "pygments_lexer": "ipython3",
   "version": "3.6.1"
  }
 },
 "nbformat": 4,
 "nbformat_minor": 2
}
