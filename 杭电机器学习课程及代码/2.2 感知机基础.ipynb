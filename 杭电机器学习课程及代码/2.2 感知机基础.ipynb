{
 "cells": [
  {
   "cell_type": "markdown",
   "metadata": {},
   "source": [
    "# 感知机\n",
    "\n",
    "## 内容回顾\n",
    "\n",
    "在上一次课程我们学习了：\n",
    "\n",
    "- numpy、pandas以及matplotlib的常见方法\n",
    "\n",
    "- 损失函数：损失函数（loss function）或者代价函数（cost function）来度量预测错误的程度。\n",
    "\n",
    "- 模型的训练误差和测试误差\n",
    "\n",
    "- 模型的过拟合\n",
    "\n",
    "- 正则化\n",
    "\n",
    "- 交叉验证\n",
    "\n",
    "以及相关代码的实现\n",
    "\n",
    "## 补充：监督学习模型评价标准\n",
    "\n",
    "对于监督学习，我们在模型完成训练后，如何评价模型的训练效果？\n",
    "\n",
    "打个比方：\n",
    "\n",
    "1.损失函数下降类似于学生的学习和练习效果，学生使用某种学习方法，比如题海战术，（这就是**算法**的选择）尽到最大努力学习了，整体的做题错误率在不断降低（**loss**在降低），学生的知识水平在不断提高。\n",
    "\n",
    "2.但是对于期末考试，看的是本次考试的表现（test），而不是平时学生的表现（train）。比如某次考试有一百道判断题，每题一分，学生做对了80道题，得分80分。\n",
    "\n",
    "3.学生平时做题表现很好，错得很少。但是考试时候拿到试卷，发现试卷上的题目都是平时没有学过的知识点，或者超纲题目，这叫**数据分布不均匀**，或者叫train set和test set不是**同分布**的。\n",
    "\n",
    "4.如果考试的时候发现，怎么遇到之前练习的原题了？原题相当于送分题，放在机器学习方法中就叫数据集不是**独立**的。我们在机器学习中要求，训练集和测试集最好是独立同分布的，就是这个意思。\n",
    "\n",
    "而今天我们来讲讲模型的评价标准，也就是“老师的打分方式”。\n",
    "\n",
    "### 准确率、精准率、召回率与 $F_1$ 值\n",
    "\n",
    "- 模型的评价指标一般是分类**准确率**，其定义是：对于给定的测试数据集，分类器正确分类的样本数与总样本数之比。\n",
    "\n",
    "> 借用上面的例子，如某次考试有一百道判断题，每题做对得一分，做错得零分，学生做对了80道题，得分80分，学生的正确率就是80%。\n",
    "\n",
    "- 对于二分类问题，常用的评价指标是精确率（precision）和召回率（recall）。以关注的类为正类（positive），其他类为负类（negative），分类器在测试数据集上的预测或正确或者不正确，4种情况出现的总数分别记做：\n",
    "\n",
    "> TP —— True Positive，将正类预测为正类数\n",
    ">\n",
    "> FN —— False Negative，将正类预测为负类数\n",
    ">\n",
    "> FP —— False Positive，将负类预测为正类数\n",
    ">\n",
    "> TN —— True Negative，将负类预测为负类数\n",
    "\n",
    "- 精确率又叫查准率，定义为$$ P = \\frac{\\rm TP}{\\rm TP + \\rm FP} $$\n",
    "\n",
    "- 召回率又叫查全率，定义为$$ R = \\frac{\\rm TP}{\\rm TP + \\rm FN} $$\n",
    "\n",
    "- 此外还有 $ F_1 $ 值，是精确率和召回率的调和平均值，即$$ \\frac{2}{F_1} = \\frac{1}{P}+ \\frac{1}{R} $$\n",
    "\n",
    "查准率和查全率可以类比医院看病。比如有一种罕见病，据统计全球发病率为百万分之三，医院要开发一种机器学习诊断系统去为广大患者诊断这种病。\n",
    "\n",
    "预计有一千万人使用该系统，如果：\n",
    "\n",
    "- 我用准确率（越高越好）作为这个诊断系统的评价指标，会怎么样？\n",
    "\n",
    "> Hint：全部判断为健康人\n",
    "\n",
    "- 我用精确率（越高越好）作为这个诊断系统的评价指标，会怎么样？\n",
    "\n",
    "> Hint：病入膏肓再下诊断\n",
    "\n",
    "- 我用召回率（越高越好）作为这个诊断系统的评价指标，会怎么样？\n",
    "\n",
    "> Hint：全部判断为病人\n",
    "\n",
    "- 我用 $ F_1 $ 值（越高越好）作为这个诊断系统的评价指标，会怎么样？\n",
    "\n",
    "> 结合了精确率和召回率的优点（希望既不漏诊也不误诊）。\n",
    "\n",
    "### 代码实现\n",
    "\n",
    "在 SKlearn 包中，我们也有上述指标的函数实现.\n",
    "\n",
    "#### 数据集\n",
    "\n",
    "先导入相关包，建立一个仿真的数据集。假设数字1表示正样本（positive，例如：患病阳性），如下："
   ]
  },
  {
   "cell_type": "code",
   "execution_count": 15,
   "metadata": {
    "collapsed": true
   },
   "outputs": [],
   "source": [
    "from sklearn import metrics\n",
    "\n",
    "y_pred = [0, 1, 1, 0, 0, 0, 0, 0, 0, 0]\n",
    "y_true = [0, 0, 1, 0, 0, 0, 0, 0, 1, 1]"
   ]
  },
  {
   "cell_type": "markdown",
   "metadata": {},
   "source": [
    "#### 准确率（accuracy）\n",
    "\n",
    "文档：[sklearn.metrics.accuracy_score](https://scikit-learn.org/stable/modules/generated/sklearn.metrics.accuracy_score.html#sklearn.metrics.accuracy_score)\n",
    "\n",
    "```Python\n",
    "sklearn.metrics.accuracy_score(y_true, y_pred, normalize=True, sample_weight=None)\n",
    "```"
   ]
  },
  {
   "cell_type": "code",
   "execution_count": 17,
   "metadata": {},
   "outputs": [
    {
     "name": "stdout",
     "output_type": "stream",
     "text": [
      "0.7\n"
     ]
    }
   ],
   "source": [
    "accuracy = metrics.accuracy_score(y_true, y_pred)\n",
    "print(accuracy)"
   ]
  },
  {
   "cell_type": "markdown",
   "metadata": {},
   "source": [
    "#### 精确度（precision）\n",
    "\n",
    "文档：[sklearn.metrics.precision_score](https://scikit-learn.org/stable/modules/generated/sklearn.metrics.precision_score.html#sklearn.metrics.precision_score)\n",
    "\n",
    "```Python\n",
    "sklearn.metrics.precision_score(y_true, y_pred, labels=None, pos_label=1, average=’binary’, sample_weight=None)\n",
    "```"
   ]
  },
  {
   "cell_type": "code",
   "execution_count": 18,
   "metadata": {},
   "outputs": [
    {
     "name": "stdout",
     "output_type": "stream",
     "text": [
      "0.5\n"
     ]
    }
   ],
   "source": [
    "precision = metrics.precision_score(y_true, y_pred)\n",
    "print(precision)"
   ]
  },
  {
   "cell_type": "markdown",
   "metadata": {},
   "source": [
    "#### 召回率（recall）\n",
    "\n",
    "文档：[sklearn.metrics.recall_score](https://scikit-learn.org/stable/modules/generated/sklearn.metrics.recall_score.html#sklearn.metrics.recall_score)\n",
    "\n",
    "```Python\n",
    "sklearn.metrics.recall_score(y_true, y_pred, labels=None, pos_label=1, average=’binary’, sample_weight=None)\n",
    "```"
   ]
  },
  {
   "cell_type": "code",
   "execution_count": 19,
   "metadata": {},
   "outputs": [
    {
     "name": "stdout",
     "output_type": "stream",
     "text": [
      "0.333333333333\n"
     ]
    }
   ],
   "source": [
    "recall = metrics.recall_score(y_true, y_pred)\n",
    "print(recall)"
   ]
  },
  {
   "cell_type": "markdown",
   "metadata": {},
   "source": [
    "#### $F_1$值\n",
    "\n",
    "文档：[sklearn.metrics.f1_score](https://scikit-learn.org/stable/modules/generated/sklearn.metrics.f1_score.html#sklearn.metrics.f1_score)\n",
    "\n",
    "```Python\n",
    "sklearn.metrics.f1_score(y_true, y_pred, labels=None, pos_label=1, average=’binary’, sample_weight=None)\n",
    "```"
   ]
  },
  {
   "cell_type": "code",
   "execution_count": 20,
   "metadata": {},
   "outputs": [
    {
     "name": "stdout",
     "output_type": "stream",
     "text": [
      "0.4\n"
     ]
    }
   ],
   "source": [
    "f1 = metrics.f1_score(y_true, y_pred)\n",
    "print(f1)"
   ]
  },
  {
   "cell_type": "markdown",
   "metadata": {},
   "source": [
    "### 其他常用指标 - AUC与ROC\n",
    "\n",
    "什么是AUC，什么是ROC\n",
    "\n",
    "\n",
    "\n",
    "\n",
    "\n",
    "\n",
    "# 感知机\n",
    "\n",
    "## 感知机原理\n",
    "\n",
    "## 手写代码实现\n",
    "\n",
    "## SKlearn中的感知机\n",
    "\n",
    "[利用sklearn实现感知机（perceptron）算法](https://blog.csdn.net/u011630575/article/details/79396135)"
   ]
  },
  {
   "cell_type": "code",
   "execution_count": null,
   "metadata": {
    "collapsed": true
   },
   "outputs": [],
   "source": []
  },
  {
   "cell_type": "code",
   "execution_count": null,
   "metadata": {
    "collapsed": true
   },
   "outputs": [],
   "source": []
  }
 ],
 "metadata": {
  "kernelspec": {
   "display_name": "Python 3",
   "language": "python",
   "name": "python3"
  },
  "language_info": {
   "codemirror_mode": {
    "name": "ipython",
    "version": 3
   },
   "file_extension": ".py",
   "mimetype": "text/x-python",
   "name": "python",
   "nbconvert_exporter": "python",
   "pygments_lexer": "ipython3",
   "version": "3.6.1"
  }
 },
 "nbformat": 4,
 "nbformat_minor": 2
}
