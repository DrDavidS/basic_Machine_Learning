{
 "cells": [
  {
   "cell_type": "markdown",
   "metadata": {},
   "source": [
    "# 朴素贝叶斯\n",
    "\n",
    "朴素贝叶斯（naïve Bayes）法是基于贝叶斯定理和特征条件独立假设的分类方法。\n",
    "\n",
    "朴素贝叶斯在20世纪60年代得到了广泛的研究，在60年代初被引入到文本检索领域（可能有的人会看过一些比较老的文章或者书，里面经常提到“使用朴素贝叶斯法来判断垃圾邮件”）。在统计学和计算机科学文献中，朴素贝叶斯模型也经常被叫做**简单贝叶斯（simple Bayes）**或者**独立贝叶斯（independence Bayes）**。\n",
    "\n",
    "## 朴素贝叶斯的基本方法\n",
    "\n",
    "【需要修改格式】\n",
    "\n",
    "训练数据集\n",
    "\n",
    "$$\\large T=\\left \\{(x_1,y_1),(x_2,y_2),\\cdots,(x_N,y_N) \\right \\} $$\n",
    "\n",
    "其中：\n",
    "\n",
    "$i = 1,2,3,\\cdots,N$；\n",
    "\n",
    "$x_i \\in \\Bbb X \\subseteq \\mathbf R^n$ 为实例的特征向量，可以类比 iris 数据集的 features（特征），有多个维度；\n",
    "\n",
    "$ y_i \\in \\Bbb Y = \\left \\{ c_1,c_2,\\cdots,c_K \\right \\}$，可以类比为 iris 数据集的 labels（标签），可以是多分类的。\n",
    "\n",
    "## 何谓“朴素”\n",
    "\n",
    "## 极大似然估计\n",
    "\n",
    "## 算法流程\n",
    "\n",
    "## 贝叶斯估计\n",
    "\n",
    "## 朴素贝叶斯的SKlearn实现"
   ]
  },
  {
   "cell_type": "code",
   "execution_count": null,
   "metadata": {},
   "outputs": [],
   "source": []
  },
  {
   "cell_type": "code",
   "execution_count": null,
   "metadata": {},
   "outputs": [],
   "source": []
  },
  {
   "cell_type": "code",
   "execution_count": null,
   "metadata": {},
   "outputs": [],
   "source": []
  },
  {
   "cell_type": "code",
   "execution_count": null,
   "metadata": {},
   "outputs": [],
   "source": []
  },
  {
   "cell_type": "code",
   "execution_count": null,
   "metadata": {},
   "outputs": [],
   "source": []
  },
  {
   "cell_type": "code",
   "execution_count": null,
   "metadata": {},
   "outputs": [],
   "source": []
  }
 ],
 "metadata": {
  "kernelspec": {
   "display_name": "Python 3",
   "language": "python",
   "name": "python3"
  },
  "language_info": {
   "codemirror_mode": {
    "name": "ipython",
    "version": 3
   },
   "file_extension": ".py",
   "mimetype": "text/x-python",
   "name": "python",
   "nbconvert_exporter": "python",
   "pygments_lexer": "ipython3",
   "version": "3.6.8"
  }
 },
 "nbformat": 4,
 "nbformat_minor": 2
}
