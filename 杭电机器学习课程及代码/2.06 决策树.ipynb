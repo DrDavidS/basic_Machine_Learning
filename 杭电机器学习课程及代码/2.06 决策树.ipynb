{
 "cells": [
  {
   "cell_type": "markdown",
   "metadata": {},
   "source": [
    "# 决策树\n",
    "\n",
    "作者：杨岱川\n",
    "\n",
    "时间：2019年11月\n",
    "\n",
    "github：https://github.com/DrDavidS/basic_Machine_Learning\n",
    "\n",
    "开源协议：[MIT](https://github.com/DrDavidS/basic_Machine_Learning/blob/master/LICENSE)\n",
    "\n",
    "## 决策树简介\n",
    "\n",
    "决策树（decision tree）是一种基本的分类与回归方法。决策树模型呈现树形结构，在分类问题中，表示基于特征对实例进行分类的过程。\n",
    "\n",
    "决策树既可以认为是一个 if-then 规则的集合，也可以认为是定义在特征空间与类空间上的条件概率分布。其主要优点是模型具有可读性，分类速度快。\n",
    "\n",
    "<img src=\"http://www.itfly.net/uploads/allimg/20170223/1487800510698_1.jpg\" width=\"500\" alt=\"贷款决策树\" align=center>\n",
    "\n",
    "<center>决策树示例</center>\n",
    "\n",
    "决策树在学习时候，利用训练数据，根据损失函数最小化的原则建立决策树模型。预测时，对新的数据，又利用决策树进行分类。\n",
    "\n",
    ">机器学习领域，决策树学习算法的思想主要来源于[John Ross Quinlan](https://en.wikipedia.org/wiki/Ross_Quinlan)在1986年的论文《Induction of Decision Trees》提出的 ID3 算法，而后他又在1993年提出了改进的 C4.5 算法。[Leo Breiman](https://en.wikipedia.org/wiki/Leo_Breiman)也在1984年提出了分类与回归树（[CART](https://www.jstor.org/stable/2530946?seq=1#page_scan_tab_contents)）。"
   ]
  },
  {
   "cell_type": "markdown",
   "metadata": {},
   "source": [
    "## 决策树的基本方法\n",
    "\n",
    "### 决策树模型\n",
    "\n",
    ">**定义**：决策树模型是一种描述对实例进行分类的树形结构。决策树由结点（node）和有向边（directed edge）组成。结点有两种类型，内部结点（internal node）和叶节点（lead node）。内部结点表示一个属性或特征，叶结点表示一个类。\n",
    "\n",
    "如果我们使用决策树对某个实例进行分类，那么就从**根结点**开始，对实例的某个特征进行测试，根据测试的结果，将实例分配到其子结点。每一个子结点对应该特征的一个取值。如此递归地对实例进行测试分配，直到达到**叶结点**。最后我们把实例分到叶结点的类中。\n",
    "\n",
    "### 决策树和规则\n",
    "\n",
    "决策树可以看作是一个 if-then 规则的集合：从根结点到叶结点的每一条路径构建一条规则，**内部结点**的特征对应着规则的条件，而**叶结点**的类对应着规则的结论。这些规则的集合有一个重要的特征：互斥且完备。\n",
    "\n",
    ">**互斥且完备**：每个实例都被一条规则覆盖（只满足一条规则），而且只被一条规则所覆盖（满足）。\n",
    "\n",
    "<img src=\"https://images0.cnblogs.com/blog2015/452899/201505/162042244705421.jpg\" width=\"500\" alt=\"决策树示例\" align=center>\n",
    "\n",
    "<center>送礼物决策树示例</center>\n",
    "\n",
    "以上图为例，如果我要送一个工艺模型给朋友，由于在平时比较了解朋友的喜好，那么我就可以绘制出上面这个决策树。根据“互斥且完备”的原则，各种备选的工艺模型（实例）均是可以被上面的决策树分类的。\n",
    "\n",
    "简单起见，叶子结点结果就是两种，“喜欢”和“不喜欢”。\n",
    "\n",
    ">如果送一个灰色的工艺模型，在根节点处应当如何分类？"
   ]
  },
  {
   "cell_type": "markdown",
   "metadata": {},
   "source": [
    "### 决策树的学习\n",
    "\n",
    "假设给定训练数据集\n",
    "\n",
    "$$\\large T=\\left \\{(x_1,y_1),(x_2,y_2),\\cdots,(x_N,y_N) \\right \\} $$\n",
    "\n",
    "其中：\n",
    "\n",
    "$i = 1,2,3,\\cdots,N$，表示样本的容量；\n",
    "\n",
    "$x_i \\in \\Bbb X \\subseteq \\mathbf R^n$ 为实例的特征向量，可以即数据的 features（特征），有多个维度；\n",
    "\n",
    "$ y_i \\in \\Bbb Y = \\left \\{ c_1,c_2,\\cdots,c_K \\right \\}$，可以类比为数据的 labels（标签），可以是多分类的。\n",
    "\n",
    "决策树的学习目标就是根据给定的训练数据集构建一个决策树模型，使他能够对实例进行正确的分类。"
   ]
  },
  {
   "cell_type": "code",
   "execution_count": null,
   "metadata": {},
   "outputs": [],
   "source": []
  },
  {
   "cell_type": "code",
   "execution_count": null,
   "metadata": {},
   "outputs": [],
   "source": []
  },
  {
   "cell_type": "code",
   "execution_count": null,
   "metadata": {},
   "outputs": [],
   "source": []
  },
  {
   "cell_type": "code",
   "execution_count": null,
   "metadata": {},
   "outputs": [],
   "source": []
  },
  {
   "cell_type": "code",
   "execution_count": null,
   "metadata": {},
   "outputs": [],
   "source": []
  },
  {
   "cell_type": "code",
   "execution_count": null,
   "metadata": {},
   "outputs": [],
   "source": []
  },
  {
   "cell_type": "code",
   "execution_count": null,
   "metadata": {},
   "outputs": [],
   "source": []
  },
  {
   "cell_type": "code",
   "execution_count": null,
   "metadata": {},
   "outputs": [],
   "source": []
  },
  {
   "cell_type": "code",
   "execution_count": null,
   "metadata": {},
   "outputs": [],
   "source": []
  },
  {
   "cell_type": "code",
   "execution_count": null,
   "metadata": {},
   "outputs": [],
   "source": []
  },
  {
   "cell_type": "code",
   "execution_count": null,
   "metadata": {},
   "outputs": [],
   "source": []
  },
  {
   "cell_type": "code",
   "execution_count": null,
   "metadata": {},
   "outputs": [],
   "source": []
  },
  {
   "cell_type": "code",
   "execution_count": null,
   "metadata": {},
   "outputs": [],
   "source": []
  },
  {
   "cell_type": "code",
   "execution_count": null,
   "metadata": {},
   "outputs": [],
   "source": []
  },
  {
   "cell_type": "code",
   "execution_count": null,
   "metadata": {},
   "outputs": [],
   "source": []
  }
 ],
 "metadata": {
  "kernelspec": {
   "display_name": "Python 3",
   "language": "python",
   "name": "python3"
  },
  "language_info": {
   "codemirror_mode": {
    "name": "ipython",
    "version": 3
   },
   "file_extension": ".py",
   "mimetype": "text/x-python",
   "name": "python",
   "nbconvert_exporter": "python",
   "pygments_lexer": "ipython3",
   "version": "3.6.8"
  }
 },
 "nbformat": 4,
 "nbformat_minor": 2
}
