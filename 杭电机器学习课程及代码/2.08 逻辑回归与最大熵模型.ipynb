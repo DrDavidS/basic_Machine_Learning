{
 "cells": [
  {
   "cell_type": "markdown",
   "metadata": {},
   "source": [
    "# 逻辑回归\n",
    "\n",
    "作者：杨岱川\n",
    "\n",
    "时间：2019年11月\n",
    "\n",
    "github：https://github.com/DrDavidS/basic_Machine_Learning\n",
    "\n",
    "开源协议：[MIT](https://github.com/DrDavidS/basic_Machine_Learning/blob/master/LICENSE)\n",
    "\n",
    "## 逻辑回归简介\n",
    "\n",
    "**逻辑回归**，或者叫**逻辑斯谛回归（logistic regression）**，是统计学中的经典分类方法，属于对数线性模型。\n",
    "\n",
    "在统计中，logistic 模型（又叫 logit 模型）一般用于对某些类别或者事件建模，比如确定一幅图像里面是不是包含了猫、狗，或者狮子之类。检测到的每个对象都被分配一个介于0到1之间的概率，而且它们的**总和为1**。\n",
    "\n",
    "<img src=\"http://img3.imgtn.bdimg.com/it/u=3684510494,3246189269&fm=26&gp=0.jpg\" width=\"500\" alt=\"回归算法图例\" align=center>\n",
    "\n",
    "<center>回归分析</center>\n",
    "\n",
    ">逻辑方程（logistic function）最早用于人口增长模型，是比利时数学家、医生[Pierre François Verhulst](https://en.wikipedia.org/wiki/Pierre_Fran%C3%A7ois_Verhulst)在比利时数学家、统计学家[Adolphe Quetelet](https://en.wikipedia.org/wiki/Adolphe_Quetelet)的指导下，在大约19世纪30年代发明的。而作为一般统计模型的逻辑回归，最初由美国物理学家和统计学家[Joseph Berkson](https://en.wikipedia.org/wiki/Joseph_Berkson)开发和推广于1944年，“logit”这个词也是他发明的。"
   ]
  },
  {
   "cell_type": "markdown",
   "metadata": {},
   "source": [
    "## 逻辑回归模型\n",
    "\n",
    "### logistic分布\n",
    "\n",
    "首先我们定义一下什么叫逻辑分布（logistic distribution）：\n",
    "\n",
    ">设 $X$ 是连续随机变量， $X$ 服从逻辑分布是指 $X$ 具有下列**分布函数**和**密度函数**：\n",
    ">\n",
    ">$$\\large F(x)=P(X\\le x)=\\frac{1}{1+{\\rm e}^{-(x-\\mu)/\\gamma}}$$\n",
    ">\n",
    ">$$\\large f(x)=F'(x)=\\frac{{\\rm e}^{-(x-\\mu)/\\gamma}}{\\gamma(1+{\\rm e}^{-(x-\\mu)/\\gamma})^2}$$\n",
    ">\n",
    ">其中，$\\mu$ 为位置参数，$\\gamma > 0$ 为形状参数。\n",
    "\n",
    ">考研数学中，概率论与数理统计里面学过概率密度函数，可以复习一下：\n",
    ">\n",
    ">在数学中，连续型随机变量的**概率密度函数**（简称为**密度函数**）是一个描述这个随机变量的输出值，在某个确定的取值点附近的可能性的函数。而随机变量的取值落在某个区域之内的概率则为概率密度函数在这个区域上的积分。当概率密度函数存在的时候，累积分布函数是概率密度函数的积分。概率密度函数一般以小写标记。\n",
    ">\n",
    ">如果随机变量 $X$ 的分布函数可以表示为\n",
    ">\n",
    ">$$\\large F(x)=\\int_{-\\infty}^x f(t)dt,\\quad x\\in R$$\n",
    ">\n",
    ">其中 $f(x)$ 是非负可积函数，则称 $X$ 为连续性随机变量，称 $f(x)$ 为 $X$ 的概率密度函数。\n",
    ">\n",
    ">简而言之，概率密度反映了概率在点 $x$ 处的密集程度。对分布函数**求导**，就可以得到密度函数。"
   ]
  },
  {
   "cell_type": "code",
   "execution_count": null,
   "metadata": {},
   "outputs": [],
   "source": []
  },
  {
   "cell_type": "code",
   "execution_count": null,
   "metadata": {},
   "outputs": [],
   "source": []
  },
  {
   "cell_type": "code",
   "execution_count": null,
   "metadata": {},
   "outputs": [],
   "source": []
  },
  {
   "cell_type": "code",
   "execution_count": null,
   "metadata": {},
   "outputs": [],
   "source": []
  },
  {
   "cell_type": "code",
   "execution_count": null,
   "metadata": {},
   "outputs": [],
   "source": []
  },
  {
   "cell_type": "code",
   "execution_count": null,
   "metadata": {},
   "outputs": [],
   "source": []
  },
  {
   "cell_type": "code",
   "execution_count": null,
   "metadata": {},
   "outputs": [],
   "source": []
  },
  {
   "cell_type": "code",
   "execution_count": null,
   "metadata": {},
   "outputs": [],
   "source": []
  },
  {
   "cell_type": "code",
   "execution_count": null,
   "metadata": {},
   "outputs": [],
   "source": []
  },
  {
   "cell_type": "code",
   "execution_count": null,
   "metadata": {},
   "outputs": [],
   "source": []
  },
  {
   "cell_type": "code",
   "execution_count": null,
   "metadata": {},
   "outputs": [],
   "source": []
  }
 ],
 "metadata": {
  "kernelspec": {
   "display_name": "Python 3",
   "language": "python",
   "name": "python3"
  },
  "language_info": {
   "codemirror_mode": {
    "name": "ipython",
    "version": 3
   },
   "file_extension": ".py",
   "mimetype": "text/x-python",
   "name": "python",
   "nbconvert_exporter": "python",
   "pygments_lexer": "ipython3",
   "version": "3.7.4"
  }
 },
 "nbformat": 4,
 "nbformat_minor": 2
}
