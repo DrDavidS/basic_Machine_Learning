{
 "cells": [
  {
   "cell_type": "markdown",
   "metadata": {},
   "source": [
    "# 隐马尔可夫模型（HMM）\n",
    "\n",
    "作者：杨岱川\n",
    "\n",
    "时间：2019年10月\n",
    "\n",
    "github：https://github.com/DrDavidS/basic_Machine_Learning\n",
    "\n",
    "开源协议：[MIT](https://github.com/DrDavidS/basic_Machine_Learning/blob/master/LICENSE)"
   ]
  },
  {
   "cell_type": "markdown",
   "metadata": {},
   "source": [
    "## 隐马尔可夫模型的基本概念\n",
    "\n",
    "隐马尔可夫模型（hidden Markov model）是可以用于标注问题的统计学习模型，描述由隐藏的的马尔可夫链随机生成观测序列的过程，属于生成模型。\n",
    "\n",
    "隐马尔可夫模型的形式定义如下：\n",
    "\n",
    ">设 $Q$ 是所有可能的状态的集合，$V$ 是所有可能的观测的集合：\n",
    ">\n",
    ">$$\\large Q=\\{q_1,q_2,\\cdots,q_N\\},\\quad V=\\{v_1.v_2,\\cdots,v_M\\}$$\n",
    ">\n",
    ">其中，$N$ 是可能的状态的集合，$M$ 是可能的观测数。\n",
    ">\n",
    ">$I$ 是长度为 $T$ 的状态序列，$O$ 是对应的观测序列：\n",
    ">\n",
    ">$$\\large I=(i_1,i_2,\\cdots,i_T),\\quad O=(o_1,o_2,\\cdots,o_T)$$\n",
    ">\n",
    ">$A$ 是状态转移矩阵：\n"
   ]
  },
  {
   "cell_type": "code",
   "execution_count": null,
   "metadata": {},
   "outputs": [],
   "source": []
  },
  {
   "cell_type": "code",
   "execution_count": null,
   "metadata": {},
   "outputs": [],
   "source": []
  },
  {
   "cell_type": "code",
   "execution_count": null,
   "metadata": {},
   "outputs": [],
   "source": []
  },
  {
   "cell_type": "code",
   "execution_count": null,
   "metadata": {},
   "outputs": [],
   "source": []
  },
  {
   "cell_type": "code",
   "execution_count": null,
   "metadata": {},
   "outputs": [],
   "source": []
  },
  {
   "cell_type": "code",
   "execution_count": null,
   "metadata": {},
   "outputs": [],
   "source": []
  },
  {
   "cell_type": "code",
   "execution_count": null,
   "metadata": {},
   "outputs": [],
   "source": []
  },
  {
   "cell_type": "code",
   "execution_count": null,
   "metadata": {},
   "outputs": [],
   "source": []
  },
  {
   "cell_type": "code",
   "execution_count": null,
   "metadata": {},
   "outputs": [],
   "source": []
  },
  {
   "cell_type": "code",
   "execution_count": null,
   "metadata": {},
   "outputs": [],
   "source": []
  },
  {
   "cell_type": "code",
   "execution_count": null,
   "metadata": {},
   "outputs": [],
   "source": []
  },
  {
   "cell_type": "code",
   "execution_count": null,
   "metadata": {},
   "outputs": [],
   "source": []
  },
  {
   "cell_type": "code",
   "execution_count": null,
   "metadata": {},
   "outputs": [],
   "source": []
  }
 ],
 "metadata": {
  "kernelspec": {
   "display_name": "Python 3",
   "language": "python",
   "name": "python3"
  },
  "language_info": {
   "codemirror_mode": {
    "name": "ipython",
    "version": 3
   },
   "file_extension": ".py",
   "mimetype": "text/x-python",
   "name": "python",
   "nbconvert_exporter": "python",
   "pygments_lexer": "ipython3",
   "version": "3.6.8"
  }
 },
 "nbformat": 4,
 "nbformat_minor": 2
}
