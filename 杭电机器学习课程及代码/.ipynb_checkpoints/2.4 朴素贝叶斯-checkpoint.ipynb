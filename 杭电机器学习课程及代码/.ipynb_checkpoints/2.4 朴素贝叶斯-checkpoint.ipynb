{
 "cells": [
  {
   "cell_type": "markdown",
   "metadata": {},
   "source": [
    "# 朴素贝叶斯法\n",
    "\n",
    "作者：杨岱川\n",
    "\n",
    "时间：2019年9月\n",
    "\n",
    "github：https://github.com/DrDavidS/basic_Machine_Learning\n",
    "\n",
    "开源协议：[MIT](https://github.com/DrDavidS/basic_Machine_Learning/blob/master/LICENSE)\n",
    "\n",
    "## 特征的相关性分析\n",
    "\n",
    "\n",
    "\n",
    "## 朴素贝叶斯法简介\n",
    "\n",
    "### 朴素贝叶斯的基本方法\n",
    "\n",
    "### 何谓“朴素”\n",
    "\n",
    "### 极大似然估计\n",
    "\n",
    "### 算法流程\n",
    "\n",
    "### 贝叶斯估计\n",
    "\n",
    "## 朴素贝叶斯的SKlearn实现"
   ]
  },
  {
   "cell_type": "code",
   "execution_count": null,
   "metadata": {},
   "outputs": [],
   "source": []
  }
 ],
 "metadata": {
  "kernelspec": {
   "display_name": "Python 3",
   "language": "python",
   "name": "python3"
  },
  "language_info": {
   "codemirror_mode": {
    "name": "ipython",
    "version": 3
   },
   "file_extension": ".py",
   "mimetype": "text/x-python",
   "name": "python",
   "nbconvert_exporter": "python",
   "pygments_lexer": "ipython3",
   "version": "3.6.8"
  }
 },
 "nbformat": 4,
 "nbformat_minor": 2
}
