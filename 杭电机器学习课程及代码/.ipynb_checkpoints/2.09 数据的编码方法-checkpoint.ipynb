{
 "cells": [
  {
   "cell_type": "markdown",
   "metadata": {},
   "source": [
    "# 数据的编码方法\n",
    "\n",
    "在实际的数据分析与处理工作中，我们常常需要对数据做一些预处理。本节内容主要讲述如何对数据进行编码。\n",
    "\n",
    "在[蘑菇分类实践](https://github.com/DrDavidS/basic_Machine_Learning/blob/master/杭电机器学习课程及代码/2.07%20蘑菇分类实践.ipynb)一节中，我们简单地涉及到了 `LabelEncoding` 的内容，就是将离散的字符型等级变量，如A, B, C, D 等，通过数字编码的方式，变成机器可以识别的数字内容。\n",
    "\n",
    "像 `LabelEncoding` 等对原始数据特征进行一定地组合变换的方法，属于对特征的编码（encoding）方法，这些编码方法由属于**特征工程**的一部分。而众所周知的，特征工程是机器学习工作中最重要环节之一。\n",
    "\n",
    "## 参考数据\n",
    "\n",
    "本节数据出自[Categorical Feature Encoding Challenge](https://www.kaggle.com/c/cat-in-the-dat/discussion/105537)，这是由 Kaggle 提供的专门用于数据特征编码的数据集。\n",
    "\n",
    "代码参考了该比赛中各路网友分享的[notebooks](https://www.kaggle.com/c/cat-in-the-dat/notebooks)：\n",
    "\n",
    "- [An Overview of Encoding Techniques](https://www.kaggle.com/shahules/an-overview-of-encoding-techniques)"
   ]
  },
  {
   "cell_type": "markdown",
   "metadata": {},
   "source": [
    "## 读取数据\n",
    "\n",
    "由于涉及到数据版权的原因，在Github上不直接保存，有需要的话建议自行在官网[下载](https://www.kaggle.com/c/cat-in-the-dat/data)。\n",
    "\n",
    ">百度网盘：\n",
    ">\n",
    ">链接：https://pan.baidu.com/s/1l1Ns4UWAYbh6mO4kgDN5Rg \n",
    ">\n",
    ">提取码：cq3v \n",
    ">\n",
    ">如果失效请在Github提issue，或者从官网下载。"
   ]
  },
  {
   "cell_type": "code",
   "execution_count": null,
   "metadata": {},
   "outputs": [],
   "source": []
  },
  {
   "cell_type": "markdown",
   "metadata": {},
   "source": [
    "## Label Encoding\n",
    "\n",
    "首先我们要复习一下之前学过的 Label Encoding 方法。"
   ]
  },
  {
   "cell_type": "code",
   "execution_count": null,
   "metadata": {},
   "outputs": [],
   "source": []
  },
  {
   "cell_type": "markdown",
   "metadata": {},
   "source": [
    "## OneHot Encoding\n",
    "\n",
    "OneHot Encoding 是一种非常常用的编码方法，中文名叫“独热码”或者“独热编码”，常常也简称为“One Hot”。"
   ]
  },
  {
   "cell_type": "code",
   "execution_count": null,
   "metadata": {},
   "outputs": [],
   "source": []
  },
  {
   "cell_type": "markdown",
   "metadata": {},
   "source": [
    "## Feature Hashing"
   ]
  },
  {
   "cell_type": "code",
   "execution_count": null,
   "metadata": {},
   "outputs": [],
   "source": []
  },
  {
   "cell_type": "markdown",
   "metadata": {},
   "source": [
    "## Encoding categories with dataset statistics"
   ]
  },
  {
   "cell_type": "code",
   "execution_count": null,
   "metadata": {},
   "outputs": [],
   "source": []
  },
  {
   "cell_type": "markdown",
   "metadata": {},
   "source": [
    "## Target Encoding"
   ]
  },
  {
   "cell_type": "code",
   "execution_count": null,
   "metadata": {},
   "outputs": [],
   "source": []
  },
  {
   "cell_type": "markdown",
   "metadata": {},
   "source": [
    "## K-Fold target encoding"
   ]
  },
  {
   "cell_type": "code",
   "execution_count": null,
   "metadata": {},
   "outputs": [],
   "source": []
  },
  {
   "cell_type": "code",
   "execution_count": null,
   "metadata": {},
   "outputs": [],
   "source": []
  },
  {
   "cell_type": "code",
   "execution_count": null,
   "metadata": {},
   "outputs": [],
   "source": []
  },
  {
   "cell_type": "code",
   "execution_count": null,
   "metadata": {},
   "outputs": [],
   "source": []
  },
  {
   "cell_type": "code",
   "execution_count": null,
   "metadata": {},
   "outputs": [],
   "source": []
  },
  {
   "cell_type": "code",
   "execution_count": null,
   "metadata": {},
   "outputs": [],
   "source": []
  },
  {
   "cell_type": "code",
   "execution_count": null,
   "metadata": {},
   "outputs": [],
   "source": []
  },
  {
   "cell_type": "code",
   "execution_count": null,
   "metadata": {},
   "outputs": [],
   "source": []
  }
 ],
 "metadata": {
  "kernelspec": {
   "display_name": "Python 3",
   "language": "python",
   "name": "python3"
  },
  "language_info": {
   "codemirror_mode": {
    "name": "ipython",
    "version": 3
   },
   "file_extension": ".py",
   "mimetype": "text/x-python",
   "name": "python",
   "nbconvert_exporter": "python",
   "pygments_lexer": "ipython3",
   "version": "3.7.4"
  }
 },
 "nbformat": 4,
 "nbformat_minor": 2
}
