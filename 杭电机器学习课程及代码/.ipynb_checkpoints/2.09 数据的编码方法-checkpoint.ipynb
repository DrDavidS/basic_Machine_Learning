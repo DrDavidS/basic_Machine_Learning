{
 "cells": [
  {
   "cell_type": "markdown",
   "metadata": {},
   "source": [
    "# 数据的编码方法\n",
    "\n",
    "在实际的数据分析与处理工作中，我们常常需要对数据做一些预处理。本节内容主要讲述如何对数据进行编码。\n",
    "\n",
    "在[蘑菇分类实践](https://github.com/DrDavidS/basic_Machine_Learning/blob/master/杭电机器学习课程及代码/2.07%20蘑菇分类实践.ipynb)一节中，我们简单地涉及到了 `LabelEncoding` 的内容，就是将离散的字符型等级变量，如A, B, C, D 等，通过数字编码的方式，变成机器可以识别的数字内容。\n",
    "\n",
    "像 `LabelEncoding` 等对原始数据特征进行一定地组合变换的方法，属于对特征的编码（encoding）方法，这些编码方法由属于**特征工程**的一部分。而众所周知的，特征工程是机器学习工作中最重要环节之一。\n",
    "\n",
    "## 参考数据\n",
    "\n",
    "本节数据出自[Categorical Feature Encoding Challenge](https://www.kaggle.com/c/cat-in-the-dat/discussion/105537)，这是由 Kaggle 提供的专门用于数据特征编码的数据集。\n",
    "\n",
    "代码参考了该比赛中各路网友分享的[notebooks](https://www.kaggle.com/c/cat-in-the-dat/notebooks)：\n",
    "\n",
    "- [An Overview of Encoding Techniques](https://www.kaggle.com/shahules/an-overview-of-encoding-techniques)\n",
    "- [Encoding Cyclical Features for Deep Learning](https://www.kaggle.com/avanwyk/encoding-cyclical-features-for-deep-learning)\n",
    "\n",
    "### 数据说明\n",
    "\n",
    "待补充"
   ]
  },
  {
   "cell_type": "markdown",
   "metadata": {},
   "source": [
    "## 读取数据\n",
    "\n",
    "有需要的话建议自行在官网参赛[下载](https://www.kaggle.com/c/cat-in-the-dat/data)。\n",
    "\n",
    ">百度网盘：\n",
    ">\n",
    ">链接：https://pan.baidu.com/s/1l1Ns4UWAYbh6mO4kgDN5Rg \n",
    ">\n",
    ">提取码：cq3v \n",
    ">\n",
    ">如果失效请在Github提issue，或者从官网下载。"
   ]
  },
  {
   "cell_type": "code",
   "execution_count": 1,
   "metadata": {},
   "outputs": [],
   "source": [
    "import matplotlib.pyplot as plt\n",
    "import numpy as np\n",
    "import pandas as pd\n",
    "\n",
    "from sklearn.model_selection import train_test_split\n",
    "from sklearn.linear_model import LogisticRegression\n",
    "from sklearn.metrics import accuracy_score\n",
    "from sklearn.model_selection import KFold\n",
    "from sklearn import base"
   ]
  },
  {
   "cell_type": "code",
   "execution_count": 2,
   "metadata": {},
   "outputs": [],
   "source": [
    "# 显示所有的列\n",
    "pd.set_option('display.max_columns', None)"
   ]
  },
  {
   "cell_type": "code",
   "execution_count": 3,
   "metadata": {},
   "outputs": [],
   "source": [
    "df_train = pd.read_csv('../datasets/Categorical Feature Encoding Challenge/train.csv')\n",
    "df_test = pd.read_csv('../datasets/Categorical Feature Encoding Challenge/test.csv')\n",
    "sample_submission = pd.read_csv('../datasets/Categorical Feature Encoding Challenge/sample_submission.csv')"
   ]
  },
  {
   "cell_type": "markdown",
   "metadata": {},
   "source": [
    "### 观察数据\n",
    "\n",
    "这里我们会简要预览一下数据的格式，具体的部分数据分析方法在 [2.04 特征的统计学检查](https://github.com/DrDavidS/basic_Machine_Learning/blob/master/%E6%9D%AD%E7%94%B5%E6%9C%BA%E5%99%A8%E5%AD%A6%E4%B9%A0%E8%AF%BE%E7%A8%8B%E5%8F%8A%E4%BB%A3%E7%A0%81/2.04%20%E7%89%B9%E5%BE%81%E7%9A%84%E7%BB%9F%E8%AE%A1%E5%AD%A6%E6%A3%80%E6%9F%A5.ipynb) 和 [2.07 蘑菇分类实践](https://github.com/DrDavidS/basic_Machine_Learning/blob/master/%E6%9D%AD%E7%94%B5%E6%9C%BA%E5%99%A8%E5%AD%A6%E4%B9%A0%E8%AF%BE%E7%A8%8B%E5%8F%8A%E4%BB%A3%E7%A0%81/2.07%20%E8%98%91%E8%8F%87%E5%88%86%E7%B1%BB%E5%AE%9E%E8%B7%B5.ipynb) 中已经有简单实践了。"
   ]
  },
  {
   "cell_type": "code",
   "execution_count": 4,
   "metadata": {},
   "outputs": [
    {
     "data": {
      "text/html": [
       "<div>\n",
       "<style scoped>\n",
       "    .dataframe tbody tr th:only-of-type {\n",
       "        vertical-align: middle;\n",
       "    }\n",
       "\n",
       "    .dataframe tbody tr th {\n",
       "        vertical-align: top;\n",
       "    }\n",
       "\n",
       "    .dataframe thead th {\n",
       "        text-align: right;\n",
       "    }\n",
       "</style>\n",
       "<table border=\"1\" class=\"dataframe\">\n",
       "  <thead>\n",
       "    <tr style=\"text-align: right;\">\n",
       "      <th></th>\n",
       "      <th>id</th>\n",
       "      <th>bin_0</th>\n",
       "      <th>bin_1</th>\n",
       "      <th>bin_2</th>\n",
       "      <th>bin_3</th>\n",
       "      <th>bin_4</th>\n",
       "      <th>nom_0</th>\n",
       "      <th>nom_1</th>\n",
       "      <th>nom_2</th>\n",
       "      <th>nom_3</th>\n",
       "      <th>nom_4</th>\n",
       "      <th>nom_5</th>\n",
       "      <th>nom_6</th>\n",
       "      <th>nom_7</th>\n",
       "      <th>nom_8</th>\n",
       "      <th>nom_9</th>\n",
       "      <th>ord_0</th>\n",
       "      <th>ord_1</th>\n",
       "      <th>ord_2</th>\n",
       "      <th>ord_3</th>\n",
       "      <th>ord_4</th>\n",
       "      <th>ord_5</th>\n",
       "      <th>day</th>\n",
       "      <th>month</th>\n",
       "      <th>target</th>\n",
       "    </tr>\n",
       "  </thead>\n",
       "  <tbody>\n",
       "    <tr>\n",
       "      <td>0</td>\n",
       "      <td>0</td>\n",
       "      <td>0</td>\n",
       "      <td>0</td>\n",
       "      <td>0</td>\n",
       "      <td>T</td>\n",
       "      <td>Y</td>\n",
       "      <td>Green</td>\n",
       "      <td>Triangle</td>\n",
       "      <td>Snake</td>\n",
       "      <td>Finland</td>\n",
       "      <td>Bassoon</td>\n",
       "      <td>50f116bcf</td>\n",
       "      <td>3ac1b8814</td>\n",
       "      <td>68f6ad3e9</td>\n",
       "      <td>c389000ab</td>\n",
       "      <td>2f4cb3d51</td>\n",
       "      <td>2</td>\n",
       "      <td>Grandmaster</td>\n",
       "      <td>Cold</td>\n",
       "      <td>h</td>\n",
       "      <td>D</td>\n",
       "      <td>kr</td>\n",
       "      <td>2</td>\n",
       "      <td>2</td>\n",
       "      <td>0</td>\n",
       "    </tr>\n",
       "    <tr>\n",
       "      <td>1</td>\n",
       "      <td>1</td>\n",
       "      <td>0</td>\n",
       "      <td>1</td>\n",
       "      <td>0</td>\n",
       "      <td>T</td>\n",
       "      <td>Y</td>\n",
       "      <td>Green</td>\n",
       "      <td>Trapezoid</td>\n",
       "      <td>Hamster</td>\n",
       "      <td>Russia</td>\n",
       "      <td>Piano</td>\n",
       "      <td>b3b4d25d0</td>\n",
       "      <td>fbcb50fc1</td>\n",
       "      <td>3b6dd5612</td>\n",
       "      <td>4cd920251</td>\n",
       "      <td>f83c56c21</td>\n",
       "      <td>1</td>\n",
       "      <td>Grandmaster</td>\n",
       "      <td>Hot</td>\n",
       "      <td>a</td>\n",
       "      <td>A</td>\n",
       "      <td>bF</td>\n",
       "      <td>7</td>\n",
       "      <td>8</td>\n",
       "      <td>0</td>\n",
       "    </tr>\n",
       "    <tr>\n",
       "      <td>2</td>\n",
       "      <td>2</td>\n",
       "      <td>0</td>\n",
       "      <td>0</td>\n",
       "      <td>0</td>\n",
       "      <td>F</td>\n",
       "      <td>Y</td>\n",
       "      <td>Blue</td>\n",
       "      <td>Trapezoid</td>\n",
       "      <td>Lion</td>\n",
       "      <td>Russia</td>\n",
       "      <td>Theremin</td>\n",
       "      <td>3263bdce5</td>\n",
       "      <td>0922e3cb8</td>\n",
       "      <td>a6a36f527</td>\n",
       "      <td>de9c9f684</td>\n",
       "      <td>ae6800dd0</td>\n",
       "      <td>1</td>\n",
       "      <td>Expert</td>\n",
       "      <td>Lava Hot</td>\n",
       "      <td>h</td>\n",
       "      <td>R</td>\n",
       "      <td>Jc</td>\n",
       "      <td>7</td>\n",
       "      <td>2</td>\n",
       "      <td>0</td>\n",
       "    </tr>\n",
       "    <tr>\n",
       "      <td>3</td>\n",
       "      <td>3</td>\n",
       "      <td>0</td>\n",
       "      <td>1</td>\n",
       "      <td>0</td>\n",
       "      <td>F</td>\n",
       "      <td>Y</td>\n",
       "      <td>Red</td>\n",
       "      <td>Trapezoid</td>\n",
       "      <td>Snake</td>\n",
       "      <td>Canada</td>\n",
       "      <td>Oboe</td>\n",
       "      <td>f12246592</td>\n",
       "      <td>50d7ad46a</td>\n",
       "      <td>ec69236eb</td>\n",
       "      <td>4ade6ab69</td>\n",
       "      <td>8270f0d71</td>\n",
       "      <td>1</td>\n",
       "      <td>Grandmaster</td>\n",
       "      <td>Boiling Hot</td>\n",
       "      <td>i</td>\n",
       "      <td>D</td>\n",
       "      <td>kW</td>\n",
       "      <td>2</td>\n",
       "      <td>1</td>\n",
       "      <td>1</td>\n",
       "    </tr>\n",
       "    <tr>\n",
       "      <td>4</td>\n",
       "      <td>4</td>\n",
       "      <td>0</td>\n",
       "      <td>0</td>\n",
       "      <td>0</td>\n",
       "      <td>F</td>\n",
       "      <td>N</td>\n",
       "      <td>Red</td>\n",
       "      <td>Trapezoid</td>\n",
       "      <td>Lion</td>\n",
       "      <td>Canada</td>\n",
       "      <td>Oboe</td>\n",
       "      <td>5b0f5acd5</td>\n",
       "      <td>1fe17a1fd</td>\n",
       "      <td>04ddac2be</td>\n",
       "      <td>cb43ab175</td>\n",
       "      <td>b164b72a7</td>\n",
       "      <td>1</td>\n",
       "      <td>Grandmaster</td>\n",
       "      <td>Freezing</td>\n",
       "      <td>a</td>\n",
       "      <td>R</td>\n",
       "      <td>qP</td>\n",
       "      <td>7</td>\n",
       "      <td>8</td>\n",
       "      <td>0</td>\n",
       "    </tr>\n",
       "  </tbody>\n",
       "</table>\n",
       "</div>"
      ],
      "text/plain": [
       "   id  bin_0  bin_1  bin_2 bin_3 bin_4  nom_0      nom_1    nom_2    nom_3  \\\n",
       "0   0      0      0      0     T     Y  Green   Triangle    Snake  Finland   \n",
       "1   1      0      1      0     T     Y  Green  Trapezoid  Hamster   Russia   \n",
       "2   2      0      0      0     F     Y   Blue  Trapezoid     Lion   Russia   \n",
       "3   3      0      1      0     F     Y    Red  Trapezoid    Snake   Canada   \n",
       "4   4      0      0      0     F     N    Red  Trapezoid     Lion   Canada   \n",
       "\n",
       "      nom_4      nom_5      nom_6      nom_7      nom_8      nom_9  ord_0  \\\n",
       "0   Bassoon  50f116bcf  3ac1b8814  68f6ad3e9  c389000ab  2f4cb3d51      2   \n",
       "1     Piano  b3b4d25d0  fbcb50fc1  3b6dd5612  4cd920251  f83c56c21      1   \n",
       "2  Theremin  3263bdce5  0922e3cb8  a6a36f527  de9c9f684  ae6800dd0      1   \n",
       "3      Oboe  f12246592  50d7ad46a  ec69236eb  4ade6ab69  8270f0d71      1   \n",
       "4      Oboe  5b0f5acd5  1fe17a1fd  04ddac2be  cb43ab175  b164b72a7      1   \n",
       "\n",
       "         ord_1        ord_2 ord_3 ord_4 ord_5  day  month  target  \n",
       "0  Grandmaster         Cold     h     D    kr    2      2       0  \n",
       "1  Grandmaster          Hot     a     A    bF    7      8       0  \n",
       "2       Expert     Lava Hot     h     R    Jc    7      2       0  \n",
       "3  Grandmaster  Boiling Hot     i     D    kW    2      1       1  \n",
       "4  Grandmaster     Freezing     a     R    qP    7      8       0  "
      ]
     },
     "execution_count": 4,
     "metadata": {},
     "output_type": "execute_result"
    }
   ],
   "source": [
    "df_train.head()"
   ]
  },
  {
   "cell_type": "code",
   "execution_count": 5,
   "metadata": {},
   "outputs": [
    {
     "data": {
      "text/html": [
       "<div>\n",
       "<style scoped>\n",
       "    .dataframe tbody tr th:only-of-type {\n",
       "        vertical-align: middle;\n",
       "    }\n",
       "\n",
       "    .dataframe tbody tr th {\n",
       "        vertical-align: top;\n",
       "    }\n",
       "\n",
       "    .dataframe thead th {\n",
       "        text-align: right;\n",
       "    }\n",
       "</style>\n",
       "<table border=\"1\" class=\"dataframe\">\n",
       "  <thead>\n",
       "    <tr style=\"text-align: right;\">\n",
       "      <th></th>\n",
       "      <th>id</th>\n",
       "      <th>bin_0</th>\n",
       "      <th>bin_1</th>\n",
       "      <th>bin_2</th>\n",
       "      <th>bin_3</th>\n",
       "      <th>bin_4</th>\n",
       "      <th>nom_0</th>\n",
       "      <th>nom_1</th>\n",
       "      <th>nom_2</th>\n",
       "      <th>nom_3</th>\n",
       "      <th>nom_4</th>\n",
       "      <th>nom_5</th>\n",
       "      <th>nom_6</th>\n",
       "      <th>nom_7</th>\n",
       "      <th>nom_8</th>\n",
       "      <th>nom_9</th>\n",
       "      <th>ord_0</th>\n",
       "      <th>ord_1</th>\n",
       "      <th>ord_2</th>\n",
       "      <th>ord_3</th>\n",
       "      <th>ord_4</th>\n",
       "      <th>ord_5</th>\n",
       "      <th>day</th>\n",
       "      <th>month</th>\n",
       "    </tr>\n",
       "  </thead>\n",
       "  <tbody>\n",
       "    <tr>\n",
       "      <td>0</td>\n",
       "      <td>300000</td>\n",
       "      <td>0</td>\n",
       "      <td>0</td>\n",
       "      <td>1</td>\n",
       "      <td>T</td>\n",
       "      <td>Y</td>\n",
       "      <td>Blue</td>\n",
       "      <td>Triangle</td>\n",
       "      <td>Axolotl</td>\n",
       "      <td>Finland</td>\n",
       "      <td>Piano</td>\n",
       "      <td>0870b0a5d</td>\n",
       "      <td>9ceb19dd6</td>\n",
       "      <td>530f8ecc3</td>\n",
       "      <td>9d117320c</td>\n",
       "      <td>3c49b42b8</td>\n",
       "      <td>2</td>\n",
       "      <td>Novice</td>\n",
       "      <td>Warm</td>\n",
       "      <td>j</td>\n",
       "      <td>P</td>\n",
       "      <td>be</td>\n",
       "      <td>5</td>\n",
       "      <td>11</td>\n",
       "    </tr>\n",
       "    <tr>\n",
       "      <td>1</td>\n",
       "      <td>300001</td>\n",
       "      <td>0</td>\n",
       "      <td>0</td>\n",
       "      <td>0</td>\n",
       "      <td>T</td>\n",
       "      <td>N</td>\n",
       "      <td>Red</td>\n",
       "      <td>Square</td>\n",
       "      <td>Lion</td>\n",
       "      <td>Canada</td>\n",
       "      <td>Piano</td>\n",
       "      <td>a5c276589</td>\n",
       "      <td>1ad744242</td>\n",
       "      <td>12e6161c9</td>\n",
       "      <td>46ae3059c</td>\n",
       "      <td>285771075</td>\n",
       "      <td>1</td>\n",
       "      <td>Master</td>\n",
       "      <td>Lava Hot</td>\n",
       "      <td>l</td>\n",
       "      <td>A</td>\n",
       "      <td>RP</td>\n",
       "      <td>7</td>\n",
       "      <td>5</td>\n",
       "    </tr>\n",
       "    <tr>\n",
       "      <td>2</td>\n",
       "      <td>300002</td>\n",
       "      <td>1</td>\n",
       "      <td>0</td>\n",
       "      <td>1</td>\n",
       "      <td>F</td>\n",
       "      <td>Y</td>\n",
       "      <td>Blue</td>\n",
       "      <td>Square</td>\n",
       "      <td>Dog</td>\n",
       "      <td>China</td>\n",
       "      <td>Piano</td>\n",
       "      <td>568550f04</td>\n",
       "      <td>1fe17a1fd</td>\n",
       "      <td>27d6df03f</td>\n",
       "      <td>b759e21f0</td>\n",
       "      <td>6f323c53f</td>\n",
       "      <td>2</td>\n",
       "      <td>Expert</td>\n",
       "      <td>Freezing</td>\n",
       "      <td>a</td>\n",
       "      <td>G</td>\n",
       "      <td>tP</td>\n",
       "      <td>1</td>\n",
       "      <td>12</td>\n",
       "    </tr>\n",
       "    <tr>\n",
       "      <td>3</td>\n",
       "      <td>300003</td>\n",
       "      <td>0</td>\n",
       "      <td>0</td>\n",
       "      <td>1</td>\n",
       "      <td>T</td>\n",
       "      <td>Y</td>\n",
       "      <td>Red</td>\n",
       "      <td>Star</td>\n",
       "      <td>Cat</td>\n",
       "      <td>China</td>\n",
       "      <td>Piano</td>\n",
       "      <td>c5725677e</td>\n",
       "      <td>a6542cec0</td>\n",
       "      <td>30c63bd0c</td>\n",
       "      <td>0b6ec68ff</td>\n",
       "      <td>b5de3dcc4</td>\n",
       "      <td>1</td>\n",
       "      <td>Contributor</td>\n",
       "      <td>Lava Hot</td>\n",
       "      <td>b</td>\n",
       "      <td>Q</td>\n",
       "      <td>ke</td>\n",
       "      <td>2</td>\n",
       "      <td>3</td>\n",
       "    </tr>\n",
       "    <tr>\n",
       "      <td>4</td>\n",
       "      <td>300004</td>\n",
       "      <td>0</td>\n",
       "      <td>1</td>\n",
       "      <td>1</td>\n",
       "      <td>F</td>\n",
       "      <td>N</td>\n",
       "      <td>Red</td>\n",
       "      <td>Trapezoid</td>\n",
       "      <td>Dog</td>\n",
       "      <td>China</td>\n",
       "      <td>Piano</td>\n",
       "      <td>e70a6270d</td>\n",
       "      <td>97b6a3518</td>\n",
       "      <td>a42386065</td>\n",
       "      <td>f91f3b1ee</td>\n",
       "      <td>967cfa9c9</td>\n",
       "      <td>3</td>\n",
       "      <td>Grandmaster</td>\n",
       "      <td>Lava Hot</td>\n",
       "      <td>l</td>\n",
       "      <td>W</td>\n",
       "      <td>qK</td>\n",
       "      <td>4</td>\n",
       "      <td>11</td>\n",
       "    </tr>\n",
       "  </tbody>\n",
       "</table>\n",
       "</div>"
      ],
      "text/plain": [
       "       id  bin_0  bin_1  bin_2 bin_3 bin_4 nom_0      nom_1    nom_2    nom_3  \\\n",
       "0  300000      0      0      1     T     Y  Blue   Triangle  Axolotl  Finland   \n",
       "1  300001      0      0      0     T     N   Red     Square     Lion   Canada   \n",
       "2  300002      1      0      1     F     Y  Blue     Square      Dog    China   \n",
       "3  300003      0      0      1     T     Y   Red       Star      Cat    China   \n",
       "4  300004      0      1      1     F     N   Red  Trapezoid      Dog    China   \n",
       "\n",
       "   nom_4      nom_5      nom_6      nom_7      nom_8      nom_9  ord_0  \\\n",
       "0  Piano  0870b0a5d  9ceb19dd6  530f8ecc3  9d117320c  3c49b42b8      2   \n",
       "1  Piano  a5c276589  1ad744242  12e6161c9  46ae3059c  285771075      1   \n",
       "2  Piano  568550f04  1fe17a1fd  27d6df03f  b759e21f0  6f323c53f      2   \n",
       "3  Piano  c5725677e  a6542cec0  30c63bd0c  0b6ec68ff  b5de3dcc4      1   \n",
       "4  Piano  e70a6270d  97b6a3518  a42386065  f91f3b1ee  967cfa9c9      3   \n",
       "\n",
       "         ord_1     ord_2 ord_3 ord_4 ord_5  day  month  \n",
       "0       Novice      Warm     j     P    be    5     11  \n",
       "1       Master  Lava Hot     l     A    RP    7      5  \n",
       "2       Expert  Freezing     a     G    tP    1     12  \n",
       "3  Contributor  Lava Hot     b     Q    ke    2      3  \n",
       "4  Grandmaster  Lava Hot     l     W    qK    4     11  "
      ]
     },
     "execution_count": 5,
     "metadata": {},
     "output_type": "execute_result"
    }
   ],
   "source": [
    "df_test.head()"
   ]
  },
  {
   "cell_type": "code",
   "execution_count": 6,
   "metadata": {
    "scrolled": true
   },
   "outputs": [
    {
     "data": {
      "text/html": [
       "<div>\n",
       "<style scoped>\n",
       "    .dataframe tbody tr th:only-of-type {\n",
       "        vertical-align: middle;\n",
       "    }\n",
       "\n",
       "    .dataframe tbody tr th {\n",
       "        vertical-align: top;\n",
       "    }\n",
       "\n",
       "    .dataframe thead th {\n",
       "        text-align: right;\n",
       "    }\n",
       "</style>\n",
       "<table border=\"1\" class=\"dataframe\">\n",
       "  <thead>\n",
       "    <tr style=\"text-align: right;\">\n",
       "      <th></th>\n",
       "      <th>id</th>\n",
       "      <th>target</th>\n",
       "    </tr>\n",
       "  </thead>\n",
       "  <tbody>\n",
       "    <tr>\n",
       "      <td>0</td>\n",
       "      <td>300000</td>\n",
       "      <td>0.5</td>\n",
       "    </tr>\n",
       "    <tr>\n",
       "      <td>1</td>\n",
       "      <td>300001</td>\n",
       "      <td>0.5</td>\n",
       "    </tr>\n",
       "    <tr>\n",
       "      <td>2</td>\n",
       "      <td>300002</td>\n",
       "      <td>0.5</td>\n",
       "    </tr>\n",
       "    <tr>\n",
       "      <td>3</td>\n",
       "      <td>300003</td>\n",
       "      <td>0.5</td>\n",
       "    </tr>\n",
       "    <tr>\n",
       "      <td>4</td>\n",
       "      <td>300004</td>\n",
       "      <td>0.5</td>\n",
       "    </tr>\n",
       "  </tbody>\n",
       "</table>\n",
       "</div>"
      ],
      "text/plain": [
       "       id  target\n",
       "0  300000     0.5\n",
       "1  300001     0.5\n",
       "2  300002     0.5\n",
       "3  300003     0.5\n",
       "4  300004     0.5"
      ]
     },
     "execution_count": 6,
     "metadata": {},
     "output_type": "execute_result"
    }
   ],
   "source": [
    "sample_submission.head()"
   ]
  },
  {
   "cell_type": "markdown",
   "metadata": {},
   "source": [
    "### 数据类型分析\n",
    "\n",
    "#### 匿名数据\n",
    "\n",
    "匿名数据一般指的是给出了数据内容，但是并没有指明这些数据的所在范围或者实际含义的数据。\n",
    "\n",
    "本题中的数据就是匿名数据的一种表现形式，数据集给出了每个id对应的特征，但是并未说明这些特征的实际特征名称，而是简单地用 `bin` 或者 `nom` 等形式替代。\n",
    "\n",
    "#### 反向猜测\n",
    "\n",
    "有的时候匿名数据的特征名称是可以从很多实例的特征取值中反向猜测的。\n",
    "\n",
    "以这份数据集为例子，我们可以依次分析一下每一列数据的特征。\n",
    "\n",
    "#### 实践 - bin类特征\n",
    "\n",
    "首先从 `bin` 类特征开始。 `bin` 一般是 `binary` 的缩写，意思是二进制，换句话说就是这些特征是**二分类**的，如“Yes”或者“No”，又如“True”或者“False”等。"
   ]
  },
  {
   "cell_type": "code",
   "execution_count": 7,
   "metadata": {},
   "outputs": [],
   "source": [
    "# 筛选'bin'特征\n",
    "bin_list = []\n",
    "\n",
    "for column in df_train.columns:\n",
    "    if 'bin' in column:\n",
    "        bin_list.append(column)\n",
    "        \n",
    "df_train_bin = df_train[bin_list]"
   ]
  },
  {
   "cell_type": "code",
   "execution_count": 8,
   "metadata": {
    "scrolled": true
   },
   "outputs": [
    {
     "data": {
      "text/html": [
       "<div>\n",
       "<style scoped>\n",
       "    .dataframe tbody tr th:only-of-type {\n",
       "        vertical-align: middle;\n",
       "    }\n",
       "\n",
       "    .dataframe tbody tr th {\n",
       "        vertical-align: top;\n",
       "    }\n",
       "\n",
       "    .dataframe thead th {\n",
       "        text-align: right;\n",
       "    }\n",
       "</style>\n",
       "<table border=\"1\" class=\"dataframe\">\n",
       "  <thead>\n",
       "    <tr style=\"text-align: right;\">\n",
       "      <th></th>\n",
       "      <th>bin_0</th>\n",
       "      <th>bin_1</th>\n",
       "      <th>bin_2</th>\n",
       "      <th>bin_3</th>\n",
       "      <th>bin_4</th>\n",
       "    </tr>\n",
       "  </thead>\n",
       "  <tbody>\n",
       "    <tr>\n",
       "      <td>0</td>\n",
       "      <td>0</td>\n",
       "      <td>0</td>\n",
       "      <td>0</td>\n",
       "      <td>T</td>\n",
       "      <td>Y</td>\n",
       "    </tr>\n",
       "    <tr>\n",
       "      <td>1</td>\n",
       "      <td>0</td>\n",
       "      <td>1</td>\n",
       "      <td>0</td>\n",
       "      <td>T</td>\n",
       "      <td>Y</td>\n",
       "    </tr>\n",
       "    <tr>\n",
       "      <td>2</td>\n",
       "      <td>0</td>\n",
       "      <td>0</td>\n",
       "      <td>0</td>\n",
       "      <td>F</td>\n",
       "      <td>Y</td>\n",
       "    </tr>\n",
       "    <tr>\n",
       "      <td>3</td>\n",
       "      <td>0</td>\n",
       "      <td>1</td>\n",
       "      <td>0</td>\n",
       "      <td>F</td>\n",
       "      <td>Y</td>\n",
       "    </tr>\n",
       "    <tr>\n",
       "      <td>4</td>\n",
       "      <td>0</td>\n",
       "      <td>0</td>\n",
       "      <td>0</td>\n",
       "      <td>F</td>\n",
       "      <td>N</td>\n",
       "    </tr>\n",
       "    <tr>\n",
       "      <td>5</td>\n",
       "      <td>0</td>\n",
       "      <td>1</td>\n",
       "      <td>1</td>\n",
       "      <td>T</td>\n",
       "      <td>N</td>\n",
       "    </tr>\n",
       "    <tr>\n",
       "      <td>6</td>\n",
       "      <td>0</td>\n",
       "      <td>1</td>\n",
       "      <td>1</td>\n",
       "      <td>T</td>\n",
       "      <td>N</td>\n",
       "    </tr>\n",
       "    <tr>\n",
       "      <td>7</td>\n",
       "      <td>1</td>\n",
       "      <td>0</td>\n",
       "      <td>1</td>\n",
       "      <td>T</td>\n",
       "      <td>Y</td>\n",
       "    </tr>\n",
       "    <tr>\n",
       "      <td>8</td>\n",
       "      <td>1</td>\n",
       "      <td>0</td>\n",
       "      <td>1</td>\n",
       "      <td>T</td>\n",
       "      <td>Y</td>\n",
       "    </tr>\n",
       "    <tr>\n",
       "      <td>9</td>\n",
       "      <td>0</td>\n",
       "      <td>0</td>\n",
       "      <td>0</td>\n",
       "      <td>F</td>\n",
       "      <td>Y</td>\n",
       "    </tr>\n",
       "  </tbody>\n",
       "</table>\n",
       "</div>"
      ],
      "text/plain": [
       "   bin_0  bin_1  bin_2 bin_3 bin_4\n",
       "0      0      0      0     T     Y\n",
       "1      0      1      0     T     Y\n",
       "2      0      0      0     F     Y\n",
       "3      0      1      0     F     Y\n",
       "4      0      0      0     F     N\n",
       "5      0      1      1     T     N\n",
       "6      0      1      1     T     N\n",
       "7      1      0      1     T     Y\n",
       "8      1      0      1     T     Y\n",
       "9      0      0      0     F     Y"
      ]
     },
     "execution_count": 8,
     "metadata": {},
     "output_type": "execute_result"
    }
   ],
   "source": [
    "df_train_bin.head(10)"
   ]
  },
  {
   "cell_type": "markdown",
   "metadata": {},
   "source": [
    "以刚刚筛选出来的5个 binary 特征为例，单从数据上来看似乎无法逆推出每个数据的实际含义。也许还可以继续分析数据分布，然后与后面的其他特征联合分析，这里暂时跳过。"
   ]
  },
  {
   "cell_type": "markdown",
   "metadata": {},
   "source": [
    "#### 实践-nom类特征\n",
    "\n",
    "`nom` 指的是 `nominal` 特征，就是名词类特征，或者叫**分类特征**。这类特征没有数字大小重要性的区别，比如职业/人名等。"
   ]
  },
  {
   "cell_type": "code",
   "execution_count": 9,
   "metadata": {},
   "outputs": [],
   "source": [
    "# 筛选'nom'特征\n",
    "nom_list = []\n",
    "\n",
    "for column in df_train.columns:\n",
    "    if 'nom' in column:\n",
    "        nom_list.append(column)\n",
    "        \n",
    "df_train_nom = df_train[nom_list]"
   ]
  },
  {
   "cell_type": "code",
   "execution_count": 10,
   "metadata": {},
   "outputs": [
    {
     "data": {
      "text/html": [
       "<div>\n",
       "<style scoped>\n",
       "    .dataframe tbody tr th:only-of-type {\n",
       "        vertical-align: middle;\n",
       "    }\n",
       "\n",
       "    .dataframe tbody tr th {\n",
       "        vertical-align: top;\n",
       "    }\n",
       "\n",
       "    .dataframe thead th {\n",
       "        text-align: right;\n",
       "    }\n",
       "</style>\n",
       "<table border=\"1\" class=\"dataframe\">\n",
       "  <thead>\n",
       "    <tr style=\"text-align: right;\">\n",
       "      <th></th>\n",
       "      <th>nom_0</th>\n",
       "      <th>nom_1</th>\n",
       "      <th>nom_2</th>\n",
       "      <th>nom_3</th>\n",
       "      <th>nom_4</th>\n",
       "      <th>nom_5</th>\n",
       "      <th>nom_6</th>\n",
       "      <th>nom_7</th>\n",
       "      <th>nom_8</th>\n",
       "      <th>nom_9</th>\n",
       "    </tr>\n",
       "  </thead>\n",
       "  <tbody>\n",
       "    <tr>\n",
       "      <td>0</td>\n",
       "      <td>Green</td>\n",
       "      <td>Triangle</td>\n",
       "      <td>Snake</td>\n",
       "      <td>Finland</td>\n",
       "      <td>Bassoon</td>\n",
       "      <td>50f116bcf</td>\n",
       "      <td>3ac1b8814</td>\n",
       "      <td>68f6ad3e9</td>\n",
       "      <td>c389000ab</td>\n",
       "      <td>2f4cb3d51</td>\n",
       "    </tr>\n",
       "    <tr>\n",
       "      <td>1</td>\n",
       "      <td>Green</td>\n",
       "      <td>Trapezoid</td>\n",
       "      <td>Hamster</td>\n",
       "      <td>Russia</td>\n",
       "      <td>Piano</td>\n",
       "      <td>b3b4d25d0</td>\n",
       "      <td>fbcb50fc1</td>\n",
       "      <td>3b6dd5612</td>\n",
       "      <td>4cd920251</td>\n",
       "      <td>f83c56c21</td>\n",
       "    </tr>\n",
       "    <tr>\n",
       "      <td>2</td>\n",
       "      <td>Blue</td>\n",
       "      <td>Trapezoid</td>\n",
       "      <td>Lion</td>\n",
       "      <td>Russia</td>\n",
       "      <td>Theremin</td>\n",
       "      <td>3263bdce5</td>\n",
       "      <td>0922e3cb8</td>\n",
       "      <td>a6a36f527</td>\n",
       "      <td>de9c9f684</td>\n",
       "      <td>ae6800dd0</td>\n",
       "    </tr>\n",
       "    <tr>\n",
       "      <td>3</td>\n",
       "      <td>Red</td>\n",
       "      <td>Trapezoid</td>\n",
       "      <td>Snake</td>\n",
       "      <td>Canada</td>\n",
       "      <td>Oboe</td>\n",
       "      <td>f12246592</td>\n",
       "      <td>50d7ad46a</td>\n",
       "      <td>ec69236eb</td>\n",
       "      <td>4ade6ab69</td>\n",
       "      <td>8270f0d71</td>\n",
       "    </tr>\n",
       "    <tr>\n",
       "      <td>4</td>\n",
       "      <td>Red</td>\n",
       "      <td>Trapezoid</td>\n",
       "      <td>Lion</td>\n",
       "      <td>Canada</td>\n",
       "      <td>Oboe</td>\n",
       "      <td>5b0f5acd5</td>\n",
       "      <td>1fe17a1fd</td>\n",
       "      <td>04ddac2be</td>\n",
       "      <td>cb43ab175</td>\n",
       "      <td>b164b72a7</td>\n",
       "    </tr>\n",
       "  </tbody>\n",
       "</table>\n",
       "</div>"
      ],
      "text/plain": [
       "   nom_0      nom_1    nom_2    nom_3     nom_4      nom_5      nom_6  \\\n",
       "0  Green   Triangle    Snake  Finland   Bassoon  50f116bcf  3ac1b8814   \n",
       "1  Green  Trapezoid  Hamster   Russia     Piano  b3b4d25d0  fbcb50fc1   \n",
       "2   Blue  Trapezoid     Lion   Russia  Theremin  3263bdce5  0922e3cb8   \n",
       "3    Red  Trapezoid    Snake   Canada      Oboe  f12246592  50d7ad46a   \n",
       "4    Red  Trapezoid     Lion   Canada      Oboe  5b0f5acd5  1fe17a1fd   \n",
       "\n",
       "       nom_7      nom_8      nom_9  \n",
       "0  68f6ad3e9  c389000ab  2f4cb3d51  \n",
       "1  3b6dd5612  4cd920251  f83c56c21  \n",
       "2  a6a36f527  de9c9f684  ae6800dd0  \n",
       "3  ec69236eb  4ade6ab69  8270f0d71  \n",
       "4  04ddac2be  cb43ab175  b164b72a7  "
      ]
     },
     "execution_count": 10,
     "metadata": {},
     "output_type": "execute_result"
    }
   ],
   "source": [
    "df_train_nom.head()"
   ]
  },
  {
   "cell_type": "code",
   "execution_count": 11,
   "metadata": {},
   "outputs": [
    {
     "data": {
      "text/plain": [
       "['Blue', 'Red', 'Green']"
      ]
     },
     "execution_count": 11,
     "metadata": {},
     "output_type": "execute_result"
    }
   ],
   "source": [
    "list(set(df_train_nom['nom_0'].values))"
   ]
  },
  {
   "cell_type": "code",
   "execution_count": 12,
   "metadata": {},
   "outputs": [
    {
     "data": {
      "text/plain": [
       "['Square', 'Star', 'Trapezoid', 'Circle', 'Polygon', 'Triangle']"
      ]
     },
     "execution_count": 12,
     "metadata": {},
     "output_type": "execute_result"
    }
   ],
   "source": [
    "list(set(df_train_nom['nom_1'].values))"
   ]
  },
  {
   "cell_type": "code",
   "execution_count": 13,
   "metadata": {},
   "outputs": [
    {
     "data": {
      "text/plain": [
       "['Lion', 'Cat', 'Snake', 'Dog', 'Axolotl', 'Hamster']"
      ]
     },
     "execution_count": 13,
     "metadata": {},
     "output_type": "execute_result"
    }
   ],
   "source": [
    "list(set(df_train_nom['nom_2'].values))"
   ]
  },
  {
   "cell_type": "code",
   "execution_count": 14,
   "metadata": {},
   "outputs": [
    {
     "data": {
      "text/plain": [
       "['China', 'Canada', 'Finland', 'India', 'Costa Rica', 'Russia']"
      ]
     },
     "execution_count": 14,
     "metadata": {},
     "output_type": "execute_result"
    }
   ],
   "source": [
    "list(set(df_train_nom['nom_3'].values))"
   ]
  },
  {
   "cell_type": "code",
   "execution_count": 15,
   "metadata": {},
   "outputs": [
    {
     "data": {
      "text/plain": [
       "['Oboe', 'Theremin', 'Bassoon', 'Piano']"
      ]
     },
     "execution_count": 15,
     "metadata": {},
     "output_type": "execute_result"
    }
   ],
   "source": [
    "list(set(df_train_nom['nom_4'].values))"
   ]
  },
  {
   "cell_type": "code",
   "execution_count": 16,
   "metadata": {},
   "outputs": [
    {
     "data": {
      "text/plain": [
       "222"
      ]
     },
     "execution_count": 16,
     "metadata": {},
     "output_type": "execute_result"
    }
   ],
   "source": [
    "len(list(set(df_train_nom['nom_5'].values)))"
   ]
  },
  {
   "cell_type": "code",
   "execution_count": 17,
   "metadata": {},
   "outputs": [
    {
     "data": {
      "text/plain": [
       "522"
      ]
     },
     "execution_count": 17,
     "metadata": {},
     "output_type": "execute_result"
    }
   ],
   "source": [
    "len(list(set(df_train_nom['nom_6'].values)))"
   ]
  },
  {
   "cell_type": "code",
   "execution_count": 18,
   "metadata": {},
   "outputs": [
    {
     "data": {
      "text/plain": [
       "1220"
      ]
     },
     "execution_count": 18,
     "metadata": {},
     "output_type": "execute_result"
    }
   ],
   "source": [
    "len(list(set(df_train_nom['nom_7'].values)))"
   ]
  },
  {
   "cell_type": "code",
   "execution_count": 19,
   "metadata": {},
   "outputs": [
    {
     "data": {
      "text/plain": [
       "2215"
      ]
     },
     "execution_count": 19,
     "metadata": {},
     "output_type": "execute_result"
    }
   ],
   "source": [
    "len(list(set(df_train_nom['nom_8'].values)))"
   ]
  },
  {
   "cell_type": "code",
   "execution_count": 20,
   "metadata": {},
   "outputs": [
    {
     "data": {
      "text/plain": [
       "11981"
      ]
     },
     "execution_count": 20,
     "metadata": {},
     "output_type": "execute_result"
    }
   ],
   "source": [
    "len(list(set(df_train_nom['nom_9'].values)))"
   ]
  },
  {
   "cell_type": "markdown",
   "metadata": {},
   "source": [
    "从上述特征可以大致看出：\n",
    "\n",
    "- nom_0：三种颜色。\n",
    "- nom_1：某些常见形状。\n",
    "- nom_2：可能是一些宠物？但是养狮子的毕竟不多。\n",
    "- nom_3：国籍？或者所在地？\n",
    "- nom_4：可能是乐器？\n",
    "- nom_5：无法猜测。\n",
    "- nom_6：无法猜测。\n",
    "- nom_7：无法猜测。\n",
    "- nom_8：无法猜测。\n",
    "- nom_9：无法猜测。\n",
    "\n",
    "在后几种特征中，特征涵义无法被探知，因为被“加密”了。这类特征也可以叫做**加密特征**。\n",
    "\n",
    "当然我们还没有分析这些特征的分布，如果分析了相关分布也许对我们的反向猜测有所帮助。\n",
    "\n",
    ">比如我们可以合理猜测，后几种加密的特征可能是 id 所在的省/州，县/市/区，以及村/镇/街道等。因为数量是逐级递增的，而且这些属于个人隐私，被加密也是合情合理的。"
   ]
  },
  {
   "cell_type": "markdown",
   "metadata": {},
   "source": [
    "#### 实践-ord类特征\n",
    "\n",
    "`ord` 指 `ordinal` 特征，即序数类特征，类似于等级变量，它有大小之分，有顺序关联，比如用户给电影的打分。"
   ]
  },
  {
   "cell_type": "code",
   "execution_count": 21,
   "metadata": {},
   "outputs": [],
   "source": [
    "# 筛选'bin'特征\n",
    "ord_list = []\n",
    "\n",
    "for column in df_train.columns:\n",
    "    if 'ord' in column:\n",
    "        ord_list.append(column)\n",
    "        \n",
    "df_train_ord = df_train[ord_list]"
   ]
  },
  {
   "cell_type": "code",
   "execution_count": 22,
   "metadata": {},
   "outputs": [
    {
     "data": {
      "text/html": [
       "<div>\n",
       "<style scoped>\n",
       "    .dataframe tbody tr th:only-of-type {\n",
       "        vertical-align: middle;\n",
       "    }\n",
       "\n",
       "    .dataframe tbody tr th {\n",
       "        vertical-align: top;\n",
       "    }\n",
       "\n",
       "    .dataframe thead th {\n",
       "        text-align: right;\n",
       "    }\n",
       "</style>\n",
       "<table border=\"1\" class=\"dataframe\">\n",
       "  <thead>\n",
       "    <tr style=\"text-align: right;\">\n",
       "      <th></th>\n",
       "      <th>ord_0</th>\n",
       "      <th>ord_1</th>\n",
       "      <th>ord_2</th>\n",
       "      <th>ord_3</th>\n",
       "      <th>ord_4</th>\n",
       "      <th>ord_5</th>\n",
       "    </tr>\n",
       "  </thead>\n",
       "  <tbody>\n",
       "    <tr>\n",
       "      <td>0</td>\n",
       "      <td>2</td>\n",
       "      <td>Grandmaster</td>\n",
       "      <td>Cold</td>\n",
       "      <td>h</td>\n",
       "      <td>D</td>\n",
       "      <td>kr</td>\n",
       "    </tr>\n",
       "    <tr>\n",
       "      <td>1</td>\n",
       "      <td>1</td>\n",
       "      <td>Grandmaster</td>\n",
       "      <td>Hot</td>\n",
       "      <td>a</td>\n",
       "      <td>A</td>\n",
       "      <td>bF</td>\n",
       "    </tr>\n",
       "    <tr>\n",
       "      <td>2</td>\n",
       "      <td>1</td>\n",
       "      <td>Expert</td>\n",
       "      <td>Lava Hot</td>\n",
       "      <td>h</td>\n",
       "      <td>R</td>\n",
       "      <td>Jc</td>\n",
       "    </tr>\n",
       "    <tr>\n",
       "      <td>3</td>\n",
       "      <td>1</td>\n",
       "      <td>Grandmaster</td>\n",
       "      <td>Boiling Hot</td>\n",
       "      <td>i</td>\n",
       "      <td>D</td>\n",
       "      <td>kW</td>\n",
       "    </tr>\n",
       "    <tr>\n",
       "      <td>4</td>\n",
       "      <td>1</td>\n",
       "      <td>Grandmaster</td>\n",
       "      <td>Freezing</td>\n",
       "      <td>a</td>\n",
       "      <td>R</td>\n",
       "      <td>qP</td>\n",
       "    </tr>\n",
       "  </tbody>\n",
       "</table>\n",
       "</div>"
      ],
      "text/plain": [
       "   ord_0        ord_1        ord_2 ord_3 ord_4 ord_5\n",
       "0      2  Grandmaster         Cold     h     D    kr\n",
       "1      1  Grandmaster          Hot     a     A    bF\n",
       "2      1       Expert     Lava Hot     h     R    Jc\n",
       "3      1  Grandmaster  Boiling Hot     i     D    kW\n",
       "4      1  Grandmaster     Freezing     a     R    qP"
      ]
     },
     "execution_count": 22,
     "metadata": {},
     "output_type": "execute_result"
    }
   ],
   "source": [
    "df_train_ord.head()"
   ]
  },
  {
   "cell_type": "code",
   "execution_count": 23,
   "metadata": {},
   "outputs": [
    {
     "data": {
      "text/plain": [
       "[1, 2, 3]"
      ]
     },
     "execution_count": 23,
     "metadata": {},
     "output_type": "execute_result"
    }
   ],
   "source": [
    "list(set(df_train_ord['ord_0'].values))"
   ]
  },
  {
   "cell_type": "code",
   "execution_count": 24,
   "metadata": {},
   "outputs": [
    {
     "data": {
      "text/plain": [
       "['Grandmaster', 'Master', 'Expert', 'Contributor', 'Novice']"
      ]
     },
     "execution_count": 24,
     "metadata": {},
     "output_type": "execute_result"
    }
   ],
   "source": [
    "list(set(df_train_ord['ord_1'].values))"
   ]
  },
  {
   "cell_type": "code",
   "execution_count": 25,
   "metadata": {},
   "outputs": [
    {
     "data": {
      "text/plain": [
       "['Warm', 'Freezing', 'Hot', 'Boiling Hot', 'Lava Hot', 'Cold']"
      ]
     },
     "execution_count": 25,
     "metadata": {},
     "output_type": "execute_result"
    }
   ],
   "source": [
    "list(set(df_train_ord['ord_2'].values))"
   ]
  },
  {
   "cell_type": "code",
   "execution_count": 26,
   "metadata": {},
   "outputs": [
    {
     "data": {
      "text/plain": [
       "['e', 'c', 'a', 'k', 'o', 'm', 'h', 'n', 'd', 'b', 'i', 'f', 'g', 'j', 'l']"
      ]
     },
     "execution_count": 26,
     "metadata": {},
     "output_type": "execute_result"
    }
   ],
   "source": [
    "list(set(df_train_ord['ord_3'].values))"
   ]
  },
  {
   "cell_type": "code",
   "execution_count": 27,
   "metadata": {},
   "outputs": [
    {
     "data": {
      "text/plain": [
       "26"
      ]
     },
     "execution_count": 27,
     "metadata": {},
     "output_type": "execute_result"
    }
   ],
   "source": [
    "len(list(set(df_train_ord['ord_4'].values)))"
   ]
  },
  {
   "cell_type": "code",
   "execution_count": 28,
   "metadata": {},
   "outputs": [
    {
     "data": {
      "text/plain": [
       "192"
      ]
     },
     "execution_count": 28,
     "metadata": {},
     "output_type": "execute_result"
    }
   ],
   "source": [
    "len(list(set(df_train_ord['ord_5'].values)))"
   ]
  },
  {
   "cell_type": "markdown",
   "metadata": {},
   "source": [
    "从上述特征可以大致看出：\n",
    "\n",
    "- ord_0：三种类别。\n",
    "- ord_1：Kaggle 等级\n",
    "- ord_2：可能是某些气候？或者当地温度？\n",
    "- ord_3：难以猜测。\n",
    "- ord_4：难以猜测。\n",
    "- ord_5：难以猜测。\n",
    "\n",
    "------------\n",
    "\n",
    "#### 时间序列类数据\n",
    "\n",
    "最后的 `day` 和  `month` 就是日期数据，我们可以据此查找时间变化趋势。\n",
    "\n",
    "#### target\n",
    "\n",
    "最后我们分析一下目标："
   ]
  },
  {
   "cell_type": "code",
   "execution_count": 29,
   "metadata": {},
   "outputs": [
    {
     "data": {
      "text/plain": [
       "{0, 1}"
      ]
     },
     "execution_count": 29,
     "metadata": {},
     "output_type": "execute_result"
    }
   ],
   "source": [
    "set(df_train['target'].values)"
   ]
  },
  {
   "cell_type": "markdown",
   "metadata": {},
   "source": [
    "故这是一个二分类任务数据集。"
   ]
  },
  {
   "cell_type": "markdown",
   "metadata": {},
   "source": [
    "## Label Encoding\n",
    "\n",
    "在 **Label Encoding** 中，我们简单地将每个分类地数据都替换为一个数字（通常是正整数）。\n",
    "\n",
    "例如我们把“猫”设定为 1 ，把“狗”设定为 2， 把“仓鼠”设定为 3 等等。"
   ]
  },
  {
   "cell_type": "code",
   "execution_count": 30,
   "metadata": {},
   "outputs": [],
   "source": [
    "from sklearn.preprocessing import LabelEncoder"
   ]
  },
  {
   "cell_type": "code",
   "execution_count": 31,
   "metadata": {},
   "outputs": [],
   "source": [
    "X = df_train.drop(['target'], axis=1)\n",
    "y = df_train['target']"
   ]
  },
  {
   "cell_type": "code",
   "execution_count": 32,
   "metadata": {},
   "outputs": [],
   "source": [
    "df_train_LE = pd.DataFrame()\n",
    "label = LabelEncoder()\n",
    "\n",
    "# 如果是Object特征就进行编码\n",
    "for c in X.columns:\n",
    "    if (X[c].dtype == 'object'):\n",
    "        df_train_LE[c]=label.fit_transform(X[c])\n",
    "    else:\n",
    "        df_train_LE[c]=X[c]"
   ]
  },
  {
   "cell_type": "code",
   "execution_count": 33,
   "metadata": {},
   "outputs": [
    {
     "data": {
      "text/html": [
       "<div>\n",
       "<style scoped>\n",
       "    .dataframe tbody tr th:only-of-type {\n",
       "        vertical-align: middle;\n",
       "    }\n",
       "\n",
       "    .dataframe tbody tr th {\n",
       "        vertical-align: top;\n",
       "    }\n",
       "\n",
       "    .dataframe thead th {\n",
       "        text-align: right;\n",
       "    }\n",
       "</style>\n",
       "<table border=\"1\" class=\"dataframe\">\n",
       "  <thead>\n",
       "    <tr style=\"text-align: right;\">\n",
       "      <th></th>\n",
       "      <th>id</th>\n",
       "      <th>bin_0</th>\n",
       "      <th>bin_1</th>\n",
       "      <th>bin_2</th>\n",
       "      <th>bin_3</th>\n",
       "      <th>bin_4</th>\n",
       "      <th>nom_0</th>\n",
       "      <th>nom_1</th>\n",
       "      <th>nom_2</th>\n",
       "      <th>nom_3</th>\n",
       "      <th>nom_4</th>\n",
       "      <th>nom_5</th>\n",
       "      <th>nom_6</th>\n",
       "      <th>nom_7</th>\n",
       "      <th>nom_8</th>\n",
       "      <th>nom_9</th>\n",
       "      <th>ord_0</th>\n",
       "      <th>ord_1</th>\n",
       "      <th>ord_2</th>\n",
       "      <th>ord_3</th>\n",
       "      <th>ord_4</th>\n",
       "      <th>ord_5</th>\n",
       "      <th>day</th>\n",
       "      <th>month</th>\n",
       "    </tr>\n",
       "  </thead>\n",
       "  <tbody>\n",
       "    <tr>\n",
       "      <td>0</td>\n",
       "      <td>0</td>\n",
       "      <td>0</td>\n",
       "      <td>0</td>\n",
       "      <td>0</td>\n",
       "      <td>1</td>\n",
       "      <td>1</td>\n",
       "      <td>1</td>\n",
       "      <td>5</td>\n",
       "      <td>5</td>\n",
       "      <td>3</td>\n",
       "      <td>0</td>\n",
       "      <td>78</td>\n",
       "      <td>120</td>\n",
       "      <td>491</td>\n",
       "      <td>1686</td>\n",
       "      <td>2175</td>\n",
       "      <td>2</td>\n",
       "      <td>2</td>\n",
       "      <td>1</td>\n",
       "      <td>7</td>\n",
       "      <td>3</td>\n",
       "      <td>136</td>\n",
       "      <td>2</td>\n",
       "      <td>2</td>\n",
       "    </tr>\n",
       "    <tr>\n",
       "      <td>1</td>\n",
       "      <td>1</td>\n",
       "      <td>0</td>\n",
       "      <td>1</td>\n",
       "      <td>0</td>\n",
       "      <td>1</td>\n",
       "      <td>1</td>\n",
       "      <td>1</td>\n",
       "      <td>4</td>\n",
       "      <td>3</td>\n",
       "      <td>5</td>\n",
       "      <td>2</td>\n",
       "      <td>159</td>\n",
       "      <td>510</td>\n",
       "      <td>260</td>\n",
       "      <td>650</td>\n",
       "      <td>11635</td>\n",
       "      <td>1</td>\n",
       "      <td>2</td>\n",
       "      <td>3</td>\n",
       "      <td>0</td>\n",
       "      <td>0</td>\n",
       "      <td>93</td>\n",
       "      <td>7</td>\n",
       "      <td>8</td>\n",
       "    </tr>\n",
       "    <tr>\n",
       "      <td>2</td>\n",
       "      <td>2</td>\n",
       "      <td>0</td>\n",
       "      <td>0</td>\n",
       "      <td>0</td>\n",
       "      <td>0</td>\n",
       "      <td>1</td>\n",
       "      <td>0</td>\n",
       "      <td>4</td>\n",
       "      <td>4</td>\n",
       "      <td>5</td>\n",
       "      <td>3</td>\n",
       "      <td>44</td>\n",
       "      <td>14</td>\n",
       "      <td>766</td>\n",
       "      <td>1932</td>\n",
       "      <td>8078</td>\n",
       "      <td>1</td>\n",
       "      <td>1</td>\n",
       "      <td>4</td>\n",
       "      <td>7</td>\n",
       "      <td>17</td>\n",
       "      <td>31</td>\n",
       "      <td>7</td>\n",
       "      <td>2</td>\n",
       "    </tr>\n",
       "    <tr>\n",
       "      <td>3</td>\n",
       "      <td>3</td>\n",
       "      <td>0</td>\n",
       "      <td>1</td>\n",
       "      <td>0</td>\n",
       "      <td>0</td>\n",
       "      <td>1</td>\n",
       "      <td>2</td>\n",
       "      <td>4</td>\n",
       "      <td>5</td>\n",
       "      <td>0</td>\n",
       "      <td>1</td>\n",
       "      <td>209</td>\n",
       "      <td>165</td>\n",
       "      <td>1121</td>\n",
       "      <td>629</td>\n",
       "      <td>6056</td>\n",
       "      <td>1</td>\n",
       "      <td>2</td>\n",
       "      <td>0</td>\n",
       "      <td>8</td>\n",
       "      <td>3</td>\n",
       "      <td>134</td>\n",
       "      <td>2</td>\n",
       "      <td>1</td>\n",
       "    </tr>\n",
       "    <tr>\n",
       "      <td>4</td>\n",
       "      <td>4</td>\n",
       "      <td>0</td>\n",
       "      <td>0</td>\n",
       "      <td>0</td>\n",
       "      <td>0</td>\n",
       "      <td>0</td>\n",
       "      <td>2</td>\n",
       "      <td>4</td>\n",
       "      <td>4</td>\n",
       "      <td>0</td>\n",
       "      <td>1</td>\n",
       "      <td>90</td>\n",
       "      <td>61</td>\n",
       "      <td>34</td>\n",
       "      <td>1760</td>\n",
       "      <td>8231</td>\n",
       "      <td>1</td>\n",
       "      <td>2</td>\n",
       "      <td>2</td>\n",
       "      <td>0</td>\n",
       "      <td>17</td>\n",
       "      <td>158</td>\n",
       "      <td>7</td>\n",
       "      <td>8</td>\n",
       "    </tr>\n",
       "  </tbody>\n",
       "</table>\n",
       "</div>"
      ],
      "text/plain": [
       "   id  bin_0  bin_1  bin_2  bin_3  bin_4  nom_0  nom_1  nom_2  nom_3  nom_4  \\\n",
       "0   0      0      0      0      1      1      1      5      5      3      0   \n",
       "1   1      0      1      0      1      1      1      4      3      5      2   \n",
       "2   2      0      0      0      0      1      0      4      4      5      3   \n",
       "3   3      0      1      0      0      1      2      4      5      0      1   \n",
       "4   4      0      0      0      0      0      2      4      4      0      1   \n",
       "\n",
       "   nom_5  nom_6  nom_7  nom_8  nom_9  ord_0  ord_1  ord_2  ord_3  ord_4  \\\n",
       "0     78    120    491   1686   2175      2      2      1      7      3   \n",
       "1    159    510    260    650  11635      1      2      3      0      0   \n",
       "2     44     14    766   1932   8078      1      1      4      7     17   \n",
       "3    209    165   1121    629   6056      1      2      0      8      3   \n",
       "4     90     61     34   1760   8231      1      2      2      0     17   \n",
       "\n",
       "   ord_5  day  month  \n",
       "0    136    2      2  \n",
       "1     93    7      8  \n",
       "2     31    7      2  \n",
       "3    134    2      1  \n",
       "4    158    7      8  "
      ]
     },
     "execution_count": 33,
     "metadata": {},
     "output_type": "execute_result"
    }
   ],
   "source": [
    "df_train_LE.head()"
   ]
  },
  {
   "cell_type": "markdown",
   "metadata": {},
   "source": [
    "## OneHot Encoding\n",
    "\n",
    "OneHot Encoding 是一种非常常用的编码方法，中文名叫“独热码”或者“独热编码”，常常也简称为“One Hot”。\n",
    "\n",
    "它把每个类别编码为一个独热编码向量，在每个独热编码中，除非该实例有这个独热编码的特征（为 1），否则均为 0。\n",
    "\n",
    "One Hot 会让特征矩阵变得非常稀疏，也就是 0 元素非常多。"
   ]
  },
  {
   "cell_type": "code",
   "execution_count": 34,
   "metadata": {},
   "outputs": [],
   "source": [
    "from sklearn.preprocessing import OneHotEncoder"
   ]
  },
  {
   "cell_type": "code",
   "execution_count": 35,
   "metadata": {},
   "outputs": [],
   "source": [
    "one = OneHotEncoder()\n",
    "\n",
    "one.fit(X)\n",
    "df_train_OHE = one.transform(X)"
   ]
  },
  {
   "cell_type": "code",
   "execution_count": 36,
   "metadata": {},
   "outputs": [
    {
     "data": {
      "text/plain": [
       "<300000x316461 sparse matrix of type '<class 'numpy.float64'>'\n",
       "\twith 7200000 stored elements in Compressed Sparse Row format>"
      ]
     },
     "execution_count": 36,
     "metadata": {},
     "output_type": "execute_result"
    }
   ],
   "source": [
    "df_train_OHE"
   ]
  },
  {
   "cell_type": "code",
   "execution_count": 37,
   "metadata": {},
   "outputs": [
    {
     "data": {
      "text/plain": [
       "(300000, 316461)"
      ]
     },
     "execution_count": 37,
     "metadata": {},
     "output_type": "execute_result"
    }
   ],
   "source": [
    "df_train_OHE.shape"
   ]
  },
  {
   "cell_type": "markdown",
   "metadata": {},
   "source": [
    "我们可以看出，采用了 One Hot 编码以后，整个矩阵变得非常巨大而稀疏。所以通常会有选择性地应用 One Hot 编码方法。"
   ]
  },
  {
   "cell_type": "markdown",
   "metadata": {},
   "source": [
    "## Feature Hashing\n",
    "\n",
    "由于采用 One Hot Encoding 会创建一个非常高维的稀疏矩阵，这种数据对于大多数机器学习算法来说都不是非常友好。\n",
    "\n",
    "如果我们采用**特征哈希**算法，可以将原始数据转换为指定范围内的散列值，这样，被哈希处理之后的特征并不会像 One Hot 编码那样稀疏。\n",
    "\n",
    "特征哈希是一种低内存，高速度的方法。但是其缺点在于无法逆推回原始特征。相比之下，One Hot是可以逆推回原始特征的。\n",
    "\n",
    "详细的论述可以参见[Feature hashing](https://scikit-learn.org/stable/modules/feature_extraction.html#feature-hashing)。"
   ]
  },
  {
   "cell_type": "code",
   "execution_count": 38,
   "metadata": {},
   "outputs": [
    {
     "data": {
      "text/html": [
       "<div>\n",
       "<style scoped>\n",
       "    .dataframe tbody tr th:only-of-type {\n",
       "        vertical-align: middle;\n",
       "    }\n",
       "\n",
       "    .dataframe tbody tr th {\n",
       "        vertical-align: top;\n",
       "    }\n",
       "\n",
       "    .dataframe thead th {\n",
       "        text-align: right;\n",
       "    }\n",
       "</style>\n",
       "<table border=\"1\" class=\"dataframe\">\n",
       "  <thead>\n",
       "    <tr style=\"text-align: right;\">\n",
       "      <th></th>\n",
       "      <th>ord_0</th>\n",
       "      <th>ord_1</th>\n",
       "    </tr>\n",
       "  </thead>\n",
       "  <tbody>\n",
       "    <tr>\n",
       "      <td>0</td>\n",
       "      <td>2</td>\n",
       "      <td>Grandmaster</td>\n",
       "    </tr>\n",
       "    <tr>\n",
       "      <td>1</td>\n",
       "      <td>1</td>\n",
       "      <td>Grandmaster</td>\n",
       "    </tr>\n",
       "    <tr>\n",
       "      <td>2</td>\n",
       "      <td>1</td>\n",
       "      <td>Expert</td>\n",
       "    </tr>\n",
       "    <tr>\n",
       "      <td>3</td>\n",
       "      <td>1</td>\n",
       "      <td>Grandmaster</td>\n",
       "    </tr>\n",
       "    <tr>\n",
       "      <td>4</td>\n",
       "      <td>1</td>\n",
       "      <td>Grandmaster</td>\n",
       "    </tr>\n",
       "    <tr>\n",
       "      <td>5</td>\n",
       "      <td>1</td>\n",
       "      <td>Novice</td>\n",
       "    </tr>\n",
       "    <tr>\n",
       "      <td>6</td>\n",
       "      <td>2</td>\n",
       "      <td>Grandmaster</td>\n",
       "    </tr>\n",
       "    <tr>\n",
       "      <td>7</td>\n",
       "      <td>1</td>\n",
       "      <td>Novice</td>\n",
       "    </tr>\n",
       "    <tr>\n",
       "      <td>8</td>\n",
       "      <td>2</td>\n",
       "      <td>Novice</td>\n",
       "    </tr>\n",
       "    <tr>\n",
       "      <td>9</td>\n",
       "      <td>1</td>\n",
       "      <td>Expert</td>\n",
       "    </tr>\n",
       "  </tbody>\n",
       "</table>\n",
       "</div>"
      ],
      "text/plain": [
       "   ord_0        ord_1\n",
       "0      2  Grandmaster\n",
       "1      1  Grandmaster\n",
       "2      1       Expert\n",
       "3      1  Grandmaster\n",
       "4      1  Grandmaster\n",
       "5      1       Novice\n",
       "6      2  Grandmaster\n",
       "7      1       Novice\n",
       "8      2       Novice\n",
       "9      1       Expert"
      ]
     },
     "execution_count": 38,
     "metadata": {},
     "output_type": "execute_result"
    }
   ],
   "source": [
    "df_train_2columns = df_train_ord[['ord_0', 'ord_1']]\n",
    "df_train_2columns.head(10)"
   ]
  },
  {
   "cell_type": "code",
   "execution_count": 39,
   "metadata": {},
   "outputs": [],
   "source": [
    "from sklearn.feature_extraction import FeatureHasher"
   ]
  },
  {
   "cell_type": "code",
   "execution_count": 40,
   "metadata": {},
   "outputs": [],
   "source": [
    "X_train_hash = X.copy()\n",
    "\n",
    "for c in X.columns:\n",
    "    X_train_hash[c]=X[c].astype('str')  \n",
    "\n",
    "hashing = FeatureHasher(input_type='string')\n",
    "train = hashing.transform(X_train_hash.values)"
   ]
  },
  {
   "cell_type": "code",
   "execution_count": 45,
   "metadata": {},
   "outputs": [
    {
     "data": {
      "text/plain": [
       "<300000x1048576 sparse matrix of type '<class 'numpy.float64'>'\n",
       "\twith 6483672 stored elements in Compressed Sparse Row format>"
      ]
     },
     "execution_count": 45,
     "metadata": {},
     "output_type": "execute_result"
    }
   ],
   "source": [
    "train"
   ]
  },
  {
   "cell_type": "code",
   "execution_count": 44,
   "metadata": {},
   "outputs": [
    {
     "data": {
      "text/plain": [
       "FeatureHasher(alternate_sign=True, dtype=<class 'numpy.float64'>,\n",
       "              input_type='string', n_features=1048576)"
      ]
     },
     "execution_count": 44,
     "metadata": {},
     "output_type": "execute_result"
    }
   ],
   "source": [
    "# 查看hash参数\n",
    "hashing"
   ]
  },
  {
   "cell_type": "markdown",
   "metadata": {},
   "source": [
    "实际上这里产生的矩阵似乎比上面 One Hot 编码产生的矩阵还要大。但是在更大的数据集上，特征哈希算法会更节省内存。因为其输出特征维度会保持在 `n_features=1048576` 。"
   ]
  },
  {
   "cell_type": "markdown",
   "metadata": {},
   "source": [
    "## Encoding categories with dataset statistics\n",
    "\n",
    "将类别转换为我们在数据集中见过的他们出现的次数。因为次数接近说明两种特征可能更接近。"
   ]
  },
  {
   "cell_type": "code",
   "execution_count": 46,
   "metadata": {},
   "outputs": [],
   "source": [
    "X_train_stat = X.copy()  # 复制数据集\n",
    "\n",
    "for c in X_train_stat.columns:\n",
    "    if (X_train_stat[c].dtype == 'object'):  # 如果是Object类型\n",
    "        X_train_stat[c] = X_train_stat[c].astype('category')  # 改变类型\n",
    "        counts = X_train_stat[c].value_counts()  # 统计次数\n",
    "        counts = counts.sort_index()  # 从低到高\n",
    "        counts = counts.fillna(0)\n",
    "        counts += np.random.rand(len(counts)) / 1000  # 增加一个随机小数\n",
    "        X_train_stat[c].cat.categories = counts  # 写回 DataFrame 中"
   ]
  },
  {
   "cell_type": "markdown",
   "metadata": {},
   "source": [
    "以 `bin_3` 为例子稍微分析一下这段代码的意义。\n",
    "\n",
    "首先统计数量。"
   ]
  },
  {
   "cell_type": "code",
   "execution_count": 47,
   "metadata": {},
   "outputs": [
    {
     "data": {
      "text/plain": [
       "F    146465\n",
       "T    153535\n",
       "Name: bin_3, dtype: int64"
      ]
     },
     "execution_count": 47,
     "metadata": {},
     "output_type": "execute_result"
    }
   ],
   "source": [
    "counts = df_train['bin_3'].value_counts()  # 统计次数\n",
    "counts = counts.sort_index()\n",
    "counts"
   ]
  },
  {
   "cell_type": "markdown",
   "metadata": {},
   "source": [
    "其次增加一个随机极小数字，用作区别。"
   ]
  },
  {
   "cell_type": "code",
   "execution_count": 48,
   "metadata": {},
   "outputs": [
    {
     "data": {
      "text/plain": [
       "array([0.00021718, 0.00066108])"
      ]
     },
     "execution_count": 48,
     "metadata": {},
     "output_type": "execute_result"
    }
   ],
   "source": [
    "np.random.rand(len(counts)) / 1000"
   ]
  },
  {
   "cell_type": "code",
   "execution_count": 49,
   "metadata": {},
   "outputs": [
    {
     "data": {
      "text/html": [
       "<div>\n",
       "<style scoped>\n",
       "    .dataframe tbody tr th:only-of-type {\n",
       "        vertical-align: middle;\n",
       "    }\n",
       "\n",
       "    .dataframe tbody tr th {\n",
       "        vertical-align: top;\n",
       "    }\n",
       "\n",
       "    .dataframe thead th {\n",
       "        text-align: right;\n",
       "    }\n",
       "</style>\n",
       "<table border=\"1\" class=\"dataframe\">\n",
       "  <thead>\n",
       "    <tr style=\"text-align: right;\">\n",
       "      <th></th>\n",
       "      <th>id</th>\n",
       "      <th>bin_0</th>\n",
       "      <th>bin_1</th>\n",
       "      <th>bin_2</th>\n",
       "      <th>bin_3</th>\n",
       "      <th>bin_4</th>\n",
       "      <th>nom_0</th>\n",
       "      <th>nom_1</th>\n",
       "      <th>nom_2</th>\n",
       "      <th>nom_3</th>\n",
       "      <th>nom_4</th>\n",
       "      <th>nom_5</th>\n",
       "      <th>nom_6</th>\n",
       "      <th>nom_7</th>\n",
       "      <th>nom_8</th>\n",
       "      <th>nom_9</th>\n",
       "      <th>ord_0</th>\n",
       "      <th>ord_1</th>\n",
       "      <th>ord_2</th>\n",
       "      <th>ord_3</th>\n",
       "      <th>ord_4</th>\n",
       "      <th>ord_5</th>\n",
       "      <th>day</th>\n",
       "      <th>month</th>\n",
       "    </tr>\n",
       "  </thead>\n",
       "  <tbody>\n",
       "    <tr>\n",
       "      <td>0</td>\n",
       "      <td>0</td>\n",
       "      <td>0</td>\n",
       "      <td>0</td>\n",
       "      <td>0</td>\n",
       "      <td>153535.000834</td>\n",
       "      <td>191633.000853</td>\n",
       "      <td>127341.000670</td>\n",
       "      <td>29855.000318</td>\n",
       "      <td>45979.000241</td>\n",
       "      <td>36942.000937</td>\n",
       "      <td>68448.000933</td>\n",
       "      <td>2594.000743</td>\n",
       "      <td>1148.000434</td>\n",
       "      <td>241.000745</td>\n",
       "      <td>271.000070</td>\n",
       "      <td>19.000593</td>\n",
       "      <td>2</td>\n",
       "      <td>77428.000918</td>\n",
       "      <td>33768.000950</td>\n",
       "      <td>24740.000069</td>\n",
       "      <td>3974.000647</td>\n",
       "      <td>506.000110</td>\n",
       "      <td>2</td>\n",
       "      <td>2</td>\n",
       "    </tr>\n",
       "    <tr>\n",
       "      <td>1</td>\n",
       "      <td>1</td>\n",
       "      <td>0</td>\n",
       "      <td>1</td>\n",
       "      <td>0</td>\n",
       "      <td>153535.000834</td>\n",
       "      <td>191633.000853</td>\n",
       "      <td>127341.000670</td>\n",
       "      <td>101181.000803</td>\n",
       "      <td>29487.000574</td>\n",
       "      <td>101123.000283</td>\n",
       "      <td>84517.000535</td>\n",
       "      <td>792.000556</td>\n",
       "      <td>842.000949</td>\n",
       "      <td>287.000828</td>\n",
       "      <td>111.000312</td>\n",
       "      <td>13.000449</td>\n",
       "      <td>1</td>\n",
       "      <td>77428.000918</td>\n",
       "      <td>22227.000223</td>\n",
       "      <td>35276.000614</td>\n",
       "      <td>18258.000626</td>\n",
       "      <td>2603.000217</td>\n",
       "      <td>7</td>\n",
       "      <td>8</td>\n",
       "    </tr>\n",
       "    <tr>\n",
       "      <td>2</td>\n",
       "      <td>2</td>\n",
       "      <td>0</td>\n",
       "      <td>0</td>\n",
       "      <td>0</td>\n",
       "      <td>146465.000439</td>\n",
       "      <td>191633.000853</td>\n",
       "      <td>96166.000131</td>\n",
       "      <td>101181.000803</td>\n",
       "      <td>101295.000503</td>\n",
       "      <td>101123.000283</td>\n",
       "      <td>54742.000610</td>\n",
       "      <td>2524.000585</td>\n",
       "      <td>1169.000711</td>\n",
       "      <td>475.000955</td>\n",
       "      <td>278.000726</td>\n",
       "      <td>29.000628</td>\n",
       "      <td>1</td>\n",
       "      <td>25065.000944</td>\n",
       "      <td>63908.000740</td>\n",
       "      <td>24740.000069</td>\n",
       "      <td>16927.000550</td>\n",
       "      <td>2572.000482</td>\n",
       "      <td>7</td>\n",
       "      <td>2</td>\n",
       "    </tr>\n",
       "    <tr>\n",
       "      <td>3</td>\n",
       "      <td>3</td>\n",
       "      <td>0</td>\n",
       "      <td>1</td>\n",
       "      <td>0</td>\n",
       "      <td>146465.000439</td>\n",
       "      <td>191633.000853</td>\n",
       "      <td>76493.000766</td>\n",
       "      <td>101181.000803</td>\n",
       "      <td>45979.000241</td>\n",
       "      <td>49951.000427</td>\n",
       "      <td>92293.000778</td>\n",
       "      <td>975.000473</td>\n",
       "      <td>1175.000072</td>\n",
       "      <td>442.000311</td>\n",
       "      <td>203.000110</td>\n",
       "      <td>44.000194</td>\n",
       "      <td>1</td>\n",
       "      <td>77428.000918</td>\n",
       "      <td>60627.000894</td>\n",
       "      <td>28048.000406</td>\n",
       "      <td>3974.000647</td>\n",
       "      <td>2590.000842</td>\n",
       "      <td>2</td>\n",
       "      <td>1</td>\n",
       "    </tr>\n",
       "    <tr>\n",
       "      <td>4</td>\n",
       "      <td>4</td>\n",
       "      <td>0</td>\n",
       "      <td>0</td>\n",
       "      <td>0</td>\n",
       "      <td>146465.000439</td>\n",
       "      <td>108367.000326</td>\n",
       "      <td>76493.000766</td>\n",
       "      <td>101181.000803</td>\n",
       "      <td>101295.000503</td>\n",
       "      <td>49951.000427</td>\n",
       "      <td>92293.000778</td>\n",
       "      <td>2010.000865</td>\n",
       "      <td>1157.000949</td>\n",
       "      <td>436.000725</td>\n",
       "      <td>207.000920</td>\n",
       "      <td>35.000567</td>\n",
       "      <td>1</td>\n",
       "      <td>77428.000918</td>\n",
       "      <td>99816.000061</td>\n",
       "      <td>35276.000614</td>\n",
       "      <td>16927.000550</td>\n",
       "      <td>2854.000051</td>\n",
       "      <td>7</td>\n",
       "      <td>8</td>\n",
       "    </tr>\n",
       "  </tbody>\n",
       "</table>\n",
       "</div>"
      ],
      "text/plain": [
       "   id  bin_0  bin_1  bin_2          bin_3          bin_4          nom_0  \\\n",
       "0   0      0      0      0  153535.000834  191633.000853  127341.000670   \n",
       "1   1      0      1      0  153535.000834  191633.000853  127341.000670   \n",
       "2   2      0      0      0  146465.000439  191633.000853   96166.000131   \n",
       "3   3      0      1      0  146465.000439  191633.000853   76493.000766   \n",
       "4   4      0      0      0  146465.000439  108367.000326   76493.000766   \n",
       "\n",
       "           nom_1          nom_2          nom_3         nom_4        nom_5  \\\n",
       "0   29855.000318   45979.000241   36942.000937  68448.000933  2594.000743   \n",
       "1  101181.000803   29487.000574  101123.000283  84517.000535   792.000556   \n",
       "2  101181.000803  101295.000503  101123.000283  54742.000610  2524.000585   \n",
       "3  101181.000803   45979.000241   49951.000427  92293.000778   975.000473   \n",
       "4  101181.000803  101295.000503   49951.000427  92293.000778  2010.000865   \n",
       "\n",
       "         nom_6       nom_7       nom_8      nom_9  ord_0         ord_1  \\\n",
       "0  1148.000434  241.000745  271.000070  19.000593      2  77428.000918   \n",
       "1   842.000949  287.000828  111.000312  13.000449      1  77428.000918   \n",
       "2  1169.000711  475.000955  278.000726  29.000628      1  25065.000944   \n",
       "3  1175.000072  442.000311  203.000110  44.000194      1  77428.000918   \n",
       "4  1157.000949  436.000725  207.000920  35.000567      1  77428.000918   \n",
       "\n",
       "          ord_2         ord_3         ord_4        ord_5  day  month  \n",
       "0  33768.000950  24740.000069   3974.000647   506.000110    2      2  \n",
       "1  22227.000223  35276.000614  18258.000626  2603.000217    7      8  \n",
       "2  63908.000740  24740.000069  16927.000550  2572.000482    7      2  \n",
       "3  60627.000894  28048.000406   3974.000647  2590.000842    2      1  \n",
       "4  99816.000061  35276.000614  16927.000550  2854.000051    7      8  "
      ]
     },
     "execution_count": 49,
     "metadata": {},
     "output_type": "execute_result"
    }
   ],
   "source": [
    "X_train_stat.head()"
   ]
  },
  {
   "cell_type": "markdown",
   "metadata": {},
   "source": [
    "## 周期特征编码\n",
    "\n",
    "在实际数据场景中，常常有很多**周期性**的变量。比如一天的时分秒，或者一周星期几，又或者是一年的几月份。\n",
    "\n",
    "以一周七天为例子，周一到周日（假定一周的第一天是周一），以数字 1 到 7 来表示是不妥的，因为周期更替的时候，本周日到下周一只经过了 1 天，但是从数字上却是从 1 跨越到了 7，这可能会导致较为严重的误差。\n",
    "\n",
    "由于这样的原因，我们需要对这类周期性变化的特征做一些针对性的 encoding 工作。最常用的方法就是将他们用正余弦的形式扩展为二维。\n",
    "\n",
    "### 编码算法步骤\n",
    "\n",
    "1. 取周期特征 $X$ 的最大值，比如一周七天就是 `7` ；\n",
    "2. 计算特征$x_i$的正余弦值：\n",
    "\n",
    "$$\\large x_{i\\sin} = \\sin(2\\pi\\frac{x_i}{\\max X})$$\n",
    "\n",
    "$$\\large x_{i\\cos} = \\cos(2\\pi\\frac{x_i}{\\max X})$$\n",
    "\n",
    "3. 将扩展为二维的正余弦编码放回训练集，同时删除原有特征列 $X$。\n",
    "\n",
    ">由于 `sin` 和 `cos` 函数的特性，单独取 `sin` 或者 `cos` 会导致同一取值对应不同时刻的问题，所以要两者一起取。"
   ]
  },
  {
   "cell_type": "code",
   "execution_count": 50,
   "metadata": {},
   "outputs": [
    {
     "data": {
      "image/png": "[encoded data removed]",
      "text/plain": [
       "<Figure size 432x288 with 1 Axes>"
      ]
     },
     "metadata": {
      "needs_background": "light"
     },
     "output_type": "display_data"
    },
    {
     "data": {
      "image/png": "[encoded data removed]",
      "text/plain": [
       "<Figure size 432x288 with 1 Axes>"
      ]
     },
     "metadata": {
      "needs_background": "light"
     },
     "output_type": "display_data"
    }
   ],
   "source": [
    "x = np.arange(0.5, 7.5, 0.02)\n",
    "plt.plot(x, np.sin((2 * np.pi * x) / max(1, 2, 3, 4, 5, 6, 7)))\n",
    "\n",
    "plt.axvline(0.0, color='k')\n",
    "plt.axhline(y=0.0, ls='dotted', color='k')\n",
    "plt.axhline(y=0.5, ls='dotted', color='k')\n",
    "plt.yticks([0.0, 0.5])\n",
    "plt.ylim(-1.1, 1.1)\n",
    "plt.xlabel('x')\n",
    "plt.ylabel('$\\sin x$')\n",
    "plt.show()\n",
    "\n",
    "x = np.arange(0.5, 7.5, 0.02)\n",
    "plt.plot(x, np.cos((2 * np.pi * x) / max(1, 2, 3, 4, 5, 6, 7)))\n",
    "\n",
    "plt.axvline(0.0, color='k')\n",
    "plt.axhline(y=0.0, ls='dotted', color='k')\n",
    "plt.axhline(y=0.5, ls='dotted', color='k')\n",
    "plt.yticks([0.0, 0.5])\n",
    "plt.ylim(-1.1, 1.1)\n",
    "plt.xlabel('x')\n",
    "plt.ylabel('$\\cos x$')\n",
    "plt.show()"
   ]
  },
  {
   "cell_type": "markdown",
   "metadata": {},
   "source": [
    "### 代码示例\n",
    "\n",
    "代码参考如下，我们将 `day` 和 `month` 两列应用上述编码方法。"
   ]
  },
  {
   "cell_type": "code",
   "execution_count": 51,
   "metadata": {},
   "outputs": [
    {
     "data": {
      "text/html": [
       "<div>\n",
       "<style scoped>\n",
       "    .dataframe tbody tr th:only-of-type {\n",
       "        vertical-align: middle;\n",
       "    }\n",
       "\n",
       "    .dataframe tbody tr th {\n",
       "        vertical-align: top;\n",
       "    }\n",
       "\n",
       "    .dataframe thead th {\n",
       "        text-align: right;\n",
       "    }\n",
       "</style>\n",
       "<table border=\"1\" class=\"dataframe\">\n",
       "  <thead>\n",
       "    <tr style=\"text-align: right;\">\n",
       "      <th></th>\n",
       "      <th>day_sin</th>\n",
       "      <th>day_cos</th>\n",
       "      <th>month_sin</th>\n",
       "      <th>month_cos</th>\n",
       "    </tr>\n",
       "  </thead>\n",
       "  <tbody>\n",
       "    <tr>\n",
       "      <td>0</td>\n",
       "      <td>9.749279e-01</td>\n",
       "      <td>-0.222521</td>\n",
       "      <td>0.866025</td>\n",
       "      <td>0.500000</td>\n",
       "    </tr>\n",
       "    <tr>\n",
       "      <td>1</td>\n",
       "      <td>-2.449294e-16</td>\n",
       "      <td>1.000000</td>\n",
       "      <td>-0.866025</td>\n",
       "      <td>-0.500000</td>\n",
       "    </tr>\n",
       "    <tr>\n",
       "      <td>2</td>\n",
       "      <td>-2.449294e-16</td>\n",
       "      <td>1.000000</td>\n",
       "      <td>0.866025</td>\n",
       "      <td>0.500000</td>\n",
       "    </tr>\n",
       "    <tr>\n",
       "      <td>3</td>\n",
       "      <td>9.749279e-01</td>\n",
       "      <td>-0.222521</td>\n",
       "      <td>0.500000</td>\n",
       "      <td>0.866025</td>\n",
       "    </tr>\n",
       "    <tr>\n",
       "      <td>4</td>\n",
       "      <td>-2.449294e-16</td>\n",
       "      <td>1.000000</td>\n",
       "      <td>-0.866025</td>\n",
       "      <td>-0.500000</td>\n",
       "    </tr>\n",
       "  </tbody>\n",
       "</table>\n",
       "</div>"
      ],
      "text/plain": [
       "        day_sin   day_cos  month_sin  month_cos\n",
       "0  9.749279e-01 -0.222521   0.866025   0.500000\n",
       "1 -2.449294e-16  1.000000  -0.866025  -0.500000\n",
       "2 -2.449294e-16  1.000000   0.866025   0.500000\n",
       "3  9.749279e-01 -0.222521   0.500000   0.866025\n",
       "4 -2.449294e-16  1.000000  -0.866025  -0.500000"
      ]
     },
     "execution_count": 51,
     "metadata": {},
     "output_type": "execute_result"
    }
   ],
   "source": [
    "X_train_cyclic = X.copy()\n",
    "\n",
    "columns=['day','month']\n",
    "\n",
    "for col in columns:\n",
    "    X_train_cyclic[col+'_sin'] = np.sin((2*np.pi*X_train_cyclic[col]) / max(X_train_cyclic[col]))\n",
    "    X_train_cyclic[col+'_cos'] = np.cos((2*np.pi*X_train_cyclic[col]) / max(X_train_cyclic[col]))\n",
    "    \n",
    "X_train_cyclic = X_train_cyclic.drop(columns,axis=1)\n",
    "X_train_cyclic[['day_sin', 'day_cos', 'month_sin', 'month_cos']].head()"
   ]
  },
  {
   "cell_type": "markdown",
   "metadata": {},
   "source": [
    "## Target Encoding\n",
    "\n",
    "有时候，可能会采用一个数字来替换特征。\n",
    "\n",
    "如果这个特征是分类特征，就用这个特征的出现频率来代替；如果这个特征是数字型特征，就用平均值来代替这个数字。\n",
    "\n",
    "不过这种方法**缺点**比较明显，因为这样的编码很依赖目标的分布，通常不如 One Hot 方法。\n",
    "\n",
    "例如：\n",
    "\n",
    "Country | Target\n",
    "-|-\n",
    "India\t|1\n",
    "China\t|0\n",
    "India\t|0\n",
    "China\t|1\n",
    "India\t|1\n",
    "\n",
    "则这里对 India 的编码数字为：India对应为True的数目 / India特征的总数\n",
    "\n",
    "所以有\n",
    "\n",
    "Country | Target\n",
    "-|-\n",
    "India\t|0.666\n",
    "China\t|0.500\n",
    "\n",
    "这里我们以数据中的日期列为例子："
   ]
  },
  {
   "cell_type": "code",
   "execution_count": 60,
   "metadata": {},
   "outputs": [
    {
     "data": {
      "text/html": [
       "<div>\n",
       "<style scoped>\n",
       "    .dataframe tbody tr th:only-of-type {\n",
       "        vertical-align: middle;\n",
       "    }\n",
       "\n",
       "    .dataframe tbody tr th {\n",
       "        vertical-align: top;\n",
       "    }\n",
       "\n",
       "    .dataframe thead th {\n",
       "        text-align: right;\n",
       "    }\n",
       "</style>\n",
       "<table border=\"1\" class=\"dataframe\">\n",
       "  <thead>\n",
       "    <tr style=\"text-align: right;\">\n",
       "      <th></th>\n",
       "      <th>id</th>\n",
       "      <th>day</th>\n",
       "      <th>month</th>\n",
       "      <th>target</th>\n",
       "    </tr>\n",
       "  </thead>\n",
       "  <tbody>\n",
       "    <tr>\n",
       "      <td>0</td>\n",
       "      <td>0</td>\n",
       "      <td>2</td>\n",
       "      <td>2</td>\n",
       "      <td>0</td>\n",
       "    </tr>\n",
       "    <tr>\n",
       "      <td>1</td>\n",
       "      <td>1</td>\n",
       "      <td>7</td>\n",
       "      <td>8</td>\n",
       "      <td>0</td>\n",
       "    </tr>\n",
       "    <tr>\n",
       "      <td>2</td>\n",
       "      <td>2</td>\n",
       "      <td>7</td>\n",
       "      <td>2</td>\n",
       "      <td>0</td>\n",
       "    </tr>\n",
       "    <tr>\n",
       "      <td>3</td>\n",
       "      <td>3</td>\n",
       "      <td>2</td>\n",
       "      <td>1</td>\n",
       "      <td>1</td>\n",
       "    </tr>\n",
       "    <tr>\n",
       "      <td>4</td>\n",
       "      <td>4</td>\n",
       "      <td>7</td>\n",
       "      <td>8</td>\n",
       "      <td>0</td>\n",
       "    </tr>\n",
       "    <tr>\n",
       "      <td>5</td>\n",
       "      <td>5</td>\n",
       "      <td>2</td>\n",
       "      <td>2</td>\n",
       "      <td>0</td>\n",
       "    </tr>\n",
       "    <tr>\n",
       "      <td>6</td>\n",
       "      <td>6</td>\n",
       "      <td>5</td>\n",
       "      <td>4</td>\n",
       "      <td>0</td>\n",
       "    </tr>\n",
       "    <tr>\n",
       "      <td>7</td>\n",
       "      <td>7</td>\n",
       "      <td>4</td>\n",
       "      <td>2</td>\n",
       "      <td>0</td>\n",
       "    </tr>\n",
       "    <tr>\n",
       "      <td>8</td>\n",
       "      <td>8</td>\n",
       "      <td>3</td>\n",
       "      <td>4</td>\n",
       "      <td>0</td>\n",
       "    </tr>\n",
       "    <tr>\n",
       "      <td>9</td>\n",
       "      <td>9</td>\n",
       "      <td>3</td>\n",
       "      <td>2</td>\n",
       "      <td>0</td>\n",
       "    </tr>\n",
       "  </tbody>\n",
       "</table>\n",
       "</div>"
      ],
      "text/plain": [
       "   id  day  month  target\n",
       "0   0    2      2       0\n",
       "1   1    7      8       0\n",
       "2   2    7      2       0\n",
       "3   3    2      1       1\n",
       "4   4    7      8       0\n",
       "5   5    2      2       0\n",
       "6   6    5      4       0\n",
       "7   7    4      2       0\n",
       "8   8    3      4       0\n",
       "9   9    3      2       0"
      ]
     },
     "execution_count": 60,
     "metadata": {},
     "output_type": "execute_result"
    }
   ],
   "source": [
    "X_target = df_train[['id', 'day', 'month', 'target']].copy()\n",
    "X_target.head(10)"
   ]
  },
  {
   "cell_type": "code",
   "execution_count": 69,
   "metadata": {},
   "outputs": [
    {
     "data": {
      "text/html": [
       "<div>\n",
       "<style scoped>\n",
       "    .dataframe tbody tr th:only-of-type {\n",
       "        vertical-align: middle;\n",
       "    }\n",
       "\n",
       "    .dataframe tbody tr th {\n",
       "        vertical-align: top;\n",
       "    }\n",
       "\n",
       "    .dataframe thead th {\n",
       "        text-align: right;\n",
       "    }\n",
       "</style>\n",
       "<table border=\"1\" class=\"dataframe\">\n",
       "  <thead>\n",
       "    <tr style=\"text-align: right;\">\n",
       "      <th></th>\n",
       "      <th>id</th>\n",
       "      <th>day</th>\n",
       "      <th>month</th>\n",
       "      <th>target</th>\n",
       "    </tr>\n",
       "  </thead>\n",
       "  <tbody>\n",
       "    <tr>\n",
       "      <td>0</td>\n",
       "      <td>0</td>\n",
       "      <td>0.322048</td>\n",
       "      <td>0.244432</td>\n",
       "      <td>0</td>\n",
       "    </tr>\n",
       "    <tr>\n",
       "      <td>1</td>\n",
       "      <td>1</td>\n",
       "      <td>0.340292</td>\n",
       "      <td>0.327496</td>\n",
       "      <td>0</td>\n",
       "    </tr>\n",
       "    <tr>\n",
       "      <td>2</td>\n",
       "      <td>2</td>\n",
       "      <td>0.340292</td>\n",
       "      <td>0.244432</td>\n",
       "      <td>0</td>\n",
       "    </tr>\n",
       "    <tr>\n",
       "      <td>3</td>\n",
       "      <td>3</td>\n",
       "      <td>0.322048</td>\n",
       "      <td>0.255729</td>\n",
       "      <td>1</td>\n",
       "    </tr>\n",
       "    <tr>\n",
       "      <td>4</td>\n",
       "      <td>4</td>\n",
       "      <td>0.340292</td>\n",
       "      <td>0.327496</td>\n",
       "      <td>0</td>\n",
       "    </tr>\n",
       "    <tr>\n",
       "      <td>5</td>\n",
       "      <td>5</td>\n",
       "      <td>0.322048</td>\n",
       "      <td>0.244432</td>\n",
       "      <td>0</td>\n",
       "    </tr>\n",
       "    <tr>\n",
       "      <td>6</td>\n",
       "      <td>6</td>\n",
       "      <td>0.273121</td>\n",
       "      <td>0.297352</td>\n",
       "      <td>0</td>\n",
       "    </tr>\n",
       "    <tr>\n",
       "      <td>7</td>\n",
       "      <td>7</td>\n",
       "      <td>0.252139</td>\n",
       "      <td>0.244432</td>\n",
       "      <td>0</td>\n",
       "    </tr>\n",
       "    <tr>\n",
       "      <td>8</td>\n",
       "      <td>8</td>\n",
       "      <td>0.281251</td>\n",
       "      <td>0.297352</td>\n",
       "      <td>0</td>\n",
       "    </tr>\n",
       "    <tr>\n",
       "      <td>9</td>\n",
       "      <td>9</td>\n",
       "      <td>0.281251</td>\n",
       "      <td>0.244432</td>\n",
       "      <td>0</td>\n",
       "    </tr>\n",
       "  </tbody>\n",
       "</table>\n",
       "</div>"
      ],
      "text/plain": [
       "   id       day     month  target\n",
       "0   0  0.322048  0.244432       0\n",
       "1   1  0.340292  0.327496       0\n",
       "2   2  0.340292  0.244432       0\n",
       "3   3  0.322048  0.255729       1\n",
       "4   4  0.340292  0.327496       0\n",
       "5   5  0.322048  0.244432       0\n",
       "6   6  0.273121  0.297352       0\n",
       "7   7  0.252139  0.244432       0\n",
       "8   8  0.281251  0.297352       0\n",
       "9   9  0.281251  0.244432       0"
      ]
     },
     "execution_count": 69,
     "metadata": {},
     "output_type": "execute_result"
    }
   ],
   "source": [
    "X_target['day'] = X_target['day'].astype('object')\n",
    "X_target['month'] = X_target['month'].astype('object')\n",
    "\n",
    "for col in X_target[['day', 'month']]:\n",
    "    if (X_target[col].dtype == 'object'):\n",
    "        target = X_target.groupby(col)['target'].agg('sum') / X_target.groupby(col)['target'].agg('count')\n",
    "        X_target[col]=X_target[col].replace(target).values\n",
    "        \n",
    "    \n",
    "    \n",
    "X_target.head(10)"
   ]
  },
  {
   "cell_type": "code",
   "execution_count": 70,
   "metadata": {},
   "outputs": [
    {
     "data": {
      "text/plain": [
       "month\n",
       "0.244432    11074\n",
       "0.255729    10446\n",
       "0.280936    11481\n",
       "0.297352     7410\n",
       "0.317053     3486\n",
       "0.327496     6134\n",
       "0.344642     6847\n",
       "0.345295     8583\n",
       "0.353157     7809\n",
       "0.353634     8913\n",
       "0.364099     9369\n",
       "0.376554      212\n",
       "Name: target, dtype: int64"
      ]
     },
     "execution_count": 70,
     "metadata": {},
     "output_type": "execute_result"
    }
   ],
   "source": [
    "X_target.groupby(col)['target'].agg('sum')"
   ]
  },
  {
   "cell_type": "markdown",
   "metadata": {},
   "source": [
    "> 由于 **Target Encoding** 方法很容易导致 Encoding 上的过拟合，所以通常采用 K-Fold Target Encoding 编码来减少过拟合。通过计算每一个折编码的均值来调整最终的编码。"
   ]
  },
  {
   "cell_type": "markdown",
   "metadata": {},
   "source": [
    "## 总结\n",
    "\n",
    "在对特征的编码过程中有很多种方法，常常需要判断哪种或者哪些方法才是最合适的。有时候甚至需要对多种编码方法进行组合运用。\n",
    "\n",
    "这也是**特征工程（Feature Engineering）**的部分知识应用。\n",
    "\n",
    "对特征工程的进一步学习可以参考[《精通特征工程》](https://item.jd.com/12515465.html?dist=jd)。"
   ]
  },
  {
   "cell_type": "code",
   "execution_count": null,
   "metadata": {},
   "outputs": [],
   "source": []
  },
  {
   "cell_type": "code",
   "execution_count": null,
   "metadata": {},
   "outputs": [],
   "source": []
  },
  {
   "cell_type": "code",
   "execution_count": null,
   "metadata": {},
   "outputs": [],
   "source": []
  },
  {
   "cell_type": "code",
   "execution_count": null,
   "metadata": {},
   "outputs": [],
   "source": []
  },
  {
   "cell_type": "code",
   "execution_count": null,
   "metadata": {},
   "outputs": [],
   "source": []
  },
  {
   "cell_type": "code",
   "execution_count": null,
   "metadata": {},
   "outputs": [],
   "source": []
  },
  {
   "cell_type": "code",
   "execution_count": null,
   "metadata": {},
   "outputs": [],
   "source": []
  }
 ],
 "metadata": {
  "kernelspec": {
   "display_name": "Python 3",
   "language": "python",
   "name": "python3"
  },
  "language_info": {
   "codemirror_mode": {
    "name": "ipython",
    "version": 3
   },
   "file_extension": ".py",
   "mimetype": "text/x-python",
   "name": "python",
   "nbconvert_exporter": "python",
   "pygments_lexer": "ipython3",
   "version": "3.6.8"
  }
 },
 "nbformat": 4,
 "nbformat_minor": 2
}
