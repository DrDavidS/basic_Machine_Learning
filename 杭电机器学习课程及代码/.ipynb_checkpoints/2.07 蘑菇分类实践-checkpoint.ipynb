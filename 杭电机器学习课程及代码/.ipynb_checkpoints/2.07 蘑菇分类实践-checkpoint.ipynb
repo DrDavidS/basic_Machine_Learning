{
 "cells": [
  {
   "cell_type": "markdown",
   "metadata": {},
   "source": [
    "# 机器学习实践\n",
    "\n",
    "## 实践说明\n",
    "\n",
    "### 数据集\n",
    "\n",
    ">地址：[蘑菇分类数据集](https://github.com/DrDavidS/basic_Machine_Learning/tree/master/datasets/Mushroom%20Classification)\n",
    "\n",
    "加州大学欧文（尔湾）分校在1987年贡献出了这份数据集，其内容是根据《National Audubon Society Field Guide to North American Mushrooms》一书中对姬松茸（Agaricus）属和大环柄菇（Lepiota）属中23个种的假想样本描述生成的。\n",
    "\n",
    "\n",
    "<img src=\"https://images-cn.ssl-images-amazon.com/images/I/51a7HxdXlaL._SX259_BO1,204,203,200_.jpg\" width=\"200\" alt=\"书\" align=center>\n",
    "\n",
    "<center>《National Audubon Society Field Guide to North American Mushrooms》</center>\n",
    "\n",
    "<img src=\"https://gss3.bdstatic.com/7Po3dSag_xI4khGkpoWK1HF6hhy/baike/c0%3Dbaike80%2C5%2C5%2C80%2C26/sign=43f5b732c1ef7609280691cd4fb4c8a9/5366d0160924ab18d82a52983ffae6cd7b890b64.jpg\" width=\"200\" alt=\"干的姬松茸\" align=center>\n",
    "\n",
    "<center>干的姬松茸</center>\n",
    "\n",
    "<img src=\"https://gss3.bdstatic.com/7Po3dSag_xI4khGkpoWK1HF6hhy/baike/w%3D268%3Bg%3D0/sign=d8f6f8cdc83d70cf4cfaad0bc0e7b63d/f31fbe096b63f624cca893f78644ebf81b4ca349.jpg\" width=\"200\" alt=\"大环柄菇\" align=center>\n",
    "\n",
    "<center>大环柄菇</center>\n",
    "\n",
    "这些蘑菇有的是可以食用的，用的则是有毒的，还有一些是安全性不明的。我们把安全性不明的和有毒的蘑菇通通算作是不可以食用的类别。因此这是一个二分类任务。\n",
    "\n",
    "我们将利用利用决策树，及决策树衍生出的各种更成熟高效的机器学习方法来对一个这个的数据集进行分类实验。"
   ]
  },
  {
   "cell_type": "code",
   "execution_count": null,
   "metadata": {},
   "outputs": [],
   "source": []
  }
 ],
 "metadata": {
  "kernelspec": {
   "display_name": "Python 3",
   "language": "python",
   "name": "python3"
  },
  "language_info": {
   "codemirror_mode": {
    "name": "ipython",
    "version": 3
   },
   "file_extension": ".py",
   "mimetype": "text/x-python",
   "name": "python",
   "nbconvert_exporter": "python",
   "pygments_lexer": "ipython3",
   "version": "3.7.4"
  }
 },
 "nbformat": 4,
 "nbformat_minor": 2
}
