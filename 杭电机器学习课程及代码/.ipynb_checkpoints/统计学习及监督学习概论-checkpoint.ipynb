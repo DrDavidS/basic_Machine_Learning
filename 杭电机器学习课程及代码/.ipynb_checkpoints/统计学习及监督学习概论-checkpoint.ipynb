{
 "cells": [
  {
   "cell_type": "markdown",
   "metadata": {},
   "source": [
    "# 统计学习及监督学习概论\n",
    "\n",
    "## 统计学习简介\n",
    "\n",
    "统计学习也被称为统计机器学习(statistical machine learning)，其研究对象为数据。\n",
    "\n",
    "统计学习从数据出发，提取数据的特征，抽象出数据的模型，发现数据中的只是，又回到对数据的分析与预测中去。\n",
    "\n",
    "## 统计学习的分类\n",
    "\n",
    "### 基本分类\n",
    "\n",
    "- 监督学习\n",
    "\n",
    "- 无监督学习\n",
    "\n",
    "- 强化学习\n",
    "\n",
    "### 按模型分类\n",
    "\n",
    "- 概率模型与非概率模型\n",
    "\n",
    "- 线性模型与非线性模型\n",
    "\n",
    "- 参数化模型与参数化模型\n",
    "\n",
    "### 按算法分类\n",
    "\n",
    "- 在线学习\n",
    "\n",
    "- 批量学习\n",
    "\n",
    "### 按技巧分类\n",
    "\n",
    "- 贝叶斯学习\n",
    "\n",
    "- 核方法\n",
    "\n",
    "## 统计学习方法三要素\n",
    "\n",
    "统计学习方法由三要素组成：\n",
    "$$ 方法 = 模型 + 策略 + 算法 $$\n",
    "\n",
    "### 方法：损失函数\n",
    "\n",
    "监督学习问题在假设空间 $ F $ 中选取模型 $ f $ 作为决策函数，对于给定的输入 $ X $，由 $ f $ 给出相应的 $ Y $，这个输出的预测值 $ f(X) $ 与真实值 $ Y $ 可能一致也可能不一致，用一个损失函数（loss function）或者代价函数（cost function）来度量预测错误的程度。\n",
    "\n",
    ">损失函数是 $ f(X) $ 和 $ Y $ 的非负实值函数，记作 $ L(Y,f(X)) $。\n",
    "\n",
    "#### 0-1 损失函数(0-1 loss function)\n",
    "\n",
    "$$ L(Y,f(X))=\\left\\{\n",
    "\\begin{aligned}\n",
    "1,&& Y \\not= f(X)& \\\\\n",
    "0,&& Y = f(X) &\\\\\n",
    "\\end{aligned}\n",
    "\\right.\n",
    "$$\n",
    "\n"
   ]
  },
  {
   "cell_type": "code",
   "execution_count": 12,
   "metadata": {},
   "outputs": [
    {
     "name": "stdout",
     "output_type": "stream",
     "text": [
      "平均损失值： 0.33333333333333337\n",
      "损失值之和： 3\n"
     ]
    }
   ],
   "source": [
    "from sklearn.metrics import zero_one_loss\n",
    "\n",
    "y_pred = [1, 2, 3, 4, 5, 6, 7, 8, 9]\n",
    "y_true = [2, 2, 3, 4, 5, 6, 5, 8, 7]\n",
    "\n",
    "print(\"平均损失值：\", zero_one_loss(y_true, y_pred, normalize=True))\n",
    "print(\"损失值之和：\", zero_one_loss(y_true, y_pred, normalize=False))"
   ]
  },
  {
   "cell_type": "markdown",
   "metadata": {},
   "source": [
    "#### 平方损失函数(quadratic loss function)\n",
    "\n",
    "$$ L(Y,f(X)) = (Y - f(X))^2 $$"
   ]
  },
  {
   "cell_type": "code",
   "execution_count": 17,
   "metadata": {},
   "outputs": [
    {
     "name": "stdout",
     "output_type": "stream",
     "text": [
      "平方损失值之和： 0\n",
      "平均平方损失值： 0.0\n"
     ]
    }
   ],
   "source": [
    "y_pred = [1, 2, 3, 4, 5, 6, 7, 8, 9]\n",
    "y_true = [1, 2, 3, 4, 5, 6, 5, 8, 11]\n",
    "\n",
    "def quadratic_loss_sum(y_pred, y_true):\n",
    "    \"\"\"\n",
    "    计算预测值与真实值的平方损失和（吗？）\n",
    "    \n",
    "    输入：\n",
    "    y_pred：预测值列表\n",
    "    y_true：真实值列表\n",
    "    \n",
    "    输出：\n",
    "    loss_sum：平方损失值之和\n",
    "    \"\"\"\n",
    "    diff = 0\n",
    "    for i in range(len(y_pred)):\n",
    "        diff += y_true[i] - y_pred[i]  # 注意这里有陷阱\n",
    "        # diff += abs(y_true[i] - y_pred[i])\n",
    "    loss_sum = diff**2\n",
    "    \n",
    "    return loss_sum\n",
    "\n",
    "print(\"平方损失值之和：\", quadratic_loss_sum(y_pred, y_true))\n",
    "print(\"平均平方损失值：\", quadratic_loss_sum(y_pred, y_true)/len(y_pred))"
   ]
  },
  {
   "cell_type": "markdown",
   "metadata": {},
   "source": [
    "#### 绝对损失函数(absolute loss function)\n",
    "\n",
    "$$ L(Y,f(X)) = |Y - f(X)|  $$ "
   ]
  },
  {
   "cell_type": "code",
   "execution_count": 22,
   "metadata": {},
   "outputs": [],
   "source": [
    "# 略\n",
    "# 提示：绝对值可以用 abs() 函数"
   ]
  },
  {
   "cell_type": "markdown",
   "metadata": {},
   "source": [
    "#### 对数损失函数(logarithmic loss function)\n",
    "\n",
    "$$ L(Y,P(Y|X)) = -\\log P(Y|X) $$\n",
    "\n",
    "说明：假设我们建立了一个“猫猫分类器”，它会输出测试图片中是猫的概率 $ P_{right}$ 和不是猫的概率 $ P_{wrong}$，其中 $ P_{right} +  P_{wrong} = 1 $。\n",
    "\n",
    "我们把“狗”的标签设为0，猫的标签设为1，把第一个概率作为样本分类为0的概率，第二个概率作为样本分类为1的概率。"
   ]
  },
  {
   "cell_type": "code",
   "execution_count": 35,
   "metadata": {},
   "outputs": [
    {
     "name": "stdout",
     "output_type": "stream",
     "text": [
      "对数损失值： 9.992007221626415e-16\n"
     ]
    }
   ],
   "source": [
    "from sklearn.metrics import log_loss\n",
    "\n",
    "# 预测概率\n",
    "y_pred1 = [[0.0, 1.0], [1.0, 0.0], [0.0, 1.0], [0.0, 1.0], [1.0, 0.0]]\n",
    "y_pred2 = [[1.0, 0.0], [0.0, 1.0], [1.0, 0.0], [1.0, 0.0], [0.0, 1.0]]\n",
    "\n",
    "\n",
    "# 真实值标签\n",
    "y_true = [1, 0, 1, 1, 0]\n",
    "\n",
    "print(\"对数损失值：\", log_loss(y_true, y_pred1))"
   ]
  },
  {
   "cell_type": "markdown",
   "metadata": {},
   "source": [
    ">sklearn中会将数字0转换为1e-15"
   ]
  },
  {
   "cell_type": "markdown",
   "metadata": {},
   "source": [
    "## 模型评估与模型选择\n",
    "\n",
    "### 训练误差与测试误差\n",
    "\n",
    "统计学习的目的是使学到的模型不仅对已知数据而且对未知数据都能有很好的预测能力。\n",
    "\n",
    "当损失函数给定时，基于损失函数的模型的训练误差和模型的测试误差就自然成为学习方法评估的标准。\n",
    "\n",
    "### 过拟合与模型选择\n",
    "\n",
    "如果一味追求提高对训练数据的预测能力，所选模型的复杂度则往往会比真模型更高，这种现象成为过拟合（over-fitting）。\n",
    "\n",
    "-------------------\n",
    "\n",
    "**示例**：\n",
    "\n",
    "用目标函数 $y=sin2{\\pi}x$，加上一个正态分布的噪音干扰，用多项式去拟合\n",
    "\n",
    "from 【例1.1 统计学习方法第二版 20页】\n",
    "\n",
    "参考：[黄海广的github](https://github.com/fengdu78/lihang-code)"
   ]
  },
  {
   "cell_type": "code",
   "execution_count": 36,
   "metadata": {},
   "outputs": [],
   "source": [
    "import numpy as np\n",
    "import scipy as sp\n",
    "from scipy.optimize import leastsq  # 最小二乘法\n",
    "import matplotlib.pyplot as plt\n",
    "%matplotlib inline"
   ]
  },
  {
   "cell_type": "code",
   "execution_count": 46,
   "metadata": {},
   "outputs": [],
   "source": [
    "def real_func(x):\n",
    "    \"\"\"目标函数\"\"\"\n",
    "    return np.sin(2*np.pi*x)\n",
    "\n",
    "def fit_func(p, x):\n",
    "    \"\"\"生成多项式\n",
    "    \n",
    "    param:\n",
    "    p：list，待生成的多项式的系数\n",
    "    x：多项式未知数x的值\n",
    "    \n",
    "    return：\n",
    "    f(x): 多项式代入x后的计算结果\n",
    "    \"\"\"\n",
    "    f = np.poly1d(p)\n",
    "    # print(f)\n",
    "    return f(x)\n",
    "\n",
    "def residuals_func(p, x, y):\n",
    "    \"\"\"生成多项式的残差计算\n",
    "    \n",
    "    param:\n",
    "    p：list，待生成的多项式的系数\n",
    "    x：多项式未知数x的值\n",
    "    y: 实际观察值（真实值）\n",
    "    \n",
    "    return:\n",
    "    ret: 残差，实际观察值与估计值(拟合值)之间的差\n",
    "    \"\"\"\n",
    "    ret = fit_func(p, x) - y\n",
    "    return ret"
   ]
  },
  {
   "cell_type": "code",
   "execution_count": 41,
   "metadata": {},
   "outputs": [
    {
     "name": "stdout",
     "output_type": "stream",
     "text": [
      "   2\n",
      "1 x + 2 x + 3\n"
     ]
    },
    {
     "data": {
      "text/plain": [
       "38"
      ]
     },
     "execution_count": 41,
     "metadata": {},
     "output_type": "execute_result"
    }
   ],
   "source": [
    "fit_func([1,2,3], 5)"
   ]
  },
  {
   "cell_type": "markdown",
   "metadata": {},
   "source": [
    "生成十个点"
   ]
  },
  {
   "cell_type": "code",
   "execution_count": 42,
   "metadata": {},
   "outputs": [],
   "source": [
    "# 十个点\n",
    "x = np.linspace(0, 1, 10)\n",
    "x_points = np.linspace(0, 1, 1000)\n",
    "# 加上正态分布噪音的目标函数的值\n",
    "y_ = real_func(x)\n",
    "y = [np.random.normal(0, 0.1) + y1 for y1 in y_]"
   ]
  },
  {
   "cell_type": "code",
   "execution_count": 48,
   "metadata": {},
   "outputs": [],
   "source": [
    "def fitting(M=0):\n",
    "    \"\"\"\n",
    "    M 为多项式的次数\n",
    "    \n",
    "    return:\n",
    "    p_lsq:拟合曲线的多项式系数\n",
    "    \"\"\"\n",
    "    # 随机初始化多项式参数\n",
    "    p_init = np.random.rand(M + 1)\n",
    "    # 最小二乘法\n",
    "    p_lsq = leastsq(residuals_func, p_init, args=(x, y))\n",
    "    print('Fitting Parameters:', p_lsq[0])\n",
    "\n",
    "    # 可视化\n",
    "    plt.plot(x_points, real_func(x_points), label='real')\n",
    "    plt.plot(x_points, fit_func(p_lsq[0], x_points), label='fitted curve')\n",
    "    plt.plot(x, y, 'bo', label='noise')\n",
    "    plt.legend()\n",
    "    return p_lsq"
   ]
  },
  {
   "cell_type": "markdown",
   "metadata": {},
   "source": [
    "### M = 0"
   ]
  },
  {
   "cell_type": "code",
   "execution_count": 49,
   "metadata": {},
   "outputs": [
    {
     "name": "stdout",
     "output_type": "stream",
     "text": [
      "Fitting Parameters: [-0.00394058]\n"
     ]
    },
    {
     "data": {
      "image/png": "[encoded data removed]",
      "text/plain": [
       "<Figure size 432x288 with 1 Axes>"
      ]
     },
     "metadata": {
      "needs_background": "light"
     },
     "output_type": "display_data"
    }
   ],
   "source": [
    "p_lsq_0 = fitting(M=0)"
   ]
  },
  {
   "cell_type": "code",
   "execution_count": null,
   "metadata": {},
   "outputs": [],
   "source": []
  },
  {
   "cell_type": "code",
   "execution_count": null,
   "metadata": {},
   "outputs": [],
   "source": []
  }
 ],
 "metadata": {
  "kernelspec": {
   "display_name": "Python 3",
   "language": "python",
   "name": "python3"
  },
  "language_info": {
   "codemirror_mode": {
    "name": "ipython",
    "version": 3
   },
   "file_extension": ".py",
   "mimetype": "text/x-python",
   "name": "python",
   "nbconvert_exporter": "python",
   "pygments_lexer": "ipython3",
   "version": "3.6.8"
  }
 },
 "nbformat": 4,
 "nbformat_minor": 2
}
