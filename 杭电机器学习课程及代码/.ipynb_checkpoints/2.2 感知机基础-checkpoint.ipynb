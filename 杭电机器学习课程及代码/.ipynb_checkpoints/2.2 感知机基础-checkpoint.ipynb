{
 "cells": [
  {
   "cell_type": "markdown",
   "metadata": {},
   "source": [
    "# 2.2 模型评价与感知机\n",
    "\n",
    "## 内容回顾\n",
    "\n",
    "在上一次课程我们学习了：\n",
    "\n",
    "- numpy、pandas以及matplotlib的常见方法\n",
    "\n",
    "- 损失函数：损失函数（loss function）或者代价函数（cost function）来度量预测错误的程度。\n",
    "\n",
    "- 模型的训练误差和测试误差\n",
    "\n",
    "- 模型的过拟合\n",
    "\n",
    "- 正则化\n",
    "\n",
    "- 交叉验证\n",
    "\n",
    "以及相关代码的实现\n",
    "\n",
    "## 补充：监督学习模型评价标准\n",
    "\n",
    "对于监督学习，我们在模型完成训练后，如何评价模型的训练效果？\n",
    "\n",
    "打个比方：\n",
    "\n",
    "1.损失函数下降类似于学生的学习和练习效果，学生使用某种学习方法，比如题海战术，（这就是**算法**的选择）尽到最大努力学习了，整体的做题错误率在不断降低（**loss**在降低），学生的知识水平在不断提高。\n",
    "\n",
    "2.但是对于期末考试，看的是本次考试的表现（test），而不是平时学生的表现（train）。比如某次考试有一百道判断题，每题一分，学生做对了80道题，得分80分。\n",
    "\n",
    "3.学生平时做题表现很好，错得很少。但是考试时候拿到试卷，发现试卷上的题目都是平时没有学过的知识点，或者超纲题目，这叫**数据分布不均匀**，或者叫train set和test set不是**同分布**的。\n",
    "\n",
    "4.如果考试的时候发现，怎么遇到之前练习的原题了？原题相当于送分题，放在机器学习方法中就叫数据集不是**独立**的。我们在机器学习中要求，训练集和测试集最好是独立同分布的，就是这个意思。\n",
    "\n",
    "而今天我们来讲讲模型的评价标准，也就是“老师的打分方式”。\n",
    "\n",
    "### 准确率、精准率、召回率与 $F_1$ 值\n",
    "\n",
    "- 模型的评价指标一般是分类**准确率**，其定义是：对于给定的测试数据集，分类器正确分类的样本数与总样本数之比。\n",
    "\n",
    "> 借用上面的例子，如某次考试有一百道判断题，每题做对得一分，做错得零分，学生做对了80道题，得分80分，学生的正确率就是80%。\n",
    "\n",
    "- 对于二分类问题，常用的评价指标是精确率（precision）和召回率（recall）。以关注的类为正类（positive），其他类为负类（negative），分类器在测试数据集上的预测或正确或者不正确，4种情况出现的总数分别记做：\n",
    "\n",
    "> TP —— True Positive，将正类预测为正类数\n",
    ">\n",
    "> FN —— False Negative，将正类预测为负类数\n",
    ">\n",
    "> FP —— False Positive，将负类预测为正类数\n",
    ">\n",
    "> TN —— True Negative，将负类预测为负类数\n",
    "\n",
    "- 精确率又叫查准率，定义为$$ P = \\frac{\\rm TP}{\\rm TP + \\rm FP} $$\n",
    "\n",
    "- 召回率又叫查全率，定义为$$ R = \\frac{\\rm TP}{\\rm TP + \\rm FN} $$\n",
    "\n",
    "- 此外还有 $ F_1 $ 值，是精确率和召回率的调和平均值，即$$ \\frac{2}{F_1} = \\frac{1}{P}+ \\frac{1}{R} $$\n",
    "\n",
    "查准率和查全率可以类比医院看病。比如有一种罕见病，据统计全球发病率为百万分之三，医院要开发一种机器学习诊断系统去为广大患者诊断这种病。\n",
    "\n",
    "预计有一千万人使用该系统，如果：\n",
    "\n",
    "- 我用准确率（越高越好）作为这个诊断系统的评价指标，会怎么样？\n",
    "\n",
    "> Hint：全部判断为健康人\n",
    "\n",
    "- 我用精确率（越高越好）作为这个诊断系统的评价指标，会怎么样？\n",
    "\n",
    "> Hint：病入膏肓再下诊断\n",
    "\n",
    "- 我用召回率（越高越好）作为这个诊断系统的评价指标，会怎么样？\n",
    "\n",
    "> Hint：全部判断为病人\n",
    "\n",
    "- 我用 $ F_1 $ 值（越高越好）作为这个诊断系统的评价指标，会怎么样？\n",
    "\n",
    "> 结合了精确率和召回率的优点（希望既不漏诊也不误诊）。\n",
    "\n",
    "### 代码实现\n",
    "\n",
    "在 SKlearn 包中，我们也有上述指标的函数实现.\n",
    "\n",
    "#### 数据集\n",
    "\n",
    "先导入相关包，建立一个仿真的数据集。假设数字1表示正样本（positive，例如：患病阳性），如下："
   ]
  },
  {
   "cell_type": "code",
   "execution_count": 15,
   "metadata": {
    "collapsed": true
   },
   "outputs": [],
   "source": [
    "from sklearn import metrics\n",
    "\n",
    "y_pred = [0, 1, 1, 0, 0, 0, 0, 0, 0, 0]\n",
    "y_true = [0, 0, 1, 0, 0, 0, 0, 0, 1, 1]"
   ]
  },
  {
   "cell_type": "markdown",
   "metadata": {},
   "source": [
    "#### 准确率（accuracy）\n",
    "\n",
    "文档：[sklearn.metrics.accuracy_score](https://scikit-learn.org/stable/modules/generated/sklearn.metrics.accuracy_score.html#sklearn.metrics.accuracy_score)\n",
    "\n",
    "```Python\n",
    "sklearn.metrics.accuracy_score(y_true, y_pred, normalize=True, sample_weight=None)\n",
    "```"
   ]
  },
  {
   "cell_type": "code",
   "execution_count": 17,
   "metadata": {},
   "outputs": [
    {
     "name": "stdout",
     "output_type": "stream",
     "text": [
      "0.7\n"
     ]
    }
   ],
   "source": [
    "accuracy = metrics.accuracy_score(y_true, y_pred)\n",
    "print(accuracy)"
   ]
  },
  {
   "cell_type": "markdown",
   "metadata": {},
   "source": [
    "#### 精确度（precision）\n",
    "\n",
    "文档：[sklearn.metrics.precision_score](https://scikit-learn.org/stable/modules/generated/sklearn.metrics.precision_score.html#sklearn.metrics.precision_score)\n",
    "\n",
    "```Python\n",
    "sklearn.metrics.precision_score(y_true, y_pred, labels=None, pos_label=1, average=’binary’, sample_weight=None)\n",
    "```"
   ]
  },
  {
   "cell_type": "code",
   "execution_count": 18,
   "metadata": {},
   "outputs": [
    {
     "name": "stdout",
     "output_type": "stream",
     "text": [
      "0.5\n"
     ]
    }
   ],
   "source": [
    "precision = metrics.precision_score(y_true, y_pred)\n",
    "print(precision)"
   ]
  },
  {
   "cell_type": "markdown",
   "metadata": {},
   "source": [
    "#### 召回率（recall）\n",
    "\n",
    "文档：[sklearn.metrics.recall_score](https://scikit-learn.org/stable/modules/generated/sklearn.metrics.recall_score.html#sklearn.metrics.recall_score)\n",
    "\n",
    "```Python\n",
    "sklearn.metrics.recall_score(y_true, y_pred, labels=None, pos_label=1, average=’binary’, sample_weight=None)\n",
    "```"
   ]
  },
  {
   "cell_type": "code",
   "execution_count": 19,
   "metadata": {},
   "outputs": [
    {
     "name": "stdout",
     "output_type": "stream",
     "text": [
      "0.333333333333\n"
     ]
    }
   ],
   "source": [
    "recall = metrics.recall_score(y_true, y_pred)\n",
    "print(recall)"
   ]
  },
  {
   "cell_type": "markdown",
   "metadata": {},
   "source": [
    "#### $F_1$值\n",
    "\n",
    "文档：[sklearn.metrics.f1_score](https://scikit-learn.org/stable/modules/generated/sklearn.metrics.f1_score.html#sklearn.metrics.f1_score)\n",
    "\n",
    "```Python\n",
    "sklearn.metrics.f1_score(y_true, y_pred, labels=None, pos_label=1, average=’binary’, sample_weight=None)\n",
    "```"
   ]
  },
  {
   "cell_type": "code",
   "execution_count": 20,
   "metadata": {},
   "outputs": [
    {
     "name": "stdout",
     "output_type": "stream",
     "text": [
      "0.4\n"
     ]
    }
   ],
   "source": [
    "f1 = metrics.f1_score(y_true, y_pred)\n",
    "print(f1)"
   ]
  },
  {
   "cell_type": "markdown",
   "metadata": {},
   "source": [
    "### 其他常用指标 - ROC 与 AUC\n",
    "\n",
    "很多情况下，我们的模型的对测试样本的输出是一个概率预测。比如神经网络对每个测试样本预测出一个0到1之间的实数，然后将这个值与阈值0.5比较，大于0.5就输出1，反之则输出0。\n",
    "\n",
    "我们将每个测试对象做一次排序，最可能是正例（阳性）的排在最前面，最可能是反例（阴性）的则排在最后。在这种情况下，如果我们更重视精确率（查准率），则可以把阈值提高；如果我们更重视召回率（查全率），则可以降低阈值。因此，这个排序的质量好坏，体现了模型在不同任务下的“期望泛化能力”，即应对不同任务要求侧重点的能力，或者说是“一般情况下”泛化性能的好坏。\n",
    "\n",
    "ROC（Receiver Operating Characteristic）曲线就是从这个角度出发来研究模型泛化能力的好方法。\n",
    "\n",
    "\n",
    "#### ROC原理\n",
    "\n",
    "我们根据模型的预测结果对样例排序，按此顺序逐个把样本作为正例预测（相当于把阈值从0逐步提高到1），计算出其真阳性率（True Positive Rate）作为纵坐标值，假阳性率（False Positive Rate）作为横坐标值。\n",
    "\n",
    "#### ROC代码实现\n",
    "\n",
    "文档：[sklearn.metrics.roc_curve](https://scikit-learn.org/stable/modules/generated/sklearn.metrics.roc_curve.html)\n",
    "```Python\n",
    "sklearn.metrics.roc_curve(y_true, y_score, pos_label=None, sample_weight=None, drop_intermediate=True)\n",
    "```\n",
    "\n",
    "首先我们先准备一些模拟数据："
   ]
  },
  {
   "cell_type": "code",
   "execution_count": 46,
   "metadata": {
    "collapsed": true
   },
   "outputs": [],
   "source": [
    "import numpy as np\n",
    "from sklearn import metrics\n",
    "import matplotlib.pyplot as plt\n",
    "\n",
    "y = np.array([1, 1, 2, 2, 1, 1, 1, 1, 2, 1])  # 真实标签，其中1是阳性\n",
    "scores = np.array([0.77, 0.2, 0.44, 0.8, 0.4, 0.09, 0.67, 0.5, 0.68, 0.57])  # 预测概率"
   ]
  },
  {
   "cell_type": "markdown",
   "metadata": {},
   "source": [
    "我们开始绘制ROC曲线，计算真阳性率和假阳性率，使用 roc_curve() 方法："
   ]
  },
  {
   "cell_type": "code",
   "execution_count": 49,
   "metadata": {},
   "outputs": [
    {
     "name": "stdout",
     "output_type": "stream",
     "text": [
      "[ 0.          0.14285714  0.14285714  0.28571429  0.42857143  0.57142857\n",
      "  0.57142857  0.71428571  0.85714286  1.        ]\n",
      "[ 0.33333333  0.33333333  0.66666667  0.66666667  0.66666667  0.66666667\n",
      "  1.          1.          1.          1.        ]\n",
      "[ 0.8   0.77  0.68  0.67  0.57  0.5   0.44  0.4   0.2   0.09]\n"
     ]
    }
   ],
   "source": [
    "fpr, tpr, thresholds = metrics.roc_curve(y, scores, pos_label=2, drop_intermediate=False)  \n",
    "# 这里drop_intermediate=True和drop_intermediate=False对图形没有影响，主要是为了全面展示\n",
    "print(fpr)\n",
    "print(tpr)\n",
    "print(thresholds)"
   ]
  },
  {
   "cell_type": "code",
   "execution_count": 52,
   "metadata": {},
   "outputs": [
    {
     "data": {
      "image/png": "[encoded data removed]",
      "text/plain": [
       "<matplotlib.figure.Figure at 0x1af8ef7a2e8>"
      ]
     },
     "metadata": {},
     "output_type": "display_data"
    }
   ],
   "source": [
    "plt.figure()\n",
    "\n",
    "plt.plot(fpr, tpr, color='darkorange', label='ROC curve')  # ROC曲线\n",
    "plt.plot([0, 1], [0, 1], color='navy', linestyle='--')  # AUC = 0.5参考线\n",
    "plt.xlim([0.0, 1.0])  # X轴\n",
    "plt.ylim([0.0, 1.05])  # Y轴\n",
    "plt.xlabel('False Positive Rate')\n",
    "plt.ylabel('True Positive Rate')\n",
    "plt.title('Receiver operating characteristic example')\n",
    "plt.legend(loc=\"lower right\")\n",
    "plt.show()"
   ]
  },
  {
   "attachments": {},
   "cell_type": "markdown",
   "metadata": {
    "collapsed": true
   },
   "source": [
    "## 感知机\n",
    "\n",
    "感知机（perceptron）是二分类的线性分类器，其输入为实例的特征向量，输出为实例的类别，取 $ +1 $ 和 $ -1 $ 二值。 感知机在1957年由 Rosenblatt 提出，是神经网络与支持向量机的基础。\n",
    "\n",
    "<img src=\"https://timgsa.baidu.com/timg?image&quality=80&size=b9999_10000&sec=1568201664553&di=89be213c3f95c9113f5970de0ec54d6e&imgtype=0&src=http%3A%2F%2Fwww.wenxuge.com%2Fuploads%2Fallimg%2F170121%2F135A94W0-1.jpg\" width=\"300\" alt=\"[年轻时候的Rosenblatt\" align=center>\n",
    "\n",
    "$$年轻时候的Rosenblatt$$\n",
    "\n",
    "### 感知机原理\n",
    "\n",
    "由输入空间到输出空间，感知机函数如下：\n",
    "\n",
    "$$ f(x) = \\operatorname{sign}(w\\cdot x+b) $$\n",
    "\n",
    "其中：$$ \\operatorname{sign}(x)=\\left\\{\\begin{array}{ll}{+1,} & {x \\geqslant 0} \\\\ {-1,} & {x<0}\\end{array}\\right. $$\n",
    "\n",
    "感知机的学习，有给定训练数据集（实例的特征向量及类别）：$$ T = \\{(x_1, y_1),(x_2, y_2),\\ldots, (x_N, y_N) \\} $$\n",
    "\n",
    "其中：\n",
    "\n",
    "$ x\\in \\mathbb X $，表示实例的特征向量。 $ \\mathbb X \\subseteq \\operatorname{R}^n $，表示感知机的输入空间（特征空间）。\n",
    "\n",
    "$ y_i\\in \\mathbb Y= \\{+1, -1\\},i=1,2,\\ldots,N $ ，表示输出空间。\n",
    "\n",
    "概念比较抽象的话，可以用我们熟悉的 iris 数据集类比。\n",
    "\n",
    "代码实现如下："
   ]
  },
  {
   "cell_type": "code",
   "execution_count": 33,
   "metadata": {},
   "outputs": [
    {
     "data": {
      "text/html": [
       "<div>\n",
       "<style scoped>\n",
       "    .dataframe tbody tr th:only-of-type {\n",
       "        vertical-align: middle;\n",
       "    }\n",
       "\n",
       "    .dataframe tbody tr th {\n",
       "        vertical-align: top;\n",
       "    }\n",
       "\n",
       "    .dataframe thead th {\n",
       "        text-align: right;\n",
       "    }\n",
       "</style>\n",
       "<table border=\"1\" class=\"dataframe\">\n",
       "  <thead>\n",
       "    <tr style=\"text-align: right;\">\n",
       "      <th></th>\n",
       "      <th>Id</th>\n",
       "      <th>SepalLengthCm</th>\n",
       "      <th>SepalWidthCm</th>\n",
       "      <th>PetalLengthCm</th>\n",
       "      <th>PetalWidthCm</th>\n",
       "      <th>Species</th>\n",
       "    </tr>\n",
       "  </thead>\n",
       "  <tbody>\n",
       "    <tr>\n",
       "      <th>0</th>\n",
       "      <td>1</td>\n",
       "      <td>5.1</td>\n",
       "      <td>3.5</td>\n",
       "      <td>1.4</td>\n",
       "      <td>0.2</td>\n",
       "      <td>Iris-setosa</td>\n",
       "    </tr>\n",
       "    <tr>\n",
       "      <th>1</th>\n",
       "      <td>2</td>\n",
       "      <td>4.9</td>\n",
       "      <td>3.0</td>\n",
       "      <td>1.4</td>\n",
       "      <td>0.2</td>\n",
       "      <td>Iris-setosa</td>\n",
       "    </tr>\n",
       "    <tr>\n",
       "      <th>2</th>\n",
       "      <td>3</td>\n",
       "      <td>4.7</td>\n",
       "      <td>3.2</td>\n",
       "      <td>1.3</td>\n",
       "      <td>0.2</td>\n",
       "      <td>Iris-setosa</td>\n",
       "    </tr>\n",
       "    <tr>\n",
       "      <th>3</th>\n",
       "      <td>4</td>\n",
       "      <td>4.6</td>\n",
       "      <td>3.1</td>\n",
       "      <td>1.5</td>\n",
       "      <td>0.2</td>\n",
       "      <td>Iris-setosa</td>\n",
       "    </tr>\n",
       "    <tr>\n",
       "      <th>4</th>\n",
       "      <td>5</td>\n",
       "      <td>5.0</td>\n",
       "      <td>3.6</td>\n",
       "      <td>1.4</td>\n",
       "      <td>0.2</td>\n",
       "      <td>Iris-setosa</td>\n",
       "    </tr>\n",
       "    <tr>\n",
       "      <th>5</th>\n",
       "      <td>51</td>\n",
       "      <td>7.0</td>\n",
       "      <td>3.2</td>\n",
       "      <td>4.7</td>\n",
       "      <td>1.4</td>\n",
       "      <td>Iris-versicolor</td>\n",
       "    </tr>\n",
       "    <tr>\n",
       "      <th>6</th>\n",
       "      <td>52</td>\n",
       "      <td>6.4</td>\n",
       "      <td>3.2</td>\n",
       "      <td>4.5</td>\n",
       "      <td>1.5</td>\n",
       "      <td>Iris-versicolor</td>\n",
       "    </tr>\n",
       "    <tr>\n",
       "      <th>7</th>\n",
       "      <td>53</td>\n",
       "      <td>6.9</td>\n",
       "      <td>3.1</td>\n",
       "      <td>4.9</td>\n",
       "      <td>1.5</td>\n",
       "      <td>Iris-versicolor</td>\n",
       "    </tr>\n",
       "    <tr>\n",
       "      <th>8</th>\n",
       "      <td>54</td>\n",
       "      <td>5.5</td>\n",
       "      <td>2.3</td>\n",
       "      <td>4.0</td>\n",
       "      <td>1.3</td>\n",
       "      <td>Iris-versicolor</td>\n",
       "    </tr>\n",
       "    <tr>\n",
       "      <th>9</th>\n",
       "      <td>55</td>\n",
       "      <td>6.5</td>\n",
       "      <td>2.8</td>\n",
       "      <td>4.6</td>\n",
       "      <td>1.5</td>\n",
       "      <td>Iris-versicolor</td>\n",
       "    </tr>\n",
       "  </tbody>\n",
       "</table>\n",
       "</div>"
      ],
      "text/plain": [
       "   Id  SepalLengthCm  SepalWidthCm  PetalLengthCm  PetalWidthCm  \\\n",
       "0   1            5.1           3.5            1.4           0.2   \n",
       "1   2            4.9           3.0            1.4           0.2   \n",
       "2   3            4.7           3.2            1.3           0.2   \n",
       "3   4            4.6           3.1            1.5           0.2   \n",
       "4   5            5.0           3.6            1.4           0.2   \n",
       "5  51            7.0           3.2            4.7           1.4   \n",
       "6  52            6.4           3.2            4.5           1.5   \n",
       "7  53            6.9           3.1            4.9           1.5   \n",
       "8  54            5.5           2.3            4.0           1.3   \n",
       "9  55            6.5           2.8            4.6           1.5   \n",
       "\n",
       "           Species  \n",
       "0      Iris-setosa  \n",
       "1      Iris-setosa  \n",
       "2      Iris-setosa  \n",
       "3      Iris-setosa  \n",
       "4      Iris-setosa  \n",
       "5  Iris-versicolor  \n",
       "6  Iris-versicolor  \n",
       "7  Iris-versicolor  \n",
       "8  Iris-versicolor  \n",
       "9  Iris-versicolor  "
      ]
     },
     "execution_count": 33,
     "metadata": {},
     "output_type": "execute_result"
    }
   ],
   "source": [
    "import pandas as pd\n",
    "\n",
    "iris = pd.read_csv(\"Iris.csv\")  # 读取文件\n",
    "iris_setosa = iris.iloc[0:5]  # 按行索引筛选特定行，注意索引从0开始\n",
    "iris_versicolor = iris.iloc[50:55]  # 按行索引筛选特定行，注意索引从0开始\n",
    "sample_iris = iris_setosa.append(iris_versicolor)  # 组合两个dataframe\n",
    "sample_iris.reset_index(drop=True, inplace=True)  # 重置索引\n",
    "sample_iris"
   ]
  },
  {
   "cell_type": "markdown",
   "metadata": {},
   "source": [
    "将标签 Species 中的 Iris-setosa 设为 $+1$，将 Iris-versicolora 设为 $-1$。\n",
    "\n",
    "代码实现如下："
   ]
  },
  {
   "cell_type": "code",
   "execution_count": 35,
   "metadata": {},
   "outputs": [
    {
     "data": {
      "text/html": [
       "<div>\n",
       "<style scoped>\n",
       "    .dataframe tbody tr th:only-of-type {\n",
       "        vertical-align: middle;\n",
       "    }\n",
       "\n",
       "    .dataframe tbody tr th {\n",
       "        vertical-align: top;\n",
       "    }\n",
       "\n",
       "    .dataframe thead th {\n",
       "        text-align: right;\n",
       "    }\n",
       "</style>\n",
       "<table border=\"1\" class=\"dataframe\">\n",
       "  <thead>\n",
       "    <tr style=\"text-align: right;\">\n",
       "      <th></th>\n",
       "      <th>Id</th>\n",
       "      <th>SepalLengthCm</th>\n",
       "      <th>SepalWidthCm</th>\n",
       "      <th>PetalLengthCm</th>\n",
       "      <th>PetalWidthCm</th>\n",
       "      <th>Species</th>\n",
       "    </tr>\n",
       "  </thead>\n",
       "  <tbody>\n",
       "    <tr>\n",
       "      <th>0</th>\n",
       "      <td>1</td>\n",
       "      <td>5.1</td>\n",
       "      <td>3.5</td>\n",
       "      <td>1.4</td>\n",
       "      <td>0.2</td>\n",
       "      <td>1</td>\n",
       "    </tr>\n",
       "    <tr>\n",
       "      <th>1</th>\n",
       "      <td>2</td>\n",
       "      <td>4.9</td>\n",
       "      <td>3.0</td>\n",
       "      <td>1.4</td>\n",
       "      <td>0.2</td>\n",
       "      <td>1</td>\n",
       "    </tr>\n",
       "    <tr>\n",
       "      <th>2</th>\n",
       "      <td>3</td>\n",
       "      <td>4.7</td>\n",
       "      <td>3.2</td>\n",
       "      <td>1.3</td>\n",
       "      <td>0.2</td>\n",
       "      <td>1</td>\n",
       "    </tr>\n",
       "    <tr>\n",
       "      <th>3</th>\n",
       "      <td>4</td>\n",
       "      <td>4.6</td>\n",
       "      <td>3.1</td>\n",
       "      <td>1.5</td>\n",
       "      <td>0.2</td>\n",
       "      <td>1</td>\n",
       "    </tr>\n",
       "    <tr>\n",
       "      <th>4</th>\n",
       "      <td>5</td>\n",
       "      <td>5.0</td>\n",
       "      <td>3.6</td>\n",
       "      <td>1.4</td>\n",
       "      <td>0.2</td>\n",
       "      <td>1</td>\n",
       "    </tr>\n",
       "    <tr>\n",
       "      <th>5</th>\n",
       "      <td>51</td>\n",
       "      <td>7.0</td>\n",
       "      <td>3.2</td>\n",
       "      <td>4.7</td>\n",
       "      <td>1.4</td>\n",
       "      <td>-1</td>\n",
       "    </tr>\n",
       "    <tr>\n",
       "      <th>6</th>\n",
       "      <td>52</td>\n",
       "      <td>6.4</td>\n",
       "      <td>3.2</td>\n",
       "      <td>4.5</td>\n",
       "      <td>1.5</td>\n",
       "      <td>-1</td>\n",
       "    </tr>\n",
       "    <tr>\n",
       "      <th>7</th>\n",
       "      <td>53</td>\n",
       "      <td>6.9</td>\n",
       "      <td>3.1</td>\n",
       "      <td>4.9</td>\n",
       "      <td>1.5</td>\n",
       "      <td>-1</td>\n",
       "    </tr>\n",
       "    <tr>\n",
       "      <th>8</th>\n",
       "      <td>54</td>\n",
       "      <td>5.5</td>\n",
       "      <td>2.3</td>\n",
       "      <td>4.0</td>\n",
       "      <td>1.3</td>\n",
       "      <td>-1</td>\n",
       "    </tr>\n",
       "    <tr>\n",
       "      <th>9</th>\n",
       "      <td>55</td>\n",
       "      <td>6.5</td>\n",
       "      <td>2.8</td>\n",
       "      <td>4.6</td>\n",
       "      <td>1.5</td>\n",
       "      <td>-1</td>\n",
       "    </tr>\n",
       "  </tbody>\n",
       "</table>\n",
       "</div>"
      ],
      "text/plain": [
       "   Id  SepalLengthCm  SepalWidthCm  PetalLengthCm  PetalWidthCm  Species\n",
       "0   1            5.1           3.5            1.4           0.2        1\n",
       "1   2            4.9           3.0            1.4           0.2        1\n",
       "2   3            4.7           3.2            1.3           0.2        1\n",
       "3   4            4.6           3.1            1.5           0.2        1\n",
       "4   5            5.0           3.6            1.4           0.2        1\n",
       "5  51            7.0           3.2            4.7           1.4       -1\n",
       "6  52            6.4           3.2            4.5           1.5       -1\n",
       "7  53            6.9           3.1            4.9           1.5       -1\n",
       "8  54            5.5           2.3            4.0           1.3       -1\n",
       "9  55            6.5           2.8            4.6           1.5       -1"
      ]
     },
     "execution_count": 35,
     "metadata": {},
     "output_type": "execute_result"
    }
   ],
   "source": [
    "# 不建议用被注释掉的方法\n",
    "# sample_iris[\"Species\"][sample_iris[\"Species\"] == 'Iris-setosa'] = 1\n",
    "# sample_iris[\"Species\"][sample_iris[\"Species\"] == 'Iris-versicolor'] = -1\n",
    "sample_iris[\"Species\"] = sample_iris[\"Species\"].replace(\"Iris-setosa\", 1)\n",
    "sample_iris[\"Species\"] = sample_iris[\"Species\"].replace(\"Iris-versicolor\", -1)\n",
    "sample_iris"
   ]
  },
  {
   "cell_type": "markdown",
   "metadata": {},
   "source": [
    "上述 iris 数据集的子集，如果不算 id 列，那么就是一个四维的特征空间。每一朵花瓣的长宽和花萼的长宽就是这朵花（实例）的特征向量。"
   ]
  },
  {
   "cell_type": "markdown",
   "metadata": {},
   "source": [
    "### 感知机的学习策略\n",
    "\n",
    "待补充\n",
    "\n",
    "### 手写算法实现\n",
    "\n",
    "待补充\n",
    "\n",
    "### 调用现成轮子\n",
    "\n",
    "待补充\n",
    "\n",
    "## SKlearn中的感知机\n",
    "\n",
    "[利用sklearn实现感知机（perceptron）算法](https://blog.csdn.net/u011630575/article/details/79396135)"
   ]
  },
  {
   "cell_type": "code",
   "execution_count": null,
   "metadata": {},
   "outputs": [],
   "source": []
  },
  {
   "cell_type": "code",
   "execution_count": null,
   "metadata": {},
   "outputs": [],
   "source": []
  },
  {
   "cell_type": "code",
   "execution_count": null,
   "metadata": {},
   "outputs": [],
   "source": []
  }
 ],
 "metadata": {
  "kernelspec": {
   "display_name": "Python 3",
   "language": "python",
   "name": "python3"
  },
  "language_info": {
   "codemirror_mode": {
    "name": "ipython",
    "version": 3
   },
   "file_extension": ".py",
   "mimetype": "text/x-python",
   "name": "python",
   "nbconvert_exporter": "python",
   "pygments_lexer": "ipython3",
   "version": "3.6.8"
  }
 },
 "nbformat": 4,
 "nbformat_minor": 2
}
