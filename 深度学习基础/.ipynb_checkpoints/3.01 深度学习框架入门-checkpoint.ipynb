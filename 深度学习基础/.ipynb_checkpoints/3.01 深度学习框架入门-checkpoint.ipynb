{
 "cells": [
  {
   "cell_type": "markdown",
   "metadata": {},
   "source": [
    "# 深度学习框架入门\n",
    "\n",
    "作者：杨岱川\n",
    "\n",
    "时间：2019年12月\n",
    "\n",
    "github：https://github.com/DrDavidS/basic_Machine_Learning\n",
    "\n",
    "开源协议：[MIT](https://github.com/DrDavidS/basic_Machine_Learning/blob/master/LICENSE)\n",
    "\n",
    "## 承上启下\n",
    "\n",
    "在之前的机器学习章节里，我们较为详细地讲述了常用的机器学习算法原理和应用，以及利用 Pandas 和 Scikit-Learn 库，也就是 SKLearn ，直接调用一些封装好的机器学习算法类（class），比如：\n",
    "\n",
    "- $k$近邻算法：`sklearn.neighbors.KNeighborsClassifier`\n",
    "- 决策树算法：`sklearn.tree.DecisionTreeClassifier`\n",
    "- 朴素贝叶斯算法：`sklearn.naive_bayes.GaussianNB`\n",
    "- 随机森林算法：`sklearn.ensemble.RandomForestClassifier`\n",
    "\n",
    "等等。\n",
    "\n",
    "可以说 SKlearn 是一个很优秀、很常用的 Python 机器学习库，其中不仅有各种封装好的机器学习算法，还有很多特征工程处理算法。\n",
    "\n",
    "在[2.04 特征的统计学检查](https://github.com/DrDavidS/basic_Machine_Learning/blob/master/机器学习基础/2.04%20特征的统计学检查.ipynb)中介绍了相关性系数和数据分布的统计方法，在[2.07 蘑菇分类实践](https://github.com/DrDavidS/basic_Machine_Learning/blob/master/机器学习基础/2.07%20蘑菇分类实践.ipynb)中介绍了**数据探索性分析（Exploratory Data Analysis, EDA）**方法以及数据可视化方法。\n",
    "\n",
    "此外，针对**特征工程（Feature Engineering）**，我们也在[2.09 数据的编码方法](https://github.com/DrDavidS/basic_Machine_Learning/blob/master/机器学习基础/2.09%20数据的编码方法.ipynb)中简要介绍了特征数据的常见编码方法，比如：\n",
    "\n",
    "- Label Encoding\n",
    "- One-Hot Encoding\n",
    "- 周期特征编码\n",
    "\n",
    "等。\n",
    "\n",
    "此外，我们也讨论了部分其他非深度学习的机器学习框架，比如 LightGBM、XGBoost、CatBoost 等，并且详细解读了 XGBoost 算法过程。这些框架在比赛领域和工业界受到了广泛的欢迎，其效果非常优秀且性能也很好，所以应用广泛。\n",
    "\n",
    "在深度学习领域，当我们需要运用深度学习相关知识和各种神经元，比如各位可能听过的 CNN、RNN 之类的东西，搭建一个自己的神经网络结构的时候，SKLearn 可能就不太够用了（虽然 SKLearn 还是提供了一个很简单的[神经网络模型](https://scikit-learn.org/stable/modules/neural_networks_supervised.html)）。"
   ]
  },
  {
   "cell_type": "markdown",
   "metadata": {},
   "source": [
    "## 神经网络\n",
    "\n"
   ]
  },
  {
   "cell_type": "code",
   "execution_count": null,
   "metadata": {},
   "outputs": [],
   "source": []
  },
  {
   "cell_type": "code",
   "execution_count": null,
   "metadata": {},
   "outputs": [],
   "source": []
  },
  {
   "cell_type": "markdown",
   "metadata": {},
   "source": [
    "下载并安装 TensorFlow 2.0 。将 TensorFlow 载入你的程序："
   ]
  },
  {
   "cell_type": "code",
   "execution_count": 1,
   "metadata": {},
   "outputs": [
    {
     "ename": "ModuleNotFoundError",
     "evalue": "No module named 'tensorflow'",
     "output_type": "error",
     "traceback": [
      "\u001b[1;31m---------------------------------------------------------------------------\u001b[0m",
      "\u001b[1;31mModuleNotFoundError\u001b[0m                       Traceback (most recent call last)",
      "\u001b[1;32m<ipython-input-1-36479734903a>\u001b[0m in \u001b[0;36m<module>\u001b[1;34m\u001b[0m\n\u001b[0;32m      1\u001b[0m \u001b[1;32mfrom\u001b[0m \u001b[0m__future__\u001b[0m \u001b[1;32mimport\u001b[0m \u001b[0mabsolute_import\u001b[0m\u001b[1;33m,\u001b[0m \u001b[0mdivision\u001b[0m\u001b[1;33m,\u001b[0m \u001b[0mprint_function\u001b[0m\u001b[1;33m,\u001b[0m \u001b[0municode_literals\u001b[0m\u001b[1;33m\u001b[0m\u001b[1;33m\u001b[0m\u001b[0m\n\u001b[1;32m----> 2\u001b[1;33m \u001b[1;32mimport\u001b[0m \u001b[0mtensorflow\u001b[0m \u001b[1;32mas\u001b[0m \u001b[0mtf\u001b[0m\u001b[1;33m\u001b[0m\u001b[1;33m\u001b[0m\u001b[0m\n\u001b[0m",
      "\u001b[1;31mModuleNotFoundError\u001b[0m: No module named 'tensorflow'"
     ]
    }
   ],
   "source": [
    "from __future__ import absolute_import, division, print_function, unicode_literals\n",
    "import tensorflow as tf"
   ]
  },
  {
   "cell_type": "markdown",
   "metadata": {},
   "source": [
    "载入并准备好 MNIST 数据集。将样本从整数转换为浮点数："
   ]
  },
  {
   "cell_type": "code",
   "execution_count": 2,
   "metadata": {},
   "outputs": [
    {
     "name": "stdout",
     "output_type": "stream",
     "text": [
      "Downloading data from https://storage.googleapis.com/tensorflow/tf-keras-datasets/mnist.npz\n",
      "11493376/11490434 [==============================] - 3s 0us/step\n"
     ]
    }
   ],
   "source": [
    "mnist = tf.keras.datasets.mnist\n",
    "\n",
    "(x_train, y_train), (x_test, y_test) = mnist.load_data()\n",
    "x_train, x_test = x_train / 255.0, x_test / 255.0"
   ]
  },
  {
   "cell_type": "markdown",
   "metadata": {},
   "source": [
    "将模型的各层堆叠起来，以搭建 `tf.keras.Sequential` 模型。为训练选择优化器和损失函数："
   ]
  },
  {
   "cell_type": "code",
   "execution_count": 3,
   "metadata": {},
   "outputs": [],
   "source": [
    "model = tf.keras.models.Sequential([\n",
    "  tf.keras.layers.Flatten(input_shape=(28, 28)),\n",
    "  tf.keras.layers.Dense(128, activation='relu'),\n",
    "  tf.keras.layers.Dropout(0.2),\n",
    "  tf.keras.layers.Dense(10, activation='softmax')\n",
    "])\n",
    "\n",
    "model.compile(optimizer='adam',\n",
    "              loss='sparse_categorical_crossentropy',\n",
    "              metrics=['accuracy'])"
   ]
  },
  {
   "cell_type": "markdown",
   "metadata": {},
   "source": [
    "训练并验证模型："
   ]
  },
  {
   "cell_type": "code",
   "execution_count": 4,
   "metadata": {},
   "outputs": [
    {
     "name": "stdout",
     "output_type": "stream",
     "text": [
      "Train on 60000 samples\n",
      "Epoch 1/5\n",
      "60000/60000 [==============================] - 2s 34us/sample - loss: 0.2977 - accuracy: 0.9140\n",
      "Epoch 2/5\n",
      "60000/60000 [==============================] - 2s 28us/sample - loss: 0.1425 - accuracy: 0.9577\n",
      "Epoch 3/5\n",
      "60000/60000 [==============================] - 2s 29us/sample - loss: 0.1063 - accuracy: 0.9671\n",
      "Epoch 4/5\n",
      "60000/60000 [==============================] - 2s 29us/sample - loss: 0.0881 - accuracy: 0.9728\n",
      "Epoch 5/5\n",
      "60000/60000 [==============================] - 2s 29us/sample - loss: 0.0725 - accuracy: 0.9775\n",
      "10000/1 - 0s - loss: 0.0354 - accuracy: 0.9773\n"
     ]
    },
    {
     "data": {
      "text/plain": [
       "[0.06881703766956926, 0.9773]"
      ]
     },
     "execution_count": 4,
     "metadata": {},
     "output_type": "execute_result"
    }
   ],
   "source": [
    "model.fit(x_train, y_train, epochs=5)\n",
    "\n",
    "model.evaluate(x_test,  y_test, verbose=2)"
   ]
  },
  {
   "cell_type": "code",
   "execution_count": null,
   "metadata": {},
   "outputs": [],
   "source": []
  },
  {
   "cell_type": "code",
   "execution_count": null,
   "metadata": {},
   "outputs": [],
   "source": []
  },
  {
   "cell_type": "code",
   "execution_count": null,
   "metadata": {},
   "outputs": [],
   "source": []
  },
  {
   "cell_type": "code",
   "execution_count": null,
   "metadata": {},
   "outputs": [],
   "source": []
  }
 ],
 "metadata": {
  "kernelspec": {
   "display_name": "Python 3",
   "language": "python",
   "name": "python3"
  },
  "language_info": {
   "codemirror_mode": {
    "name": "ipython",
    "version": 3
   },
   "file_extension": ".py",
   "mimetype": "text/x-python",
   "name": "python",
   "nbconvert_exporter": "python",
   "pygments_lexer": "ipython3",
   "version": "3.6.8"
  }
 },
 "nbformat": 4,
 "nbformat_minor": 2
}
