{
 "cells": [
  {
   "cell_type": "markdown",
   "metadata": {},
   "source": [
    "# 神经网络的训练\n",
    "\n",
    "作者：杨岱川\n",
    "\n",
    "时间：2019年12月\n",
    "\n",
    "github：https://github.com/DrDavidS/basic_Machine_Learning\n",
    "\n",
    "开源协议：[MIT](https://github.com/DrDavidS/basic_Machine_Learning/blob/master/LICENSE)\n",
    "\n",
    "参考文献：\n",
    "\n",
    "- 《深度学习入门》，作者：斋藤康毅；\n",
    "- 《深度学习》，作者：Ian Goodfellow 、Yoshua Bengio、Aaron Courville。\n",
    "- [Keras overview](https://tensorflow.google.cn/guide/keras/overview)\n",
    "\n",
    "## 本节目的\n",
    "\n",
    "在[3.01 神经网络与前向传播](https://github.com/DrDavidS/basic_Machine_Learning/blob/master/深度学习基础/3.01%20神经网络与前向传播.ipynb)中我们学习了基于多层感知机的神经网络前向传播的原理，并且动手实现了一个很简单的神经网络模型。\n",
    "\n",
    "但是，目前为止我们搭建的神经网络的权重矩阵 $W$ 是随机初始化的，我们只能说把输入 $X$ “喂”了进去， 然后“跑通”了这个网络。但是它的输出并没有任何实际的意义，因为我们并没有对它进行训练。\n",
    "\n",
    "在 3.02 教程中，我们的主题就是**神经网络的学习**，也就是我们的神经网络是如何从训练数据中自动获取最优权重参数的过程，这个过程的主要思想和之前在传统机器学习中描述的训练本质相同。\n",
    "\n",
    "我们为了让神经网络能够进行学习，将导入**损失函数（loss function）**这一指标，相信大家对其并不陌生。\n",
    "\n",
    "神经网络学习的目的就是以损失函数为基准，找出能够使它的值达到最小的权重参数。而为了找出尽可能小的损失函数的值，我们将采用**梯度法**。\n",
    "\n",
    "> 这些名词是不是听起来都很熟悉？  \n",
    ">\n",
    ">“梯度法”在[2.11 XGBoost原理与应用](https://github.com/DrDavidS/basic_Machine_Learning/blob/master/机器学习基础/2.11%20XGBoost原理与应用.ipynb)中以**梯度提升**的形式出现，而“损失函数”更是贯穿了整个传统机器学习过程。"
   ]
  },
  {
   "cell_type": "markdown",
   "metadata": {},
   "source": [
    "## 从数据中心学习\n",
    "\n",
    "同其他机器学习算法一样，神经网络的特征仍然是可以从数据中学习。"
   ]
  },
  {
   "cell_type": "code",
   "execution_count": null,
   "metadata": {},
   "outputs": [],
   "source": []
  },
  {
   "cell_type": "code",
   "execution_count": null,
   "metadata": {},
   "outputs": [],
   "source": []
  }
 ],
 "metadata": {
  "kernelspec": {
   "display_name": "Python 3",
   "language": "python",
   "name": "python3"
  },
  "language_info": {
   "codemirror_mode": {
    "name": "ipython",
    "version": 3
   },
   "file_extension": ".py",
   "mimetype": "text/x-python",
   "name": "python",
   "nbconvert_exporter": "python",
   "pygments_lexer": "ipython3",
   "version": "3.7.4"
  }
 },
 "nbformat": 4,
 "nbformat_minor": 2
}
