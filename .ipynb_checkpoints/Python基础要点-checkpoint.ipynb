{
 "cells": [
  {
   "cell_type": "markdown",
   "metadata": {},
   "source": [
    "# Python基础\n",
    "\n",
    "## Python的算数计算\n",
    "\n",
    "Python是一门动态语言，在给变量赋值之前不需要指明变量的数据类型。这样的优点就是开发快速，阅读方便；缺点是一些情况下不方便调试。\n",
    "\n",
    "现在我们来实践一下Python的基本算数运算"
   ]
  },
  {
   "cell_type": "code",
   "execution_count": 1,
   "metadata": {},
   "outputs": [],
   "source": [
    "x = 5\n",
    "y = 6\n",
    "z = x + y"
   ]
  },
  {
   "cell_type": "code",
   "execution_count": 2,
   "metadata": {},
   "outputs": [
    {
     "name": "stdout",
     "output_type": "stream",
     "text": [
      "5\n",
      "6\n",
      "11\n"
     ]
    }
   ],
   "source": [
    "print(x)\n",
    "print(y)\n",
    "print(z)"
   ]
  },
  {
   "cell_type": "markdown",
   "metadata": {},
   "source": [
    "有时候我们也没必要总是把每个运算结果存在类似 z 这么一个变量里面，可以直接print。\n",
    "\n",
    "以加减乘除和取余运算为例："
   ]
  },
  {
   "cell_type": "code",
   "execution_count": 3,
   "metadata": {},
   "outputs": [
    {
     "name": "stdout",
     "output_type": "stream",
     "text": [
      "x + y=  11\n",
      "x - y=  -1\n",
      "x * y=  30\n",
      "x / y=  0.8333333333333334\n",
      "x % y=  5\n"
     ]
    }
   ],
   "source": [
    "print(\"x + y= \", x + y)\n",
    "print(\"x - y= \", x - y)\n",
    "print(\"x * y= \", x * y)\n",
    "print(\"x / y= \", x / y)\n",
    "print(\"x % y= \", x % y)"
   ]
  },
  {
   "cell_type": "markdown",
   "metadata": {},
   "source": [
    "接下来是乘方和开方的实现方法（不包含复数运算）："
   ]
  },
  {
   "cell_type": "code",
   "execution_count": 4,
   "metadata": {},
   "outputs": [
    {
     "name": "stdout",
     "output_type": "stream",
     "text": [
      "x的平方：  25\n",
      "x开方：  2.23606797749979\n"
     ]
    }
   ],
   "source": [
    "print(\"x的平方： \", x**2)\n",
    "print(\"x开方： \", x**0.5)"
   ]
  },
  {
   "cell_type": "markdown",
   "metadata": {},
   "source": [
    "## Python的基本数据类型\n",
    "\n",
    "数据类型和机器学习密切相关。在很多情况下，机器学习所用的数据都是如下类型：\n",
    "\n",
    "- 整数，int\n",
    "- 浮点数（小数），float\n",
    "- 字符串（文字），string\n",
    "- 布尔值（是否），bool"
   ]
  },
  {
   "cell_type": "code",
   "execution_count": 5,
   "metadata": {},
   "outputs": [
    {
     "name": "stdout",
     "output_type": "stream",
     "text": [
      "1\n",
      "<class 'int'>\n"
     ]
    }
   ],
   "source": [
    "a = 1\n",
    "print(a)\n",
    "print(type(a))"
   ]
  },
  {
   "cell_type": "code",
   "execution_count": 6,
   "metadata": {},
   "outputs": [
    {
     "name": "stdout",
     "output_type": "stream",
     "text": [
      "0.5\n",
      "<class 'float'>\n"
     ]
    }
   ],
   "source": [
    "b = 0.5\n",
    "print(b)\n",
    "print(type(b))"
   ]
  },
  {
   "cell_type": "markdown",
   "metadata": {},
   "source": [
    "如果是 5.0 这样的数字，算 int 还是 float 呢？"
   ]
  },
  {
   "cell_type": "code",
   "execution_count": 7,
   "metadata": {},
   "outputs": [
    {
     "name": "stdout",
     "output_type": "stream",
     "text": [
      "5.0\n",
      "<class 'float'>\n"
     ]
    }
   ],
   "source": [
    "c = 5.0\n",
    "print(c)\n",
    "print(type(c))"
   ]
  },
  {
   "cell_type": "markdown",
   "metadata": {},
   "source": [
    "接下来是字符串，字符串就是一串“文字”。"
   ]
  },
  {
   "cell_type": "code",
   "execution_count": 8,
   "metadata": {},
   "outputs": [
    {
     "name": "stdout",
     "output_type": "stream",
     "text": [
      "你好\n",
      "<class 'str'>\n"
     ]
    }
   ],
   "source": [
    "word = \"你好\"\n",
    "print(word)\n",
    "print(type(word))"
   ]
  },
  {
   "cell_type": "markdown",
   "metadata": {},
   "source": [
    "最后是布尔类型，只有两种值，一种是 True， 一种是 False。"
   ]
  },
  {
   "cell_type": "code",
   "execution_count": 9,
   "metadata": {},
   "outputs": [
    {
     "name": "stdout",
     "output_type": "stream",
     "text": [
      "True\n",
      "<class 'bool'>\n",
      "False\n",
      "<class 'bool'>\n"
     ]
    }
   ],
   "source": [
    "right = True\n",
    "wrong = False\n",
    "print(right)\n",
    "print(type(right))\n",
    "print(wrong)\n",
    "print(type(wrong))"
   ]
  },
  {
   "cell_type": "markdown",
   "metadata": {},
   "source": [
    "这些就是最常见的数据类型。相信大多数有一定编程基础的人都明白这些类型的区别。\n",
    "\n",
    "在机器学习领域，很多数据都是采用这些数据类型来表示的，比如：\n",
    "\n",
    "- 描述生理性别：使用bool值描述男性或者女性\n",
    "- 描述周岁年龄：使用int值描述周岁年龄\n",
    "- 描述体重：使用float描述体重（kg）\n",
    "- 描述姓名：使用string类型描述人的姓名"
   ]
  },
  {
   "cell_type": "markdown",
   "metadata": {},
   "source": [
    "## Python常见数据结构\n",
    "\n",
    "除变量以外，Python中常见的数据结构还有三种：\n",
    "\n",
    "- 元组（Tuple）\n",
    "- 列表（List）\n",
    "- 字典（Dictionary）\n",
    "\n",
    "### Python 元组\n",
    "\n",
    "Python的元组与列表类似，不同之处在于元组的元素不能修改。\n",
    "\n",
    "元组使用小括号，列表使用方括号。\n",
    "\n",
    "元组创建很简单，只需要在括号中添加元素，并使用逗号隔开即可。"
   ]
  },
  {
   "cell_type": "code",
   "execution_count": 10,
   "metadata": {},
   "outputs": [
    {
     "name": "stdout",
     "output_type": "stream",
     "text": [
      "('physics', 'chemistry', 1997, 2000)\n"
     ]
    }
   ],
   "source": [
    "tup1 = ('physics', 'chemistry', 1997, 2000)\n",
    "print(tup1)"
   ]
  },
  {
   "cell_type": "markdown",
   "metadata": {
    "collapsed": true
   },
   "source": [
    "如果需要访问元组的某个元素，采用如下方法（记住第一位的编号不是1，是0）："
   ]
  },
  {
   "cell_type": "code",
   "execution_count": 11,
   "metadata": {},
   "outputs": [
    {
     "name": "stdout",
     "output_type": "stream",
     "text": [
      "tup1的第一位是：  physics\n",
      "tup1的第二位是：  chemistry\n",
      "tup1的最后一位是：  2000\n"
     ]
    }
   ],
   "source": [
    "print(\"tup1的第一位是： \",tup1[0])\n",
    "print(\"tup1的第二位是： \",tup1[1])\n",
    "print(\"tup1的最后一位是： \",tup1[-1])"
   ]
  },
  {
   "cell_type": "markdown",
   "metadata": {},
   "source": [
    "### Python列表\n",
    "\n",
    "Python的列表是最常见的数据类型，和元组相比，列表中的数据可以被修改。\n",
    "\n",
    "下面我们来新建几个列表："
   ]
  },
  {
   "cell_type": "code",
   "execution_count": 12,
   "metadata": {},
   "outputs": [],
   "source": [
    "list1 = ['physics', 'chemistry', 1997, 2000]\n",
    "list2 = [1, 2, 3, 4, 5 ]\n",
    "list3 = [\"a\", \"b\", \"c\", \"d\"]"
   ]
  },
  {
   "cell_type": "markdown",
   "metadata": {},
   "source": [
    "访问列表元素依旧采用索引的形式："
   ]
  },
  {
   "cell_type": "code",
   "execution_count": 13,
   "metadata": {},
   "outputs": [
    {
     "name": "stdout",
     "output_type": "stream",
     "text": [
      "list1[0]:  physics\n",
      "list2[1:5]:  [2, 3, 4, 5]\n"
     ]
    }
   ],
   "source": [
    "print(\"list1[0]: \", list1[0])\n",
    "print(\"list2[1:5]: \", list2[1:5])"
   ]
  },
  {
   "cell_type": "markdown",
   "metadata": {},
   "source": [
    "### Python字典\n",
    "\n",
    "字典是一种key=>value 对应的数据结构，可以储存任何类型的对象。\n",
    "\n",
    "字典的每个键值 key=>value 对用冒号 : 分割，每个键值对之间用逗号 , 分割，整个字典包括在花括号 {} 中 ,格式如下所示："
   ]
  },
  {
   "cell_type": "code",
   "execution_count": 18,
   "metadata": {},
   "outputs": [
    {
     "data": {
      "text/plain": [
       "{'姓名': '张三', '年龄': 24}"
      ]
     },
     "execution_count": 18,
     "metadata": {},
     "output_type": "execute_result"
    }
   ],
   "source": [
    "dict1 = {'姓名': '张三', '年龄': 23, '年龄': 24}\n",
    "dict1"
   ]
  },
  {
   "cell_type": "code",
   "execution_count": 19,
   "metadata": {},
   "outputs": [
    {
     "data": {
      "text/plain": [
       "24"
      ]
     },
     "execution_count": 19,
     "metadata": {},
     "output_type": "execute_result"
    }
   ],
   "source": [
    "dict1['年龄']"
   ]
  },
  {
   "cell_type": "markdown",
   "metadata": {},
   "source": [
    "如果我们需要在 dict1 中新增一个元素，可以使用以下方法："
   ]
  },
  {
   "cell_type": "code",
   "execution_count": 20,
   "metadata": {},
   "outputs": [],
   "source": [
    "dict1['性别'] = '男'\n",
    "dict1['爱好'] = '篮球'"
   ]
  },
  {
   "cell_type": "code",
   "execution_count": 22,
   "metadata": {},
   "outputs": [
    {
     "data": {
      "text/plain": [
       "{'姓名': '张三', '年龄': 24, '性别': '男', '爱好': '篮球'}"
      ]
     },
     "execution_count": 22,
     "metadata": {},
     "output_type": "execute_result"
    }
   ],
   "source": [
    "dict1"
   ]
  },
  {
   "cell_type": "markdown",
   "metadata": {},
   "source": [
    "## Python基本语法\n",
    "\n",
    "### 使用 if 做简单判断\n",
    "\n",
    "if 语句在绝大多数语言中用于条件判断，在Python中也不例外。if 语句会判断一个条件的成立与否，然后分情况执行下一个步骤。\n",
    "\n",
    "Python 编程中 if 语句用于控制程序的执行，基本形式为：\n",
    "\n",
    "```Python\n",
    "if 判断条件：\n",
    "    执行语句1……\n",
    "else：\n",
    "    执行语句2……\n",
    "```\n",
    "\n",
    "> 注意：Python中没有switch语句，需要使用多个 if 或者 elif 代替。"
   ]
  },
  {
   "cell_type": "code",
   "execution_count": 26,
   "metadata": {},
   "outputs": [
    {
     "name": "stdout",
     "output_type": "stream",
     "text": [
      "这不是橘子\n"
     ]
    }
   ],
   "source": [
    "flag = False\n",
    "name = '苹果'\n",
    "if name == '橘子':         # 判断变量是否为 python \n",
    "    flag = True              # 条件成立时设置标志为真\n",
    "    print('这是橘子')     # 并输出欢迎信息\n",
    "else:\n",
    "    print('这不是橘子')               # 条件不成立时输出变量名称"
   ]
  },
  {
   "cell_type": "markdown",
   "metadata": {},
   "source": [
    "### 使用 for 做循环或者遍历\n",
    "\n",
    "for循环的语法格式如下：\n",
    "```Python\n",
    "for 元素 in 序列:\n",
    "    对每个元素执行语句……\n",
    "```\n",
    "\n",
    "以字符串为例子："
   ]
  },
  {
   "cell_type": "code",
   "execution_count": 28,
   "metadata": {},
   "outputs": [
    {
     "name": "stdout",
     "output_type": "stream",
     "text": [
      "当前字母 : P\n",
      "当前字母 : y\n",
      "当前字母 : t\n",
      "当前字母 : h\n",
      "当前字母 : o\n",
      "当前字母 : n\n"
     ]
    }
   ],
   "source": [
    "for letter in 'Python':     # 第一个实例\n",
    "    print('当前字母 :', letter)"
   ]
  },
  {
   "cell_type": "markdown",
   "metadata": {},
   "source": [
    "以列表为例子：\n",
    "\n",
    "> 注意：fruits 变量是确定的列表，但是 fruit 指的是列表 fruits 中的元素，是临时命名的，也可以改为a、b或者其他名字，这里采用 fruit 是方便理解。"
   ]
  },
  {
   "cell_type": "code",
   "execution_count": 30,
   "metadata": {},
   "outputs": [
    {
     "name": "stdout",
     "output_type": "stream",
     "text": [
      "当前水果 : 香蕉\n",
      "当前水果 : 苹果\n",
      "当前水果 : 芒果\n"
     ]
    }
   ],
   "source": [
    "fruits = ['香蕉', '苹果',  '芒果']\n",
    "for fruit in fruits:        # 第二个实例\n",
    "    print('当前水果 :', fruit)"
   ]
  },
  {
   "cell_type": "markdown",
   "metadata": {},
   "source": [
    "### 使用 def 来编写函数\n",
    "\n",
    "函数是组织好的，可重复使用的，用来实现单一，或相关联功能的代码段。\n",
    "\n",
    "Python 已经提供了很多内建的函数，但是我们也可以自行创建函数。\n",
    "\n",
    "#### 定义一个函数\n",
    "\n",
    "你可以定义一个由自己想要功能的函数，以下是简单的规则：\n",
    "\n",
    "- 函数代码块以 def 关键词开头，后接函数标识符名称和圆括号()。\n",
    "- 任何传入参数和自变量必须放在圆括号中间。圆括号之间可以用于定义参数。\n",
    "- 函数的第一行语句可以选择性地使用文档字符串—用于存放函数说明。\n",
    "- 函数内容以冒号起始，并且缩进。\n",
    "- return [表达式] 结束函数，选择性地返回一个值给调用方。不带表达式的return相当于返回 None。\n",
    "\n",
    "#### 代码示例"
   ]
  },
  {
   "cell_type": "code",
   "execution_count": 36,
   "metadata": {},
   "outputs": [],
   "source": [
    "def print_function(str):\n",
    "    print(str)\n",
    "    if str == '橘子':\n",
    "        print(\"这是一个橘子！\")\n",
    "    else:\n",
    "        print(\"这不是一个橘子！\")\n",
    "    return 123"
   ]
  },
  {
   "cell_type": "code",
   "execution_count": 37,
   "metadata": {},
   "outputs": [
    {
     "name": "stdout",
     "output_type": "stream",
     "text": [
      "橘子\n",
      "这是一个橘子！\n"
     ]
    },
    {
     "data": {
      "text/plain": [
       "123"
      ]
     },
     "execution_count": 37,
     "metadata": {},
     "output_type": "execute_result"
    }
   ],
   "source": [
    "print_function('橘子')"
   ]
  },
  {
   "cell_type": "markdown",
   "metadata": {},
   "source": [
    "我们可以注意到，这个函数打印了相关的内容，但是在 out 一栏中输出的是数字 123， 这是因为我们规定返回值是123。\n",
    "\n",
    "我们可以再测试一下把返回值存入一个变量中。"
   ]
  },
  {
   "cell_type": "code",
   "execution_count": 39,
   "metadata": {},
   "outputs": [
    {
     "name": "stdout",
     "output_type": "stream",
     "text": [
      "苹果\n",
      "这不是一个橘子！\n"
     ]
    }
   ],
   "source": [
    "test =  print_function('苹果')"
   ]
  },
  {
   "cell_type": "code",
   "execution_count": 40,
   "metadata": {},
   "outputs": [
    {
     "name": "stdout",
     "output_type": "stream",
     "text": [
      "123\n"
     ]
    }
   ],
   "source": [
    "print(test)"
   ]
  },
  {
   "cell_type": "code",
   "execution_count": null,
   "metadata": {},
   "outputs": [],
   "source": []
  },
  {
   "cell_type": "code",
   "execution_count": null,
   "metadata": {},
   "outputs": [],
   "source": []
  },
  {
   "cell_type": "code",
   "execution_count": null,
   "metadata": {},
   "outputs": [],
   "source": []
  },
  {
   "cell_type": "code",
   "execution_count": null,
   "metadata": {},
   "outputs": [],
   "source": []
  },
  {
   "cell_type": "code",
   "execution_count": null,
   "metadata": {},
   "outputs": [],
   "source": []
  },
  {
   "cell_type": "code",
   "execution_count": null,
   "metadata": {},
   "outputs": [],
   "source": []
  },
  {
   "cell_type": "code",
   "execution_count": null,
   "metadata": {},
   "outputs": [],
   "source": []
  },
  {
   "cell_type": "code",
   "execution_count": null,
   "metadata": {},
   "outputs": [],
   "source": []
  },
  {
   "cell_type": "code",
   "execution_count": null,
   "metadata": {},
   "outputs": [],
   "source": []
  },
  {
   "cell_type": "code",
   "execution_count": null,
   "metadata": {},
   "outputs": [],
   "source": []
  },
  {
   "cell_type": "code",
   "execution_count": null,
   "metadata": {},
   "outputs": [],
   "source": []
  },
  {
   "cell_type": "code",
   "execution_count": null,
   "metadata": {},
   "outputs": [],
   "source": []
  },
  {
   "cell_type": "code",
   "execution_count": null,
   "metadata": {},
   "outputs": [],
   "source": []
  }
 ],
 "metadata": {
  "kernelspec": {
   "display_name": "Python 3",
   "language": "python",
   "name": "python3"
  },
  "language_info": {
   "codemirror_mode": {
    "name": "ipython",
    "version": 3
   },
   "file_extension": ".py",
   "mimetype": "text/x-python",
   "name": "python",
   "nbconvert_exporter": "python",
   "pygments_lexer": "ipython3",
   "version": "3.6.8"
  }
 },
 "nbformat": 4,
 "nbformat_minor": 2
}
