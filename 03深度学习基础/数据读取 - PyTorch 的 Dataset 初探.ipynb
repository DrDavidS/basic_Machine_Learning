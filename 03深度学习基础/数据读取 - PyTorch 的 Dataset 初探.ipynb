{
 "cells": [
  {
   "cell_type": "markdown",
   "metadata": {},
   "source": [
    "# 数据读取 - PyTorch 的 Dataset 初探\n",
    "\n",
    "CSDN 基本是憨批写的半截教程，看了半天发现写的都是垃圾半吊子东西，还是要我自己写教程。\n",
    "\n",
    "在 TF 中，它是 `keras.utils.Sequence`，在 PyTorch 中，它是 `torch.utils.data.Dataset`，目的都是通过迭代器的形式来读取大数据集。\n",
    "\n",
    "参考资料：[How to use dataset larger than memory?\n",
    "](https://discuss.pytorch.org/t/how-to-use-dataset-larger-than-memory/37785)\n",
    "\n",
    "## Dataset 总览\n",
    "\n",
    "首先看 `torch.utils.data.Dataset`这个抽象类。可以使用这个抽象类来构造 PyTorch 数据集。\n",
    "\n",
    "要注意的是以这个类构造的子类，一般要定义两个函数：\n",
    "\n",
    "- `__getitem__`：必须定义， supporting fetching a data sample for a given key，根据一个 key 去取一个 data。；\n",
    "\n",
    "- `__len__`：可选定义，返回数据集的大小（size）；\n",
    "\n",
    "首先我们定义一个简单的数据集。"
   ]
  },
  {
   "cell_type": "code",
   "execution_count": 1,
   "metadata": {},
   "outputs": [],
   "source": [
    "import math\n",
    "import numpy as np\n",
    "import pandas as pd\n",
    "from sklearn.preprocessing import LabelEncoder\n",
    "import torch\n",
    "from torch.utils.data import Dataset, DataLoader, RandomSampler"
   ]
  },
  {
   "cell_type": "code",
   "execution_count": 2,
   "metadata": {},
   "outputs": [],
   "source": [
    "class NewDataSet(Dataset):\n",
    "    \"\"\"这是一个Dataset子类。\"\"\"\n",
    "    def __init__(self, csv_file):\n",
    "        \"\"\"初始，读取数据\"\"\"\n",
    "        self.csv_data = pd.read_csv(csv_file)\n",
    " \n",
    "    def __getitem__(self, index):\n",
    "        \"\"\"按 index，每次读取一条数据\"\"\"\n",
    "        data = self.csv_data.values[index]\n",
    "        return data\n",
    " \n",
    "    def __len__(self):\n",
    "        \"\"\"返回 csv_data 的总长度\"\"\"\n",
    "        return len(self.csv_data)"
   ]
  },
  {
   "cell_type": "markdown",
   "metadata": {},
   "source": [
    "我们创建了一个 `TxtDataset` 对象，并调用函数。\n",
    "\n",
    "注意 `__getitem__` 的调用要通过 `对象[索引]` 调用。"
   ]
  },
  {
   "cell_type": "code",
   "execution_count": 3,
   "metadata": {},
   "outputs": [
    {
     "name": "stdout",
     "output_type": "stream",
     "text": [
      "150\n"
     ]
    }
   ],
   "source": [
    "# 创建对象\n",
    "iris = NewDataSet(\"Iris.csv\")\n",
    "\n",
    "print(iris.__len__())"
   ]
  },
  {
   "cell_type": "code",
   "execution_count": 4,
   "metadata": {},
   "outputs": [
    {
     "name": "stdout",
     "output_type": "stream",
     "text": [
      "<__main__.NewDataSet object at 0x7fb725e0e350>\n"
     ]
    }
   ],
   "source": [
    "print(iris)"
   ]
  },
  {
   "cell_type": "code",
   "execution_count": 5,
   "metadata": {},
   "outputs": [
    {
     "name": "stdout",
     "output_type": "stream",
     "text": [
      "[1 5.1 3.5 1.4 0.2 'Iris-setosa']\n"
     ]
    }
   ],
   "source": [
    "print(iris[0])"
   ]
  },
  {
   "cell_type": "markdown",
   "metadata": {},
   "source": [
    "## DataSet 类构建\n",
    "\n",
    "### 整个读取\n",
    "\n",
    "实际上我们的 DataLoader 是不能读取 string 类型的 label 的，而 iris 数据集的 label 恰好就是 string 类型的数据。\n",
    "\n",
    "因此我们要重写 `NewDataSet` 类，将数据清洗部分也放入其中。\n",
    "\n",
    "首先我们先用传统方法来读取文件。"
   ]
  },
  {
   "cell_type": "code",
   "execution_count": 16,
   "metadata": {},
   "outputs": [],
   "source": [
    "df_iris = pd.read_csv(\"Iris.csv\", encoding='utf-8')"
   ]
  },
  {
   "cell_type": "code",
   "execution_count": 17,
   "metadata": {},
   "outputs": [
    {
     "data": {
      "text/plain": [
       "Index(['Id', 'SepalLengthCm', 'SepalWidthCm', 'PetalLengthCm', 'PetalWidthCm',\n",
       "       'Species'],\n",
       "      dtype='object')"
      ]
     },
     "execution_count": 17,
     "metadata": {},
     "output_type": "execute_result"
    }
   ],
   "source": [
    "df_iris.columns"
   ]
  },
  {
   "cell_type": "code",
   "execution_count": 18,
   "metadata": {},
   "outputs": [
    {
     "data": {
      "text/html": [
       "<div>\n",
       "<style scoped>\n",
       "    .dataframe tbody tr th:only-of-type {\n",
       "        vertical-align: middle;\n",
       "    }\n",
       "\n",
       "    .dataframe tbody tr th {\n",
       "        vertical-align: top;\n",
       "    }\n",
       "\n",
       "    .dataframe thead th {\n",
       "        text-align: right;\n",
       "    }\n",
       "</style>\n",
       "<table border=\"1\" class=\"dataframe\">\n",
       "  <thead>\n",
       "    <tr style=\"text-align: right;\">\n",
       "      <th></th>\n",
       "      <th>Id</th>\n",
       "      <th>SepalLengthCm</th>\n",
       "      <th>SepalWidthCm</th>\n",
       "      <th>PetalLengthCm</th>\n",
       "      <th>PetalWidthCm</th>\n",
       "      <th>Species</th>\n",
       "    </tr>\n",
       "  </thead>\n",
       "  <tbody>\n",
       "    <tr>\n",
       "      <td>0</td>\n",
       "      <td>1</td>\n",
       "      <td>5.1</td>\n",
       "      <td>3.5</td>\n",
       "      <td>1.4</td>\n",
       "      <td>0.2</td>\n",
       "      <td>Iris-setosa</td>\n",
       "    </tr>\n",
       "    <tr>\n",
       "      <td>1</td>\n",
       "      <td>2</td>\n",
       "      <td>4.9</td>\n",
       "      <td>3.0</td>\n",
       "      <td>1.4</td>\n",
       "      <td>0.2</td>\n",
       "      <td>Iris-setosa</td>\n",
       "    </tr>\n",
       "    <tr>\n",
       "      <td>2</td>\n",
       "      <td>3</td>\n",
       "      <td>4.7</td>\n",
       "      <td>3.2</td>\n",
       "      <td>1.3</td>\n",
       "      <td>0.2</td>\n",
       "      <td>Iris-setosa</td>\n",
       "    </tr>\n",
       "    <tr>\n",
       "      <td>3</td>\n",
       "      <td>4</td>\n",
       "      <td>4.6</td>\n",
       "      <td>3.1</td>\n",
       "      <td>1.5</td>\n",
       "      <td>0.2</td>\n",
       "      <td>Iris-setosa</td>\n",
       "    </tr>\n",
       "    <tr>\n",
       "      <td>4</td>\n",
       "      <td>5</td>\n",
       "      <td>5.0</td>\n",
       "      <td>3.6</td>\n",
       "      <td>1.4</td>\n",
       "      <td>0.2</td>\n",
       "      <td>Iris-setosa</td>\n",
       "    </tr>\n",
       "    <tr>\n",
       "      <td>...</td>\n",
       "      <td>...</td>\n",
       "      <td>...</td>\n",
       "      <td>...</td>\n",
       "      <td>...</td>\n",
       "      <td>...</td>\n",
       "      <td>...</td>\n",
       "    </tr>\n",
       "    <tr>\n",
       "      <td>145</td>\n",
       "      <td>146</td>\n",
       "      <td>6.7</td>\n",
       "      <td>3.0</td>\n",
       "      <td>5.2</td>\n",
       "      <td>2.3</td>\n",
       "      <td>Iris-virginica</td>\n",
       "    </tr>\n",
       "    <tr>\n",
       "      <td>146</td>\n",
       "      <td>147</td>\n",
       "      <td>6.3</td>\n",
       "      <td>2.5</td>\n",
       "      <td>5.0</td>\n",
       "      <td>1.9</td>\n",
       "      <td>Iris-virginica</td>\n",
       "    </tr>\n",
       "    <tr>\n",
       "      <td>147</td>\n",
       "      <td>148</td>\n",
       "      <td>6.5</td>\n",
       "      <td>3.0</td>\n",
       "      <td>5.2</td>\n",
       "      <td>2.0</td>\n",
       "      <td>Iris-virginica</td>\n",
       "    </tr>\n",
       "    <tr>\n",
       "      <td>148</td>\n",
       "      <td>149</td>\n",
       "      <td>6.2</td>\n",
       "      <td>3.4</td>\n",
       "      <td>5.4</td>\n",
       "      <td>2.3</td>\n",
       "      <td>Iris-virginica</td>\n",
       "    </tr>\n",
       "    <tr>\n",
       "      <td>149</td>\n",
       "      <td>150</td>\n",
       "      <td>5.9</td>\n",
       "      <td>3.0</td>\n",
       "      <td>5.1</td>\n",
       "      <td>1.8</td>\n",
       "      <td>Iris-virginica</td>\n",
       "    </tr>\n",
       "  </tbody>\n",
       "</table>\n",
       "<p>150 rows × 6 columns</p>\n",
       "</div>"
      ],
      "text/plain": [
       "      Id  SepalLengthCm  SepalWidthCm  PetalLengthCm  PetalWidthCm  \\\n",
       "0      1            5.1           3.5            1.4           0.2   \n",
       "1      2            4.9           3.0            1.4           0.2   \n",
       "2      3            4.7           3.2            1.3           0.2   \n",
       "3      4            4.6           3.1            1.5           0.2   \n",
       "4      5            5.0           3.6            1.4           0.2   \n",
       "..   ...            ...           ...            ...           ...   \n",
       "145  146            6.7           3.0            5.2           2.3   \n",
       "146  147            6.3           2.5            5.0           1.9   \n",
       "147  148            6.5           3.0            5.2           2.0   \n",
       "148  149            6.2           3.4            5.4           2.3   \n",
       "149  150            5.9           3.0            5.1           1.8   \n",
       "\n",
       "            Species  \n",
       "0       Iris-setosa  \n",
       "1       Iris-setosa  \n",
       "2       Iris-setosa  \n",
       "3       Iris-setosa  \n",
       "4       Iris-setosa  \n",
       "..              ...  \n",
       "145  Iris-virginica  \n",
       "146  Iris-virginica  \n",
       "147  Iris-virginica  \n",
       "148  Iris-virginica  \n",
       "149  Iris-virginica  \n",
       "\n",
       "[150 rows x 6 columns]"
      ]
     },
     "execution_count": 18,
     "metadata": {},
     "output_type": "execute_result"
    }
   ],
   "source": [
    "df_iris"
   ]
  },
  {
   "cell_type": "code",
   "execution_count": 19,
   "metadata": {},
   "outputs": [
    {
     "data": {
      "text/plain": [
       "{'Iris-setosa', 'Iris-versicolor', 'Iris-virginica'}"
      ]
     },
     "execution_count": 19,
     "metadata": {},
     "output_type": "execute_result"
    }
   ],
   "source": [
    "set(df_iris['Species'].values)"
   ]
  },
  {
   "cell_type": "markdown",
   "metadata": {},
   "source": [
    "对于 `Iris.csv` 文件，要把最后一列“Species”改为数字类型，并且我们并不需要 `Id` 这一列。\n",
    "\n",
    "通常做法如下："
   ]
  },
  {
   "cell_type": "code",
   "execution_count": 20,
   "metadata": {},
   "outputs": [],
   "source": [
    "le = LabelEncoder()\n",
    "df_iris['Species'] = le.fit_transform(df_iris['Species'])  # 处理种类\n",
    "df_iris = df_iris.drop(['Id'], axis=1)                     # 删除Id"
   ]
  },
  {
   "cell_type": "code",
   "execution_count": 21,
   "metadata": {},
   "outputs": [
    {
     "data": {
      "text/html": [
       "<div>\n",
       "<style scoped>\n",
       "    .dataframe tbody tr th:only-of-type {\n",
       "        vertical-align: middle;\n",
       "    }\n",
       "\n",
       "    .dataframe tbody tr th {\n",
       "        vertical-align: top;\n",
       "    }\n",
       "\n",
       "    .dataframe thead th {\n",
       "        text-align: right;\n",
       "    }\n",
       "</style>\n",
       "<table border=\"1\" class=\"dataframe\">\n",
       "  <thead>\n",
       "    <tr style=\"text-align: right;\">\n",
       "      <th></th>\n",
       "      <th>SepalLengthCm</th>\n",
       "      <th>SepalWidthCm</th>\n",
       "      <th>PetalLengthCm</th>\n",
       "      <th>PetalWidthCm</th>\n",
       "      <th>Species</th>\n",
       "    </tr>\n",
       "  </thead>\n",
       "  <tbody>\n",
       "    <tr>\n",
       "      <td>0</td>\n",
       "      <td>5.1</td>\n",
       "      <td>3.5</td>\n",
       "      <td>1.4</td>\n",
       "      <td>0.2</td>\n",
       "      <td>0</td>\n",
       "    </tr>\n",
       "    <tr>\n",
       "      <td>1</td>\n",
       "      <td>4.9</td>\n",
       "      <td>3.0</td>\n",
       "      <td>1.4</td>\n",
       "      <td>0.2</td>\n",
       "      <td>0</td>\n",
       "    </tr>\n",
       "    <tr>\n",
       "      <td>2</td>\n",
       "      <td>4.7</td>\n",
       "      <td>3.2</td>\n",
       "      <td>1.3</td>\n",
       "      <td>0.2</td>\n",
       "      <td>0</td>\n",
       "    </tr>\n",
       "    <tr>\n",
       "      <td>3</td>\n",
       "      <td>4.6</td>\n",
       "      <td>3.1</td>\n",
       "      <td>1.5</td>\n",
       "      <td>0.2</td>\n",
       "      <td>0</td>\n",
       "    </tr>\n",
       "    <tr>\n",
       "      <td>4</td>\n",
       "      <td>5.0</td>\n",
       "      <td>3.6</td>\n",
       "      <td>1.4</td>\n",
       "      <td>0.2</td>\n",
       "      <td>0</td>\n",
       "    </tr>\n",
       "  </tbody>\n",
       "</table>\n",
       "</div>"
      ],
      "text/plain": [
       "   SepalLengthCm  SepalWidthCm  PetalLengthCm  PetalWidthCm  Species\n",
       "0            5.1           3.5            1.4           0.2        0\n",
       "1            4.9           3.0            1.4           0.2        0\n",
       "2            4.7           3.2            1.3           0.2        0\n",
       "3            4.6           3.1            1.5           0.2        0\n",
       "4            5.0           3.6            1.4           0.2        0"
      ]
     },
     "execution_count": 21,
     "metadata": {},
     "output_type": "execute_result"
    }
   ],
   "source": [
    "df_iris.head(5)"
   ]
  },
  {
   "cell_type": "markdown",
   "metadata": {},
   "source": [
    "### Chunksize\n",
    "\n",
    "我们的终极目标是按批次读取 `Iris.csv` 文件，首先我们熟悉一下 Chunksize 读取功能。\n",
    "\n",
    "> 当然 `Iris.csv` 的数据量很小，只有区区 150 条。\n",
    ">\n",
    "> 但是想象一下，如果有一个很大很大的 CSV 文件（或者其他文件、数据库表单等），以至于直接将其读为 DataFrame 格式保存在内存中很困难怎么办？\n",
    ">\n",
    "> 有两种办法：\n",
    ">\n",
    "> 一、我们就需要利用 `pd.read_csv()` 的 `chunksize` 功能一批一批地读取。\n",
    ">\n",
    "> 二、我们利用 `pd.read_csv(iterator=True)` 和 `get_chunk(size)` 配合读取。\n",
    ">\n",
    "> 两种原理差不多，都是以迭代器的形式处理的。\n",
    "\n",
    "\n",
    "以 `pd.read_csv()` 为例，参考 [IO tools](https://pandas.pydata.org/pandas-docs/stable/user_guide/io.html) 和 [pandas.read_csv](https://pandas.pydata.org/pandas-docs/stable/reference/api/pandas.read_csv.html) 文档，具体代码如下："
   ]
  },
  {
   "cell_type": "code",
   "execution_count": 22,
   "metadata": {},
   "outputs": [],
   "source": [
    "df_iris_batch = pd.read_csv(\"Iris.csv\",         # 文件名 \n",
    "                            encoding='utf-8',   # 解码\n",
    "                            # header=None,        # 不读取标题\n",
    "                            iterator=True       # 开启迭代功能\n",
    "                           )"
   ]
  },
  {
   "cell_type": "code",
   "execution_count": 24,
   "metadata": {},
   "outputs": [
    {
     "name": "stdout",
     "output_type": "stream",
     "text": [
      "<pandas.io.parsers.TextFileReader object at 0x7fa564d68ad0>\n",
      "\n",
      "\n",
      "<class 'pandas.io.parsers.TextFileReader'>\n",
      "\n",
      "\n",
      "    Id  SepalLengthCm  SepalWidthCm  PetalLengthCm  PetalWidthCm      Species\n",
      "7    8            5.0           3.4            1.5           0.2  Iris-setosa\n",
      "8    9            4.4           2.9            1.4           0.2  Iris-setosa\n",
      "9   10            4.9           3.1            1.5           0.1  Iris-setosa\n",
      "10  11            5.4           3.7            1.5           0.2  Iris-setosa\n",
      "11  12            4.8           3.4            1.6           0.2  Iris-setosa\n",
      "12  13            4.8           3.0            1.4           0.1  Iris-setosa\n",
      "13  14            4.3           3.0            1.1           0.1  Iris-setosa\n",
      "14  15            5.8           4.0            1.2           0.2  Iris-setosa\n",
      "15  16            5.7           4.4            1.5           0.4  Iris-setosa\n",
      "16  17            5.4           3.9            1.3           0.4  Iris-setosa\n",
      "17  18            5.1           3.5            1.4           0.3  Iris-setosa\n",
      "18  19            5.7           3.8            1.7           0.3  Iris-setosa\n",
      "19  20            5.1           3.8            1.5           0.3  Iris-setosa\n",
      "20  21            5.4           3.4            1.7           0.2  Iris-setosa\n",
      "21  22            5.1           3.7            1.5           0.4  Iris-setosa\n",
      "22  23            4.6           3.6            1.0           0.2  Iris-setosa\n",
      "23  24            5.1           3.3            1.7           0.5  Iris-setosa\n",
      "24  25            4.8           3.4            1.9           0.2  Iris-setosa\n",
      "25  26            5.0           3.0            1.6           0.2  Iris-setosa\n",
      "26  27            5.0           3.4            1.6           0.4  Iris-setosa\n"
     ]
    }
   ],
   "source": [
    "print(df_iris_batch)\n",
    "print(\"\\n\")\n",
    "print(type(df_iris_batch))\n",
    "print(\"\\n\")\n",
    "print(df_iris_batch.get_chunk(20))"
   ]
  },
  {
   "cell_type": "markdown",
   "metadata": {},
   "source": [
    "我们可以看出，使用了 `chunksize` 功能后，df_iris_batch 已经不是一个 `DataFrame` 了，而是一个 `TextFileReader`，或者通俗地说，变成了一个 `iterator`。\n",
    "\n",
    "我们可以使用 `for` 循环来读取："
   ]
  },
  {
   "cell_type": "code",
   "execution_count": 88,
   "metadata": {},
   "outputs": [],
   "source": [
    "class NewDataSet(Dataset):\n",
    "    \"\"\"这是一个Dataset子类。\"\"\"\n",
    "    def __init__(self, csv_file, chunkSize, n_samples):\n",
    "        \"\"\"初始，读取数据\"\"\"\n",
    "        self.chunksize = chunkSize\n",
    "        self.reader = pd.read_csv(csv_file,       # 文件名 \n",
    "                            encoding='utf-8',     # 解码 \n",
    "                            iterator=True\n",
    "                           )\n",
    "        self.len = math.ceil(n_samples / self.chunksize)\n",
    " \n",
    "    def __getitem__(self, index):\n",
    "        \"\"\"每次读取一个 chunk_size 的数据，包括预处理\"\"\"\n",
    "        data = self.reader.get_chunk(self.chunksize)\n",
    "        # 替换\n",
    "        data = data.replace({'Species': {'Iris-setosa': 0, \n",
    "                                         'Iris-versicolor': 1,\n",
    "                                         'Iris-virginica': 2}})\n",
    "        data['Species'] = data['Species'].astype(int)\n",
    "        # 转换为 Tensor\n",
    "        tensorData = torch.tensor(data.values, dtype=torch.float32)\n",
    "        inputs = tensorData[:, 1:5]  # 特征\n",
    "        labels = tensorData[:, 5]    # 标签\n",
    "        return inputs, labels \n",
    " \n",
    "    def __len__(self):\n",
    "        \"\"\"返回总的长度，也就是按照 chunk_size 的迭代次数\"\"\"\n",
    "        return self.len"
   ]
  },
  {
   "cell_type": "code",
   "execution_count": 90,
   "metadata": {},
   "outputs": [
    {
     "name": "stdout",
     "output_type": "stream",
     "text": [
      "21\n"
     ]
    }
   ],
   "source": [
    "# 创建对象\n",
    "iris = NewDataSet(\"Iris.csv\", chunkSize=7, n_samples=150)\n",
    "\n",
    "print(iris.__len__())"
   ]
  },
  {
   "cell_type": "markdown",
   "metadata": {},
   "source": [
    "最后看看我们的 `Dataset` 的结果。\n",
    "\n",
    "> 需要注意的是，如果在迭代完成以后再次调用 `next()` 方法，会抛出 `StopIteration` 异常。"
   ]
  },
  {
   "cell_type": "code",
   "execution_count": 91,
   "metadata": {},
   "outputs": [
    {
     "name": "stdout",
     "output_type": "stream",
     "text": [
      "(tensor([[5.1000, 3.5000, 1.4000, 0.2000],\n",
      "        [4.9000, 3.0000, 1.4000, 0.2000],\n",
      "        [4.7000, 3.2000, 1.3000, 0.2000],\n",
      "        [4.6000, 3.1000, 1.5000, 0.2000],\n",
      "        [5.0000, 3.6000, 1.4000, 0.2000],\n",
      "        [5.4000, 3.9000, 1.7000, 0.4000],\n",
      "        [4.6000, 3.4000, 1.4000, 0.3000]]), tensor([0., 0., 0., 0., 0., 0., 0.]))\n"
     ]
    }
   ],
   "source": [
    "print(iris[0])"
   ]
  },
  {
   "cell_type": "markdown",
   "metadata": {},
   "source": [
    "## 接入 DataLoader\n",
    "\n",
    "在 PyTorch 中，我们使用 `torch.utils.data.DataLoader` 从打包好的 `DataSet` 中读取数据。\n",
    "\n",
    "如果我们使用原来的 `TensorDataSet` 是很简单的，由于这里自定义了 `NewDataSet` 类，所以也来试试。\n",
    "\n",
    "### Sampler\n",
    "\n",
    "首先使用 `RandomSampler` 对数据进行采样。\n",
    "\n",
    "RandomSampler 待补充。"
   ]
  },
  {
   "cell_type": "code",
   "execution_count": 103,
   "metadata": {},
   "outputs": [
    {
     "name": "stdout",
     "output_type": "stream",
     "text": [
      "15\n"
     ]
    }
   ],
   "source": [
    "iris = NewDataSet(\"Iris.csv\", \n",
    "                  chunkSize=10,    # chunkSize\n",
    "                  n_samples=150)  # 总数据量\n",
    "print(iris.__len__())\n",
    "\n",
    "# sampler = RandomSampler(iris) "
   ]
  },
  {
   "cell_type": "markdown",
   "metadata": {},
   "source": [
    "### DataLoader"
   ]
  },
  {
   "cell_type": "code",
   "execution_count": 104,
   "metadata": {},
   "outputs": [],
   "source": [
    "dataloader = DataLoader(iris, \n",
    "                        batch_size=10, \n",
    "                        num_workers=1, \n",
    "                        shuffle=False)"
   ]
  },
  {
   "cell_type": "code",
   "execution_count": 105,
   "metadata": {},
   "outputs": [
    {
     "name": "stdout",
     "output_type": "stream",
     "text": [
      "当前step: 0\n",
      "当前特征内容：tensor([[[5.1000, 3.5000, 1.4000, 0.2000],\n",
      "         [4.9000, 3.0000, 1.4000, 0.2000],\n",
      "         [4.7000, 3.2000, 1.3000, 0.2000],\n",
      "         [4.6000, 3.1000, 1.5000, 0.2000],\n",
      "         [5.0000, 3.6000, 1.4000, 0.2000],\n",
      "         [5.4000, 3.9000, 1.7000, 0.4000],\n",
      "         [4.6000, 3.4000, 1.4000, 0.3000],\n",
      "         [5.0000, 3.4000, 1.5000, 0.2000],\n",
      "         [4.4000, 2.9000, 1.4000, 0.2000],\n",
      "         [4.9000, 3.1000, 1.5000, 0.1000]],\n",
      "\n",
      "        [[5.4000, 3.7000, 1.5000, 0.2000],\n",
      "         [4.8000, 3.4000, 1.6000, 0.2000],\n",
      "         [4.8000, 3.0000, 1.4000, 0.1000],\n",
      "         [4.3000, 3.0000, 1.1000, 0.1000],\n",
      "         [5.8000, 4.0000, 1.2000, 0.2000],\n",
      "         [5.7000, 4.4000, 1.5000, 0.4000],\n",
      "         [5.4000, 3.9000, 1.3000, 0.4000],\n",
      "         [5.1000, 3.5000, 1.4000, 0.3000],\n",
      "         [5.7000, 3.8000, 1.7000, 0.3000],\n",
      "         [5.1000, 3.8000, 1.5000, 0.3000]],\n",
      "\n",
      "        [[5.4000, 3.4000, 1.7000, 0.2000],\n",
      "         [5.1000, 3.7000, 1.5000, 0.4000],\n",
      "         [4.6000, 3.6000, 1.0000, 0.2000],\n",
      "         [5.1000, 3.3000, 1.7000, 0.5000],\n",
      "         [4.8000, 3.4000, 1.9000, 0.2000],\n",
      "         [5.0000, 3.0000, 1.6000, 0.2000],\n",
      "         [5.0000, 3.4000, 1.6000, 0.4000],\n",
      "         [5.2000, 3.5000, 1.5000, 0.2000],\n",
      "         [5.2000, 3.4000, 1.4000, 0.2000],\n",
      "         [4.7000, 3.2000, 1.6000, 0.2000]],\n",
      "\n",
      "        [[4.8000, 3.1000, 1.6000, 0.2000],\n",
      "         [5.4000, 3.4000, 1.5000, 0.4000],\n",
      "         [5.2000, 4.1000, 1.5000, 0.1000],\n",
      "         [5.5000, 4.2000, 1.4000, 0.2000],\n",
      "         [4.9000, 3.1000, 1.5000, 0.1000],\n",
      "         [5.0000, 3.2000, 1.2000, 0.2000],\n",
      "         [5.5000, 3.5000, 1.3000, 0.2000],\n",
      "         [4.9000, 3.1000, 1.5000, 0.1000],\n",
      "         [4.4000, 3.0000, 1.3000, 0.2000],\n",
      "         [5.1000, 3.4000, 1.5000, 0.2000]],\n",
      "\n",
      "        [[5.0000, 3.5000, 1.3000, 0.3000],\n",
      "         [4.5000, 2.3000, 1.3000, 0.3000],\n",
      "         [4.4000, 3.2000, 1.3000, 0.2000],\n",
      "         [5.0000, 3.5000, 1.6000, 0.6000],\n",
      "         [5.1000, 3.8000, 1.9000, 0.4000],\n",
      "         [4.8000, 3.0000, 1.4000, 0.3000],\n",
      "         [5.1000, 3.8000, 1.6000, 0.2000],\n",
      "         [4.6000, 3.2000, 1.4000, 0.2000],\n",
      "         [5.3000, 3.7000, 1.5000, 0.2000],\n",
      "         [5.0000, 3.3000, 1.4000, 0.2000]],\n",
      "\n",
      "        [[7.0000, 3.2000, 4.7000, 1.4000],\n",
      "         [6.4000, 3.2000, 4.5000, 1.5000],\n",
      "         [6.9000, 3.1000, 4.9000, 1.5000],\n",
      "         [5.5000, 2.3000, 4.0000, 1.3000],\n",
      "         [6.5000, 2.8000, 4.6000, 1.5000],\n",
      "         [5.7000, 2.8000, 4.5000, 1.3000],\n",
      "         [6.3000, 3.3000, 4.7000, 1.6000],\n",
      "         [4.9000, 2.4000, 3.3000, 1.0000],\n",
      "         [6.6000, 2.9000, 4.6000, 1.3000],\n",
      "         [5.2000, 2.7000, 3.9000, 1.4000]],\n",
      "\n",
      "        [[5.0000, 2.0000, 3.5000, 1.0000],\n",
      "         [5.9000, 3.0000, 4.2000, 1.5000],\n",
      "         [6.0000, 2.2000, 4.0000, 1.0000],\n",
      "         [6.1000, 2.9000, 4.7000, 1.4000],\n",
      "         [5.6000, 2.9000, 3.6000, 1.3000],\n",
      "         [6.7000, 3.1000, 4.4000, 1.4000],\n",
      "         [5.6000, 3.0000, 4.5000, 1.5000],\n",
      "         [5.8000, 2.7000, 4.1000, 1.0000],\n",
      "         [6.2000, 2.2000, 4.5000, 1.5000],\n",
      "         [5.6000, 2.5000, 3.9000, 1.1000]],\n",
      "\n",
      "        [[5.9000, 3.2000, 4.8000, 1.8000],\n",
      "         [6.1000, 2.8000, 4.0000, 1.3000],\n",
      "         [6.3000, 2.5000, 4.9000, 1.5000],\n",
      "         [6.1000, 2.8000, 4.7000, 1.2000],\n",
      "         [6.4000, 2.9000, 4.3000, 1.3000],\n",
      "         [6.6000, 3.0000, 4.4000, 1.4000],\n",
      "         [6.8000, 2.8000, 4.8000, 1.4000],\n",
      "         [6.7000, 3.0000, 5.0000, 1.7000],\n",
      "         [6.0000, 2.9000, 4.5000, 1.5000],\n",
      "         [5.7000, 2.6000, 3.5000, 1.0000]],\n",
      "\n",
      "        [[5.5000, 2.4000, 3.8000, 1.1000],\n",
      "         [5.5000, 2.4000, 3.7000, 1.0000],\n",
      "         [5.8000, 2.7000, 3.9000, 1.2000],\n",
      "         [6.0000, 2.7000, 5.1000, 1.6000],\n",
      "         [5.4000, 3.0000, 4.5000, 1.5000],\n",
      "         [6.0000, 3.4000, 4.5000, 1.6000],\n",
      "         [6.7000, 3.1000, 4.7000, 1.5000],\n",
      "         [6.3000, 2.3000, 4.4000, 1.3000],\n",
      "         [5.6000, 3.0000, 4.1000, 1.3000],\n",
      "         [5.5000, 2.5000, 4.0000, 1.3000]],\n",
      "\n",
      "        [[5.5000, 2.6000, 4.4000, 1.2000],\n",
      "         [6.1000, 3.0000, 4.6000, 1.4000],\n",
      "         [5.8000, 2.6000, 4.0000, 1.2000],\n",
      "         [5.0000, 2.3000, 3.3000, 1.0000],\n",
      "         [5.6000, 2.7000, 4.2000, 1.3000],\n",
      "         [5.7000, 3.0000, 4.2000, 1.2000],\n",
      "         [5.7000, 2.9000, 4.2000, 1.3000],\n",
      "         [6.2000, 2.9000, 4.3000, 1.3000],\n",
      "         [5.1000, 2.5000, 3.0000, 1.1000],\n",
      "         [5.7000, 2.8000, 4.1000, 1.3000]]])\n",
      "当前step: 1\n",
      "当前特征内容：tensor([[[6.3000, 3.3000, 6.0000, 2.5000],\n",
      "         [5.8000, 2.7000, 5.1000, 1.9000],\n",
      "         [7.1000, 3.0000, 5.9000, 2.1000],\n",
      "         [6.3000, 2.9000, 5.6000, 1.8000],\n",
      "         [6.5000, 3.0000, 5.8000, 2.2000],\n",
      "         [7.6000, 3.0000, 6.6000, 2.1000],\n",
      "         [4.9000, 2.5000, 4.5000, 1.7000],\n",
      "         [7.3000, 2.9000, 6.3000, 1.8000],\n",
      "         [6.7000, 2.5000, 5.8000, 1.8000],\n",
      "         [7.2000, 3.6000, 6.1000, 2.5000]],\n",
      "\n",
      "        [[6.5000, 3.2000, 5.1000, 2.0000],\n",
      "         [6.4000, 2.7000, 5.3000, 1.9000],\n",
      "         [6.8000, 3.0000, 5.5000, 2.1000],\n",
      "         [5.7000, 2.5000, 5.0000, 2.0000],\n",
      "         [5.8000, 2.8000, 5.1000, 2.4000],\n",
      "         [6.4000, 3.2000, 5.3000, 2.3000],\n",
      "         [6.5000, 3.0000, 5.5000, 1.8000],\n",
      "         [7.7000, 3.8000, 6.7000, 2.2000],\n",
      "         [7.7000, 2.6000, 6.9000, 2.3000],\n",
      "         [6.0000, 2.2000, 5.0000, 1.5000]],\n",
      "\n",
      "        [[6.9000, 3.2000, 5.7000, 2.3000],\n",
      "         [5.6000, 2.8000, 4.9000, 2.0000],\n",
      "         [7.7000, 2.8000, 6.7000, 2.0000],\n",
      "         [6.3000, 2.7000, 4.9000, 1.8000],\n",
      "         [6.7000, 3.3000, 5.7000, 2.1000],\n",
      "         [7.2000, 3.2000, 6.0000, 1.8000],\n",
      "         [6.2000, 2.8000, 4.8000, 1.8000],\n",
      "         [6.1000, 3.0000, 4.9000, 1.8000],\n",
      "         [6.4000, 2.8000, 5.6000, 2.1000],\n",
      "         [7.2000, 3.0000, 5.8000, 1.6000]],\n",
      "\n",
      "        [[7.4000, 2.8000, 6.1000, 1.9000],\n",
      "         [7.9000, 3.8000, 6.4000, 2.0000],\n",
      "         [6.4000, 2.8000, 5.6000, 2.2000],\n",
      "         [6.3000, 2.8000, 5.1000, 1.5000],\n",
      "         [6.1000, 2.6000, 5.6000, 1.4000],\n",
      "         [7.7000, 3.0000, 6.1000, 2.3000],\n",
      "         [6.3000, 3.4000, 5.6000, 2.4000],\n",
      "         [6.4000, 3.1000, 5.5000, 1.8000],\n",
      "         [6.0000, 3.0000, 4.8000, 1.8000],\n",
      "         [6.9000, 3.1000, 5.4000, 2.1000]],\n",
      "\n",
      "        [[6.7000, 3.1000, 5.6000, 2.4000],\n",
      "         [6.9000, 3.1000, 5.1000, 2.3000],\n",
      "         [5.8000, 2.7000, 5.1000, 1.9000],\n",
      "         [6.8000, 3.2000, 5.9000, 2.3000],\n",
      "         [6.7000, 3.3000, 5.7000, 2.5000],\n",
      "         [6.7000, 3.0000, 5.2000, 2.3000],\n",
      "         [6.3000, 2.5000, 5.0000, 1.9000],\n",
      "         [6.5000, 3.0000, 5.2000, 2.0000],\n",
      "         [6.2000, 3.4000, 5.4000, 2.3000],\n",
      "         [5.9000, 3.0000, 5.1000, 1.8000]]])\n"
     ]
    }
   ],
   "source": [
    "for step, batch in enumerate(dataloader):\n",
    "    print(f\"当前step: {step}\")\n",
    "    train_X, train_y = batch\n",
    "    print(f\"当前特征内容：{train_X}\")"
   ]
  },
  {
   "cell_type": "code",
   "execution_count": null,
   "metadata": {},
   "outputs": [],
   "source": []
  }
 ],
 "metadata": {
  "kernelspec": {
   "display_name": "Python 3",
   "language": "python",
   "name": "python3"
  },
  "language_info": {
   "codemirror_mode": {
    "name": "ipython",
    "version": 3
   },
   "file_extension": ".py",
   "mimetype": "text/x-python",
   "name": "python",
   "nbconvert_exporter": "python",
   "pygments_lexer": "ipython3",
   "version": "3.7.4"
  }
 },
 "nbformat": 4,
 "nbformat_minor": 2
}
