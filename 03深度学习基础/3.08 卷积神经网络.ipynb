{
 "cells": [
  {
   "cell_type": "markdown",
   "metadata": {},
   "source": [
    "# 卷积神经网络\n",
    "\n",
    "作者：杨岱川\n",
    "\n",
    "时间：2020年03月\n",
    "\n",
    "github：https://github.com/DrDavidS/basic_Machine_Learning\n",
    "\n",
    "开源协议：[MIT](https://github.com/DrDavidS/basic_Machine_Learning/blob/master/LICENSE)\n",
    "\n",
    "参考文献：\n",
    "\n",
    "- 《深度学习入门》，作者：斋藤康毅；\n",
    "- 《深度学习》，作者：Ian Goodfellow 、Yoshua Bengio、Aaron Courville。\n",
    "- [CS231n](http://cs231n.stanford.edu/)\n",
    "\n",
    "## 本节目的\n",
    "\n",
    "本节的主题就是大名鼎鼎的卷积神经网络（Convolutional Neural Network，CNN）。\n",
    "\n",
    "CNN被广泛用于图像识别、语音识别等各种场合。在图像识别的比赛中，基于深度学习的方法几乎都以 CNN 为基础。\n",
    "\n",
    "我们将会在本章学习 CNN 的原理和用法。"
   ]
  },
  {
   "cell_type": "markdown",
   "metadata": {},
   "source": [
    "## 整体结构\n",
    "\n",
    "首先了解 CNN 的网络结构。\n",
    "\n",
    "CNN和之前介绍的神经网络一样，可以像积木一样通过组装各个层来构建。不过，这里出现了卷积层（Convolution层）和池化层（Pooling层），我们会在后面介绍。\n",
    "\n",
    "这里我们先介绍如何组装层，以此来构建CNN。\n",
    "\n",
    "回顾之前介绍的神经网络，相邻层的所有神经元之间都有连接，这叫做**全连接（fully-connected）**。我们用 Affine 层实现了全连接层。\n",
    "\n",
    "![CNN-全连接](https://raw.githubusercontent.com/DrDavidS/basic_Machine_Learning/master/back_up_images/CNN-结构1.png)\n",
    "\n",
    "如果使用 Affine 层构建一个 5 层的全连接神经网络，可以通过下图中的结构来实现：\n",
    "\n",
    "![全连接结构](https://raw.githubusercontent.com/DrDavidS/basic_Machine_Learning/master/back_up_images/CNN-全连接结构.png)\n",
    "\n",
    "如上图所示，全连接神经网络中，Affine 层后面跟的是激活函数 `ReLU`层（或者`Sigmoid`层）。第五层 Affine 层由 Softmax 输出最终结果。\n",
    "\n",
    "那么CNN应该是什么样的呢？"
   ]
  },
  {
   "cell_type": "code",
   "execution_count": null,
   "metadata": {},
   "outputs": [],
   "source": []
  },
  {
   "cell_type": "code",
   "execution_count": null,
   "metadata": {},
   "outputs": [],
   "source": []
  },
  {
   "cell_type": "code",
   "execution_count": null,
   "metadata": {},
   "outputs": [],
   "source": []
  }
 ],
 "metadata": {
  "kernelspec": {
   "display_name": "Python 3",
   "language": "python",
   "name": "python3"
  },
  "language_info": {
   "codemirror_mode": {
    "name": "ipython",
    "version": 3
   },
   "file_extension": ".py",
   "mimetype": "text/x-python",
   "name": "python",
   "nbconvert_exporter": "python",
   "pygments_lexer": "ipython3",
   "version": "3.7.4"
  }
 },
 "nbformat": 4,
 "nbformat_minor": 2
}
