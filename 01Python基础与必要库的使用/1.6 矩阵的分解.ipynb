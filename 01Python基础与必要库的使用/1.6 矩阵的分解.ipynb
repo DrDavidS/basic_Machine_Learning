{
 "cells": [
  {
   "cell_type": "markdown",
   "metadata": {},
   "source": [
    "# 矩阵的分解\n",
    "\n",
    "作者：杨岱川\n",
    "\n",
    "时间：2020年2月\n",
    "\n",
    "最新编辑：2020年5月\n",
    "\n",
    "github：https://github.com/DrDavidS/basic_Machine_Learning\n",
    "\n",
    "开源协议：[MIT](https://github.com/DrDavidS/basic_Machine_Learning/blob/master/LICENSE)\n",
    "\n",
    "## 矩阵的奇异值分解\n",
    "\n",
    "对于任一  $m \\times n$ 矩阵 $A$，可以进行 SVD 分解，如下：\n",
    "\n",
    "$$\\large A_{m\\times n} = U_{m\\times m}D_{m\\times n}V^T_{n \\times n}$$\n",
    "\n",
    "其中，矩阵 $U$ 的每一个列向量是左奇异向量，对应 $AA^T$ 的特征向量，矩阵 $V$ 的每一个列向量（也就是矩阵 $V^T$ 的每一个行向量）是右奇异向量，对应 $A^TA$ 的特征向量。\n",
    "\n",
    "矩阵 $D$ 只有在主对角线上存在非零元素，这些元素是 $AA^T$ 的特征值的算数平方根，也是 $A^TA$ 的特征值的算数平方根，称为矩阵 $A$ 的奇异值。\n",
    "\n",
    "Python中的Numpy库有SVD分解方法。"
   ]
  },
  {
   "cell_type": "code",
   "execution_count": 1,
   "metadata": {},
   "outputs": [],
   "source": [
    "import numpy as np"
   ]
  },
  {
   "cell_type": "code",
   "execution_count": 2,
   "metadata": {},
   "outputs": [
    {
     "name": "stdout",
     "output_type": "stream",
     "text": [
      "[[1 2 3 4]\n",
      " [5 6 7 8]]\n"
     ]
    }
   ],
   "source": [
    "A = np.matrix([[1,2,3,4],[5,6,7,8]])\n",
    "\n",
    "print(A)"
   ]
  },
  {
   "cell_type": "code",
   "execution_count": 3,
   "metadata": {},
   "outputs": [],
   "source": [
    "u, d, vt = np.linalg.svd(A)"
   ]
  },
  {
   "cell_type": "code",
   "execution_count": 4,
   "metadata": {},
   "outputs": [
    {
     "name": "stdout",
     "output_type": "stream",
     "text": [
      "[[-0.37616823 -0.92655138]\n",
      " [-0.92655138  0.37616823]]\n"
     ]
    }
   ],
   "source": [
    "print(u)"
   ]
  },
  {
   "cell_type": "code",
   "execution_count": 5,
   "metadata": {},
   "outputs": [
    {
     "name": "stdout",
     "output_type": "stream",
     "text": [
      "[14.22740741  1.25732984]\n"
     ]
    }
   ],
   "source": [
    "print(d)"
   ]
  },
  {
   "cell_type": "code",
   "execution_count": 6,
   "metadata": {},
   "outputs": [
    {
     "name": "stdout",
     "output_type": "stream",
     "text": [
      "[[-0.35206169 -0.44362578 -0.53518987 -0.62675396]\n",
      " [ 0.75898127  0.3212416  -0.11649807 -0.55423774]\n",
      " [-0.40008743  0.25463292  0.69099646 -0.54554195]\n",
      " [-0.37407225  0.79697056 -0.47172438  0.04882607]]\n"
     ]
    }
   ],
   "source": [
    "print(vt)"
   ]
  },
  {
   "cell_type": "code",
   "execution_count": null,
   "metadata": {},
   "outputs": [],
   "source": []
  }
 ],
 "metadata": {
  "kernelspec": {
   "display_name": "Python 3",
   "language": "python",
   "name": "python3"
  },
  "language_info": {
   "codemirror_mode": {
    "name": "ipython",
    "version": 3
   },
   "file_extension": ".py",
   "mimetype": "text/x-python",
   "name": "python",
   "nbconvert_exporter": "python",
   "pygments_lexer": "ipython3",
   "version": "3.7.6"
  }
 },
 "nbformat": 4,
 "nbformat_minor": 2
}
