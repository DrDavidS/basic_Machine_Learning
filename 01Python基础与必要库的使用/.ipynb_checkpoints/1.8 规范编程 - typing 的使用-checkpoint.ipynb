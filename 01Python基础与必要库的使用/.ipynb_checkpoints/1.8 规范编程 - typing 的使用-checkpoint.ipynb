{
 "cells": [
  {
   "cell_type": "markdown",
   "metadata": {},
   "source": [
    "# 规范编程 - typing 的使用\n",
    "\n",
    "编 者：杨岱川\n",
    "\n",
    "时间：2020年4月\n",
    "\n",
    "github：https://github.com/DrDavidS/basic_Machine_Learning\n",
    "\n",
    "开源协议：[MIT](https://github.com/DrDavidS/basic_Machine_Learning/blob/master/LICENSE)\n",
    "\n",
    "参考链接: [Python中typing模块与类型注解的使用方法](https://www.jb51.net/article/166907.htm)"
   ]
  },
  {
   "cell_type": "markdown",
   "metadata": {},
   "source": [
    "## 动态语言 Python\n",
    "\n",
    "我们知道 Python 是一种动态语言，在声明一个变量时我们不需要显式地声明它的类型，例如下面的例子："
   ]
  },
  {
   "cell_type": "code",
   "execution_count": 1,
   "metadata": {},
   "outputs": [
    {
     "name": "stdout",
     "output_type": "stream",
     "text": [
      "1 + a = 3\n"
     ]
    }
   ],
   "source": [
    "a = 2\n",
    "print(f\"1 + a = {1 + a}\")"
   ]
  },
  {
   "cell_type": "markdown",
   "metadata": {},
   "source": [
    "这里我们首先声明了一个变量 **a**，并将其赋值为了 2，然后将最后的结果打印出来，程序输出来了正确的结果。但在这个过程中，我们没有声明它到底是什么类型。\n",
    "\n",
    "但如果这时候我们将 **a** 变成一个字符串类型，结果会是怎样的呢？改写如下："
   ]
  },
  {
   "cell_type": "code",
   "execution_count": 2,
   "metadata": {},
   "outputs": [
    {
     "ename": "TypeError",
     "evalue": "unsupported operand type(s) for +: 'int' and 'str'",
     "output_type": "error",
     "traceback": [
      "\u001b[1;31m---------------------------------------------------------------------------\u001b[0m",
      "\u001b[1;31mTypeError\u001b[0m                                 Traceback (most recent call last)",
      "\u001b[1;32m<ipython-input-2-4a0b59ceb872>\u001b[0m in \u001b[0;36m<module>\u001b[1;34m\u001b[0m\n\u001b[0;32m      1\u001b[0m \u001b[0ma\u001b[0m \u001b[1;33m=\u001b[0m \u001b[1;34m'2'\u001b[0m\u001b[1;33m\u001b[0m\u001b[1;33m\u001b[0m\u001b[0m\n\u001b[1;32m----> 2\u001b[1;33m \u001b[0mprint\u001b[0m\u001b[1;33m(\u001b[0m\u001b[1;34mf\"1 + a = {1 + a}\"\u001b[0m\u001b[1;33m)\u001b[0m\u001b[1;33m\u001b[0m\u001b[1;33m\u001b[0m\u001b[0m\n\u001b[0m",
      "\u001b[1;31mTypeError\u001b[0m: unsupported operand type(s) for +: 'int' and 'str'"
     ]
    }
   ],
   "source": [
    "a = '2'\n",
    "print(f\"1 + a = {1 + a}\")"
   ]
  },
  {
   "cell_type": "markdown",
   "metadata": {},
   "source": [
    "直接报错了，错误原因是我们进行了字符串类型的变量和数值类型变量的加和，两种**数据类型**不同，是无法进行相加的。\n",
    "\n",
    "如果我们将上面的语句改写成一个方法定义："
   ]
  },
  {
   "cell_type": "code",
   "execution_count": 3,
   "metadata": {},
   "outputs": [],
   "source": [
    "def add(a):\n",
    "    \"\"\"加 1\"\"\"\n",
    "    return a + 1"
   ]
  },
  {
   "cell_type": "markdown",
   "metadata": {},
   "source": [
    "这里定义了一个方法，传入一个参数，然后将其加 1 并返回。\n",
    "\n",
    "如果这时候如果用下面的方式调用，传入的参数是一个数值类型："
   ]
  },
  {
   "cell_type": "code",
   "execution_count": 4,
   "metadata": {},
   "outputs": [
    {
     "data": {
      "text/plain": [
       "3"
      ]
     },
     "execution_count": 4,
     "metadata": {},
     "output_type": "execute_result"
    }
   ],
   "source": [
    "add(2)"
   ]
  },
  {
   "cell_type": "markdown",
   "metadata": {},
   "source": [
    "则可以正常输出结果 3。但如果我们传入的参数并不是我们期望的类型，比如传入一个字符类型，那么就会同样报刚才类似的错误。\n",
    "\n",
    "但又由于 Python 的特性，很多情况下我们并不用去**声明**它的类型，因此从方法定义上面来看，我们实际上是不知道一个方法的参数到底应该传入什么类型的。\n",
    "\n",
    "这样其实就造成了很多不方便的地方，在某些情况下一些复杂的方法，如果不借助于一些额外的说明，我们是不知道参数到底是什么类型的。\n",
    "\n",
    "因此，Python 中的类型注解就显得比较重要了。\n",
    "\n",
    "## 类型注解\n",
    "\n",
    "在 Python 3.5 中，Python PEP 484 引入了**类型注解（type hints）**。\n",
    "\n",
    "在 Python 3.6 中，PEP 526 又进一步引入了**变量注解（Variable Annotations）**。\n",
    "\n",
    "所以上面的代码我们改写成如下写法："
   ]
  },
  {
   "cell_type": "code",
   "execution_count": 5,
   "metadata": {},
   "outputs": [
    {
     "name": "stdout",
     "output_type": "stream",
     "text": [
      "1 + a = 3\n"
     ]
    }
   ],
   "source": [
    "a: int = 2\n",
    "print(f\"1 + a = {1 + a}\")\n",
    " \n",
    "def add(a: int) -> int:\n",
    "    return a + 1"
   ]
  },
  {
   "cell_type": "markdown",
   "metadata": {},
   "source": [
    "具体的语法是可以归纳为两点：\n",
    "\n",
    "- 在声明变量时，变量的后面可以加一个冒号，后面再写上变量的类型，如 int、list 等等。\n",
    "- 在声明方法返回值的时候，可以在方法的后面加一个箭头，后面加上返回值的类型，如 int、list 等等。\n",
    "\n",
    "在 **PEP 8** 中，具体的格式是这样规定的：\n",
    "\n",
    "- 在声明变量类型时，变量后方紧跟一个冒号，冒号后面跟一个空格，再跟上变量的类型。\n",
    "- 在声明方法返回值的时候，箭头左边是方法定义，箭头右边是返回值的类型，箭头左右两边都要留有空格。\n",
    "\n",
    "有了这样的声明，以后我们如果看到这个方法的定义，我们就知道传入的参数类型了，如调用 `add` 方法的时候，我们就知道传入的需要是一个数值类型的变量，而不是字符串类型，非常直观。\n",
    "\n",
    "但值得注意的是，这种类型和变量注解实际上只是一种类型提示，对运行实际上是没有影响的。\n",
    "\n",
    "比如调用 `add` 方法的时候，我们传入的不是 `int` 类型，而是一个 `float` 类型，它也不会报错，也不会对参数进行类型转换。例如："
   ]
  },
  {
   "cell_type": "code",
   "execution_count": 6,
   "metadata": {},
   "outputs": [
    {
     "data": {
      "text/plain": [
       "2.5"
      ]
     },
     "execution_count": 6,
     "metadata": {},
     "output_type": "execute_result"
    }
   ],
   "source": [
    "add(1.5)"
   ]
  },
  {
   "cell_type": "markdown",
   "metadata": {},
   "source": [
    "可以看到，运行结果正常输出，而且 1.5 并没有经过强制类型转换变成 1，否则结果会变成 2。\n",
    "\n",
    "因此，类型和变量注解只是提供了一种提示，对于运行实际上没有任何影响。\n",
    "\n",
    "---------------------\n",
    "\n",
    "下面我们再看下一些相对复杂的数据结构，例如列表、元组、字典等类型怎么样来声明。\n",
    "\n",
    "可想而知了，列表用 list 表示，元组用 tuple 表示，字典用 dict 来表示，那么很自然地，在声明的时候我们就很自然地写成这样了："
   ]
  },
  {
   "cell_type": "code",
   "execution_count": 7,
   "metadata": {},
   "outputs": [],
   "source": [
    "names: list = ['Germey', 'Guido']\n",
    "version: tuple = (3, 7, 4)\n",
    "operations: dict = {'show': False, 'sort': True}"
   ]
  },
  {
   "cell_type": "markdown",
   "metadata": {},
   "source": [
    "这么看上去没有问题，确实声明为了对应的类型，但实际上并不能反映整个列表、元组的结构。\n",
    "\n",
    "比如我们只通过类型注解是不知道 names 里面的元素是什么类型的，只知道 names 是一个列表 `list` 类型，实际上里面都是字符串 `str` 类型。\n",
    "\n",
    "我们也不知道 version 这个元组的每一个元素是什么类型的，实际上是 `int` 类型。\n",
    "\n",
    "但这些信息我们都无从得知。因此说，仅仅凭借 `list`、`tuple` 这样的声明是非常“弱”的，我们需要一种更强的类型声明。\n",
    "\n",
    "这时候我们就需要借助于 `typing` 模块了，它提供了非常“强“的类型支持。\n",
    "\n",
    "比如 `List[str]`、`Tuple[int, int, int]` 则可以表示由 `str` 类型的元素组成的列表和由 `int` 类型的元素组成的长度为 3 的元组。所以上文的声明写法可以改写成下面的样子："
   ]
  },
  {
   "cell_type": "code",
   "execution_count": 8,
   "metadata": {},
   "outputs": [],
   "source": [
    "from typing import List, Tuple, Dict\n",
    " \n",
    "names: List[str] = ['Germey', 'Guido']\n",
    "version: Tuple[int, int, int] = (3, 7, 4)\n",
    "operations: Dict[str, bool] = {'show': False, 'sort': True}"
   ]
  },
  {
   "cell_type": "markdown",
   "metadata": {},
   "source": [
    "这样一来，变量的类型便可以非常直观地体现出来了。\n",
    "\n",
    "目前 typing 模块也已经被加入到 Python 标准库中，不需要安装第三方模块，我们就可以直接使用了。\n",
    "\n",
    "### typing\n",
    "\n",
    "下面我们再来详细看下 `typing` 模块的具体用法，这里主要会介绍一些常用的注解类型，如 `List`、`Tuple`、`Dict`、`Sequence` 等等，了解了每个类型的具体使用方法，我们可以得心应手的对任何变量进行声明了。\n",
    "\n",
    "在引入的时候就直接通过 `typing` 模块引入，例如："
   ]
  },
  {
   "cell_type": "code",
   "execution_count": 9,
   "metadata": {},
   "outputs": [],
   "source": [
    "from typing import List, Tuple"
   ]
  },
  {
   "cell_type": "markdown",
   "metadata": {},
   "source": [
    "### List\n",
    "\n",
    "**列表（List）**，是 `list` 的泛型，基本等同于 `list`，其后紧跟一个方括号，里面代表了构成这个列表的元素类型，如由数字构成的列表可以声明为："
   ]
  },
  {
   "cell_type": "code",
   "execution_count": 10,
   "metadata": {},
   "outputs": [],
   "source": [
    "var1: List[int or float] = [2, 3.5]"
   ]
  },
  {
   "cell_type": "markdown",
   "metadata": {},
   "source": [
    "另外还可以嵌套声明也是可以的："
   ]
  },
  {
   "cell_type": "code",
   "execution_count": 11,
   "metadata": {},
   "outputs": [],
   "source": [
    "var2: List[List[int]] = [[1, 2], [2, 3]]"
   ]
  },
  {
   "cell_type": "markdown",
   "metadata": {},
   "source": [
    "### Tuple\n",
    "\n",
    "**元组（Tuple）**，是 `tuple` 的泛型，其后紧跟一个方括号，方括号中按照顺序声明了构成本元组的元素类型，如 `Tuple[X, Y]` 代表了构成元组的第一个元素是 X 类型，第二个元素是 Y 类型。\n",
    "\n",
    "比如想声明一个元组，分别代表姓名、年龄、身高，三个数据类型分别为 `str`、`int`、`float`，那么可以这么声明："
   ]
  },
  {
   "cell_type": "code",
   "execution_count": 12,
   "metadata": {},
   "outputs": [],
   "source": [
    "person: Tuple[str, int, float] = ('Mike', 22, 1.75)"
   ]
  },
  {
   "cell_type": "markdown",
   "metadata": {},
   "source": [
    "### Dict、Mapping、MutableMapping\n",
    "\n",
    "**字典（Dict）**，是 `dict` 的泛型；\n",
    "\n",
    "**映射（Mapping）**，是 `collections.abc.Mapping` 的泛型。\n",
    "\n",
    "根据官方文档，`Dict` 推荐用于注解返回类型，`Mapping` 推荐用于注解参数。它们的使用方法都是一样的，其后跟一个中括号，中括号内分别声明键名、键值的类型，如："
   ]
  },
  {
   "cell_type": "code",
   "execution_count": 13,
   "metadata": {},
   "outputs": [],
   "source": [
    "from typing import Dict, Mapping\n",
    "\n",
    "def size(rect: Mapping[str, int]) -> Dict[str, int]:\n",
    "    return {'width': rect['width'] + 100, 'height': rect['width'] + 100}"
   ]
  },
  {
   "cell_type": "markdown",
   "metadata": {},
   "source": [
    "这里将 `Dict` 用作了返回值类型注解，将 `Mapping` 用作了参数类型注解。\n",
    "\n",
    "`MutableMapping` 则是 `Mapping` 对象的子类，在很多库中也经常用 `MutableMapping` 来代替 `Mapping`。"
   ]
  },
  {
   "cell_type": "markdown",
   "metadata": {},
   "source": [
    "### Set、AbstractSet\n",
    "\n",
    "**集合（Set）**，是 `set` 的泛型；\n",
    "\n",
    "**AbstractSet**，是 `collections.abc.Set` 的泛型。\n",
    "\n",
    "根据官方文档，`Set` 推荐用于注解返回类型，`AbstractSet` 用于注解参数。\n",
    "\n",
    "它们的使用方法都是一样的，其后跟一个中括号，里面声明集合中元素的类型，如："
   ]
  },
  {
   "cell_type": "code",
   "execution_count": 14,
   "metadata": {},
   "outputs": [],
   "source": [
    "from typing import AbstractSet, Set\n",
    "\n",
    "def describe(s: AbstractSet[int]) -> Set[int]:\n",
    "    return set(s)"
   ]
  },
  {
   "cell_type": "markdown",
   "metadata": {},
   "source": [
    "### Sequence\n",
    "\n",
    "`Sequence`，是 `collections.abc.Sequence` 的泛型，在某些情况下，我们可能并不需要严格区分一个变量或参数到底是列表 `list` 类型还是元组 `tuple` 类型，我们可以使用一个更为泛化的类型，叫做 `Sequence`，其用法类似于 `List`，如："
   ]
  },
  {
   "cell_type": "code",
   "execution_count": 15,
   "metadata": {},
   "outputs": [],
   "source": [
    "from typing import Sequence\n",
    "\n",
    "def square(elements: Sequence[float]) -> List[float]:\n",
    "    return [x ** 2 for x in elements]"
   ]
  },
  {
   "cell_type": "markdown",
   "metadata": {},
   "source": [
    "### NoReturn\n",
    "\n",
    "`NoReturn`，当一个方法没有返回结果时，为了注解它的返回类型，我们可以将其注解为 `NoReturn`，例如："
   ]
  },
  {
   "cell_type": "code",
   "execution_count": 16,
   "metadata": {},
   "outputs": [],
   "source": [
    "from typing import NoReturn\n",
    "\n",
    "def hello() -> NoReturn:\n",
    "    print('hello')"
   ]
  },
  {
   "cell_type": "markdown",
   "metadata": {},
   "source": [
    "### Any\n",
    "\n",
    "`Any`，是一种特殊的类型，它可以代表所有类型，静态类型检查器的所有类型都与 `Any` 类型兼容，所有的无参数类型注解和返回类型注解的都会默认使用 `Any` 类型，也就是说，下面两个方法的声明是完全等价的："
   ]
  },
  {
   "cell_type": "code",
   "execution_count": 17,
   "metadata": {},
   "outputs": [],
   "source": [
    "from typing import Any\n",
    "\n",
    "def add1(a):\n",
    "    return a + 1\n",
    " \n",
    "def add2(a: Any) -> Any:\n",
    "    return a + 1"
   ]
  },
  {
   "cell_type": "markdown",
   "metadata": {},
   "source": [
    "### TypeVar\n",
    "\n",
    "`TypeVar`，我们可以借助它来自定义兼容特定类型的变量，比如有的变量声明为 `int`、`float`、`None` 都是符合要求的，实际就是代表任意的数字或者空内容都可以，其他的类型则不可以，比如列表 `list`、字典 `dict` 等等，像这样的情况，我们可以使用 `TypeVar` 来表示。\n",
    "\n",
    "例如一个人的身高，便可以使用 `int` 或 `float` 或 `None` 来表示，但不能用 `dict` 来表示，所以可以这么声明："
   ]
  },
  {
   "cell_type": "code",
   "execution_count": 18,
   "metadata": {},
   "outputs": [],
   "source": [
    "from typing import TypeVar\n",
    "\n",
    "height = 1.75\n",
    "Height = TypeVar('Height', int, float, None)\n",
    "\n",
    "def get_height() -> Height:\n",
    "    return height"
   ]
  },
  {
   "cell_type": "markdown",
   "metadata": {},
   "source": [
    "### NewType\n",
    "\n",
    "`NewType`，我们可以借助于它来声明一些具有特殊含义的类型，例如像 `Tuple` 的例子一样，我们需要将它表示为 `Person`，即一个人的含义，但但从表面上声明为 `Tuple` 并不直观，所以我们可以使用 `NewType` 为其声明一个类型，如："
   ]
  },
  {
   "cell_type": "code",
   "execution_count": 19,
   "metadata": {},
   "outputs": [],
   "source": [
    "from typing import NewType\n",
    "\n",
    "Person = NewType('Person', Tuple[str, int, float])\n",
    "person = Person(('Mike', 22, 1.75))"
   ]
  },
  {
   "cell_type": "markdown",
   "metadata": {},
   "source": [
    "这里实际上 person 就是一个 tuple 类型，我们可以对其像 tuple 一样正常操作。\n",
    "\n",
    "### Optional\n",
    "\n",
    "`Optional`，意思是说这个参数可以为空或已经声明的类型，即 `Optional[X]` 等价于 `Union[X, None]`。\n",
    "\n",
    "但值得注意的是，这个并不等价于可选参数，当它作为参数类型注解的时候，不代表这个参数可以不传递了，而是说这个参数可以传为 `None`。\n",
    "\n",
    "如当一个方法执行结果，如果执行完毕就不返回错误信息， 如果发生问题就返回错误信息，则可以这么声明："
   ]
  },
  {
   "cell_type": "code",
   "execution_count": 20,
   "metadata": {},
   "outputs": [],
   "source": [
    "from typing import Optional\n",
    "\n",
    "def judge(result: bool) -> Optional[str]:\n",
    "    if result: \n",
    "        return 'Error Occurred'"
   ]
  },
  {
   "cell_type": "markdown",
   "metadata": {},
   "source": [
    "### Generator\n",
    "\n",
    "如果想代表一个生成器类型，可以使用 `Generator`，它的声明比较特殊，其后的中括号紧跟着三个参数，分别代表 `YieldType`、`SendType`、`ReturnType`，如："
   ]
  },
  {
   "cell_type": "code",
   "execution_count": 21,
   "metadata": {},
   "outputs": [],
   "source": [
    "from typing import Generator\n",
    "\n",
    "def ten_stream1(start: int) -> Generator[int, int, str]:\n",
    "    while start < 10:\n",
    "        yield start\n",
    "        start += 1\n",
    "    return 'Done'"
   ]
  },
  {
   "cell_type": "code",
   "execution_count": 22,
   "metadata": {},
   "outputs": [
    {
     "name": "stdout",
     "output_type": "stream",
     "text": [
      "0\n",
      "1\n",
      "2\n",
      "3\n",
      "4\n",
      "5\n",
      "6\n",
      "7\n",
      "8\n",
      "9\n"
     ]
    }
   ],
   "source": [
    "for n in ten_stream1(0):\n",
    "    print(n)"
   ]
  },
  {
   "cell_type": "markdown",
   "metadata": {},
   "source": [
    "在这里 yield 关键字后面紧跟的变量的类型就是 `YieldType`，`yield` 返回的结果的类型就是 `SendType`，最后生成器 return 的内容就是 `ReturnType`。\n",
    "\n",
    "当然很多情况下，生成器往往只需要 `yield` 内容就够了，我们是不需要 `SendType` 和 `ReturnType` 的，可以将其设置为空，如："
   ]
  },
  {
   "cell_type": "code",
   "execution_count": 23,
   "metadata": {},
   "outputs": [],
   "source": [
    "from typing import Generator\n",
    "\n",
    "def ten_stream2(start: int) -> Generator[int, None, None]:\n",
    "    while start < 10:\n",
    "        yield start\n",
    "        start += 1"
   ]
  },
  {
   "cell_type": "code",
   "execution_count": 24,
   "metadata": {},
   "outputs": [
    {
     "name": "stdout",
     "output_type": "stream",
     "text": [
      "0\n",
      "1\n",
      "2\n",
      "3\n",
      "4\n",
      "5\n",
      "6\n",
      "7\n",
      "8\n",
      "9\n"
     ]
    }
   ],
   "source": [
    "for n in ten_stream2(0):\n",
    "    print(n)"
   ]
  },
  {
   "cell_type": "code",
   "execution_count": null,
   "metadata": {},
   "outputs": [],
   "source": []
  }
 ],
 "metadata": {
  "kernelspec": {
   "display_name": "Python 3",
   "language": "python",
   "name": "python3"
  },
  "language_info": {
   "codemirror_mode": {
    "name": "ipython",
    "version": 3
   },
   "file_extension": ".py",
   "mimetype": "text/x-python",
   "name": "python",
   "nbconvert_exporter": "python",
   "pygments_lexer": "ipython3",
   "version": "3.7.4"
  }
 },
 "nbformat": 4,
 "nbformat_minor": 2
}
