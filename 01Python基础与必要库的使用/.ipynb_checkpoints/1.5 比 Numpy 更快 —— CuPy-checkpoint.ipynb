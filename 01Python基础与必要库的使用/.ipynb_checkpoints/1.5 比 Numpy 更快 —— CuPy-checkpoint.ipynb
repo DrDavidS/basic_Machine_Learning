{
 "cells": [
  {
   "cell_type": "markdown",
   "metadata": {},
   "source": [
    "# CuPy - GPU上的 Numpy\n",
    "\n",
    "作者：杨岱川\n",
    "\n",
    "时间：2020年2月\n",
    "\n",
    "github：https://github.com/DrDavidS/basic_Machine_Learning\n",
    "\n",
    "开源协议：[MIT](https://github.com/DrDavidS/basic_Machine_Learning/blob/master/LICENSE)\n",
    "\n",
    "## GPU 与 CUDA\n",
    "\n",
    "之前我们学习过 Numpy 这个 Python 开源矩阵运算库，可以很方便地进行矩阵运算。\n",
    "\n",
    "但是也许它的速度还不能让你满意，因此我们要利用 GPU 的特性，帮助我们加速矩阵的运算。\n",
    "\n",
    "在往下看之前，先确保你可用的 PC 或者服务器安装的是 Nvidia 的显卡，并且支持 CUDA。 CUDA 是 Nvidia 开发的用于 GPU 运算的工具，它的安装较为麻烦，不过一劳永逸。\n",
    "\n",
    "具体的安装方法和版本下载可以参见[CUDA Toolkit Archive](https://developer.nvidia.com/cuda-toolkit-archive)。\n",
    "\n",
    "注意，我们的示例版本是 CUDA 10.1，请注意你电脑上的版本，可能有区别而导致出现问题。"
   ]
  },
  {
   "cell_type": "markdown",
   "metadata": {},
   "source": [
    "### 安装 CuPy\n",
    "\n",
    "首先我们需要安装 [CuPy](https://cupy.chainer.org/)，它可以看做是 GPU 版本的 Numpy。\n",
    "\n",
    "安装命令如下，**注意** 需要和你的 CUDA 版本吻合：\n",
    "\n",
    "```shell\n",
    "(For CUDA 8.0)\n",
    "$ pip install cupy-cuda80\n",
    "\n",
    "(For CUDA 9.0)\n",
    "$ pip install cupy-cuda90\n",
    "\n",
    "(For CUDA 9.1)\n",
    "$ pip install cupy-cuda91\n",
    "\n",
    "(For CUDA 9.2)\n",
    "$ pip install cupy-cuda92\n",
    "\n",
    "(For CUDA 10.0)\n",
    "$ pip install cupy-cuda100\n",
    "\n",
    "(For CUDA 10.1)\n",
    "$ pip install cupy-cuda101\n",
    "```"
   ]
  },
  {
   "cell_type": "markdown",
   "metadata": {},
   "source": [
    "### 简单测试\n",
    "\n",
    "安装好 CuPy 后，简单做一个速度测试："
   ]
  },
  {
   "cell_type": "code",
   "execution_count": null,
   "metadata": {},
   "outputs": [],
   "source": [
    "import numpy as np\n",
    "import cupy as cp\n",
    "import torch\n",
    "import time\n",
    "\n",
    "\n",
    "import gc\n",
    "gc.collect()"
   ]
  },
  {
   "cell_type": "code",
   "execution_count": null,
   "metadata": {},
   "outputs": [],
   "source": [
    "# GPU\n",
    "print(\"Is CUDA available: \", torch.cuda.is_available())\n",
    "if torch.cuda.is_available():\n",
    "    n_gpu = torch.cuda.device_count()\n",
    "    device = torch.device(\"cuda\" if torch.cuda.is_available() else \"cpu\")\n",
    "    print(\"GPU numbers: \", n_gpu)\n",
    "    print(\"device_name: \", torch.cuda.get_device_name(0))\n",
    "    torch.cuda.set_device(0)\n",
    "    print(f\"Current device: {torch.cuda.current_device()}\")"
   ]
  },
  {
   "cell_type": "code",
   "execution_count": null,
   "metadata": {},
   "outputs": [],
   "source": [
    "### Numpy and CPU\n",
    "s = time.time()\n",
    "x_cpu_numpy = np.random.random((1000, 1000, 1000))\n",
    "e = time.time()\n",
    "print(f\"建立一个三维数组，NumPy耗时：{e - s}\\n\")\n",
    "\n",
    "\n",
    "### CuPy and GPU\n",
    "s = time.time()\n",
    "x_gpu_cupy = cp.random.random((1000, 1000, 1000))\n",
    "e = time.time()\n",
    "print(f\"建立一个三维数组，CuPy耗时：{e - s}\\n\")\n",
    "\n",
    "\n",
    "### Torch and GPU\n",
    "s = time.time()\n",
    "x_gpu_torch = torch.randn((1000, 1000, 1000), device=device)\n",
    "e = time.time()\n",
    "print(f\"建立一个三维数组，PyTorch耗时：{e - s}\\n\")"
   ]
  },
  {
   "cell_type": "markdown",
   "metadata": {},
   "source": [
    "在我的测试结果中：\n",
    "\n",
    "- 建立一个三维数组，NumPy 耗时：9.440277576446533\n",
    "\n",
    "- 建立一个三维数组，CuPy 耗时：1.9360268115997314\n",
    "\n",
    "- 建立一个三维数组，PyTorch 耗时：0.006456136703491211\n",
    "\n",
    "接下来试试矩阵乘法："
   ]
  },
  {
   "cell_type": "code",
   "execution_count": null,
   "metadata": {},
   "outputs": [],
   "source": [
    "### Numpy and CPU\n",
    "s = time.time()\n",
    "x_cpu_numpy *= 5\n",
    "e = time.time()\n",
    "print(f\"将整个数组乘以5，NumPy耗时：{e - s}\\n\")\n",
    "\n",
    "\n",
    "### CuPy and GPU\n",
    "s = time.time()\n",
    "x_gpu_cupy *= 5\n",
    "e = time.time()\n",
    "print(f\"将整个数组乘以5，CuPy耗时：{e - s}\\n\")\n",
    "\n",
    "\n",
    "### Torch and GPU\n",
    "s = time.time()\n",
    "x_gpu_torch *= 5\n",
    "e = time.time()\n",
    "print(f\"将整个数组乘以5，PyTorch耗时：{e - s}\\n\")"
   ]
  },
  {
   "cell_type": "markdown",
   "metadata": {},
   "source": [
    "在我的测试结果中：\n",
    "\n",
    "\n",
    "- 将整个数组乘以5，NumPy 耗时：0.6512627601623535\n",
    "\n",
    "- 将整个数组乘以5，CuPy 耗时：0.0015022754669189453\n",
    "\n",
    "- 将整个数组乘以5，PyTorch 耗时：0.01872563362121582"
   ]
  },
  {
   "cell_type": "code",
   "execution_count": null,
   "metadata": {},
   "outputs": [],
   "source": []
  }
 ],
 "metadata": {
  "kernelspec": {
   "display_name": "Python 3",
   "language": "python",
   "name": "python3"
  },
  "language_info": {
   "codemirror_mode": {
    "name": "ipython",
    "version": 3
   },
   "file_extension": ".py",
   "mimetype": "text/x-python",
   "name": "python",
   "nbconvert_exporter": "python",
   "pygments_lexer": "ipython3",
   "version": "3.7.4"
  }
 },
 "nbformat": 4,
 "nbformat_minor": 2
}
