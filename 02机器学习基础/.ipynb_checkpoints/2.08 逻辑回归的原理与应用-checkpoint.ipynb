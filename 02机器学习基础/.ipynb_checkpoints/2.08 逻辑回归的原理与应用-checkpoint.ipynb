{
 "cells": [
  {
   "cell_type": "markdown",
   "metadata": {},
   "source": [
    "# 逻辑回归\n",
    "\n",
    "作者：杨岱川\n",
    "\n",
    "时间：2019年11月\n",
    "\n",
    "github：https://github.com/DrDavidS/basic_Machine_Learning\n",
    "\n",
    "开源协议：[MIT](https://github.com/DrDavidS/basic_Machine_Learning/blob/master/LICENSE)\n",
    "\n",
    "## 逻辑回归简介\n",
    "\n",
    "**逻辑回归**，或者叫**逻辑斯谛回归（logistic regression）**，是统计学中的经典分类方法，属于对数线性模型。\n",
    "\n",
    ">严格来说，此逻辑（logistic）非彼逻辑（logic），叫“逻辑回归”不太准确，见[这里](https://www.zhihu.com/question/43602640/answer/847913754)。\n",
    "\n",
    "在统计中，logistic 模型（又叫 logit 模型）一般用于对某些类别或者事件建模，比如确定一幅图像里面是不是包含了猫、狗，或者狮子之类。检测到的每个对象都被分配一个介于0到1之间的概率，而且它们的**总和为1**。\n",
    "\n",
    "<img src=\"https://timgsa.baidu.com/timg?image&quality=80&size=b9999_10000&sec=1573732385374&di=77fa7073ed833ee7ec621c5b431f1cf8&imgtype=0&src=http%3A%2F%2Fimg.shujuren.org%2Fpictures%2F6S%2F57b7105d7db05.jpg\" width=\"500\" alt=\"回归算法图例\" align=center>\n",
    "\n",
    "<center>回归分析</center>\n",
    "\n",
    ">逻辑方程（logistic function）最早用于人口增长模型，是比利时数学家、医生[Pierre François Verhulst](https://en.wikipedia.org/wiki/Pierre_Fran%C3%A7ois_Verhulst)在比利时数学家、统计学家[Adolphe Quetelet](https://en.wikipedia.org/wiki/Adolphe_Quetelet)的指导下，在大约19世纪30年代发明的。而作为一般统计模型的逻辑回归，最初由美国物理学家和统计学家[Joseph Berkson](https://en.wikipedia.org/wiki/Joseph_Berkson)开发和推广于1944年，“logit”这个词也是他发明的。"
   ]
  },
  {
   "cell_type": "markdown",
   "metadata": {},
   "source": [
    "## 逻辑回归模型\n",
    "\n",
    "### 逻辑分布\n",
    "\n",
    "首先我们定义一下什么叫逻辑分布（logistic distribution）：\n",
    "\n",
    ">设 $X$ 是连续随机变量， $X$ 服从逻辑分布是指 $X$ 具有下列**分布函数**和**密度函数**：\n",
    ">\n",
    ">$$\\large F(x)=P(X\\le x)=\\frac{1}{1+{\\rm e}^{-(x-\\mu)/\\gamma}}$$\n",
    ">\n",
    ">$$\\large f(x)=F'(x)=\\frac{{\\rm e}^{-(x-\\mu)/\\gamma}}{\\gamma(1+{\\rm e}^{-(x-\\mu)/\\gamma})^2}$$\n",
    ">\n",
    ">其中，$\\mu$ 为位置参数，$\\gamma > 0$ 为形状参数。\n",
    "\n",
    ">考研数学中，概率论与数理统计里面学过概率密度函数，可以复习一下：\n",
    ">\n",
    ">在数学中，连续型随机变量的**概率密度函数**（简称为**密度函数**）是一个描述这个随机变量的输出值，在某个确定的取值点附近的可能性的函数。而随机变量的取值落在某个区域之内的概率则为概率密度函数在这个区域上的积分。当概率密度函数存在的时候，累积分布函数是概率密度函数的积分。概率密度函数一般以小写标记。\n",
    ">\n",
    ">如果随机变量 $X$ 的分布函数可以表示为\n",
    ">\n",
    ">$$\\large F(x)=\\int_{-\\infty}^x f(t)dt,\\quad x\\in R$$\n",
    ">\n",
    ">其中 $f(x)$ 是非负可积函数，则称 $X$ 为连续性随机变量，称 $f(x)$ 为 $X$ 的概率密度函数。\n",
    ">\n",
    ">简而言之，概率密度反映了概率在点 $x$ 处的密集程度。对分布函数**求导**，就可以得到密度函数。\n",
    "\n",
    "### 逻辑分布的图像\n",
    "\n",
    "逻辑分布的分布函数 $F(x)$ 属于逻辑函数，其图形是一条 S 形曲线，即 Sigmoid curve，它也就是神经网络算法中常用的激活函数之一，Sigmoid函数：\n",
    "\n",
    "\n",
    "$$\\large F(x)=\\frac{1}{1+e^{-x}}$$\n",
    "\n",
    "分布函数 $F(x)$ 绘图如下："
   ]
  },
  {
   "cell_type": "code",
   "execution_count": 5,
   "metadata": {},
   "outputs": [],
   "source": [
    "import matplotlib.pyplot as plt\n",
    "import numpy as np\n",
    "\n",
    "def sigmoid(x):\n",
    "    \"\"\"定义sigmoid函数\"\"\"\n",
    "    return 1.0/(1.0 + np.exp(-x))"
   ]
  },
  {
   "cell_type": "code",
   "execution_count": 6,
   "metadata": {},
   "outputs": [
    {
     "data": {
      "image/png": "[encoded data removed]",
      "text/plain": [
       "<Figure size 432x288 with 1 Axes>"
      ]
     },
     "metadata": {
      "needs_background": "light"
     },
     "output_type": "display_data"
    }
   ],
   "source": [
    "x = np.arange(-8, 8, 0.02)\n",
    "plt.plot(x, sigmoid(x))\n",
    "\n",
    "plt.axvline(0.0,color='k')\n",
    "plt.axhline(y=0.0,ls='dotted',color='k')\n",
    "plt.axhline(y=1.0,ls='dotted',color='k')\n",
    "plt.axhline(y=0.5,ls='dotted',color='k')\n",
    "plt.yticks([0.0,0.5,1.0])\n",
    "plt.ylim(-0.1,1.1)\n",
    "plt.xlabel('x')\n",
    "plt.ylabel('$F(x)$')\n",
    "plt.show()"
   ]
  },
  {
   "cell_type": "markdown",
   "metadata": {},
   "source": [
    "实际上，这条 S 形曲线是以点 $\\left(\\mu=0，\\large \\frac{1}{2}\\right)$ 中心对称的。\n",
    "\n",
    "曲线在中心附近增长很快，在两端增长速度慢。形状参数 $\\gamma$ 的值越小，曲线在中心附近增长得越快。编程中没有写入 $\\gamma$，感兴趣可以自己改写试一试。\n",
    "\n",
    "其密度函数 $f(x)=F'(x)=\\large \\frac{e^{-x}}{(1+e^{-x})^2}$ 绘图如下："
   ]
  },
  {
   "cell_type": "code",
   "execution_count": 30,
   "metadata": {},
   "outputs": [],
   "source": [
    "def sigmoid_density_function(x):\n",
    "    \"\"\"定义sigmoid的密度函数\"\"\"\n",
    "    numerator = np.exp(-x)\n",
    "    denominator = (1.0 + np.exp(-x))**2\n",
    "    return np.exp(-x)/denominator"
   ]
  },
  {
   "cell_type": "code",
   "execution_count": 31,
   "metadata": {},
   "outputs": [
    {
     "data": {
      "image/png": "[encoded data removed]",
      "text/plain": [
       "<Figure size 432x288 with 1 Axes>"
      ]
     },
     "metadata": {
      "needs_background": "light"
     },
     "output_type": "display_data"
    }
   ],
   "source": [
    "x = np.arange(-8, 8, 0.02)\n",
    "plt.plot(x, sigmoid_density_function(x))\n",
    "\n",
    "plt.axvline(0.0,color='k')\n",
    "plt.axhline(y=0.0,ls='dotted',color='k')\n",
    "plt.axhline(y=0.3,ls='dotted',color='k')\n",
    "plt.axhline(y=0.25,ls='dotted',color='k')\n",
    "plt.yticks([0.0, 0.25, 0.3])\n",
    "plt.ylim(-0.1, 0.3)\n",
    "plt.xlabel('x')\n",
    "plt.ylabel('$f(x)$')\n",
    "plt.show()"
   ]
  },
  {
   "cell_type": "markdown",
   "metadata": {},
   "source": [
    "### 二项逻辑回归模型\n",
    "\n",
    "二项逻辑回归模型（binomial logistic regression model）是一种分类模型，由条件概率分布 $P(Y|X)$ 表示，形式为参数化的逻辑分布。\n",
    "\n",
    "其中，随机变量 $X$ 为实数，随机变量 $Y \\in \\{0,1\\}$，即取值为 0或者1。我们采用监督学习的方法来估计模型参数。\n",
    "\n",
    "给出定义：\n",
    "\n",
    ">二项逻辑回归模型是如下的条件概率分布：\n",
    ">\n",
    ">$$\\large P(Y=1|x)=\\frac{\\exp(w \\cdot x + b)}{1+\\exp(w \\cdot x + b)}$$\n",
    ">\n",
    ">$$\\large P(Y=0|x)=\\frac{1}{1+\\exp(w \\cdot x + b)}$$\n",
    ">\n",
    ">其中，$x\\in \\mathbf R^n$ 是输入特征，$n$ 为特征维度，而 $Y \\in \\{0,1\\}$ 是输出结果，$w \\in \\mathbf R^n$ 和 $b \\in \\mathbf R$ 是参数，$w$ 称为权值向量， $b$ 称为偏置，$w\\cdot x$ 为 $w$ 和 $x$ 的内积。\n",
    "\n",
    "给定一个实例 $x$，按照定义中的公式可以计算出其分到 0 和 1 的概率，然后比较两个条件概率值的大小，将 $x$ 分到概率值较大的那一类。\n",
    "\n",
    "### 逻辑回归模型的特点\n",
    "\n",
    "定义：\n",
    "\n",
    ">一个事件的几率（odds）是指该事件发生与该事件不发生的概率之比。\n",
    "\n",
    "如果事件发生的概率是 $p$，则事件的几率是 $\\large \\frac{p}{1-p}$，则该事件的对数几率（log odds），或者叫 logit 函数是\n",
    "\n",
    "$$\\large{\\rm logit}(p)=\\log\\frac{p}{1-p}$$\n",
    "\n",
    "代入二项逻辑回归的条件概率分布公式得到：\n",
    "\n",
    "$$\\large \\log \\frac{P(Y=1|x)}{1-P(Y=1|x)}=w\\cdot x$$\n",
    "\n",
    "故，在逻辑回归模型中，输出 $Y=1$ 的对数几率是输入 $x$ 的线性函数。\n",
    "\n",
    "从之前的图像可以看出，线性函数 $w \\cdot x$ 的值越接近正无穷，概率值就越接近1,；线性函数的值越接近负无穷，概率值就越接近0。"
   ]
  },
  {
   "cell_type": "markdown",
   "metadata": {},
   "source": [
    "### 模型的参数估计\n",
    "\n",
    "模型的参数估计，其实就是我们的训练过程。\n",
    "\n",
    "和往常一样，首先我们给定一组训练数据集：\n",
    "\n",
    "$$\\large T=\\left \\{(x_1,y_1),(x_2,y_2),\\cdots,(x_N,y_N) \\right \\} $$\n",
    "\n",
    "其中：\n",
    "\n",
    "\n",
    "$x_i \\in \\Bbb X \\subseteq \\mathbf R^n$ 为实例的特征向量，可以即数据的 features（特征），有 $n$ 个维度；\n",
    "\n",
    "$ y_i \\in \\left \\{ 1,0 \\right \\}$，即样本的标签。\n",
    "\n",
    "我们可以使用极大似然估计法（见2.05节）来估计模型的参数，从而得到逻辑回归模型。\n",
    "\n",
    "设：\n",
    "\n",
    "$$\\large P(Y=1|x)=\\pi(x),\\quad P(Y=0|x)=1-\\pi(x)$$\n",
    "\n",
    "根据上文的二项式逻辑回归的条件概率分布公式有：\n",
    "\n",
    "$$\\large \\log \\frac{P(Y=1|x)}{1-P(Y=1|x)}= \\log \\frac{\\pi (x)}{1-\\pi (x)} =w\\cdot x$$\n",
    "\n",
    "似然函数为\n",
    "\n",
    "$$\\large \\prod_{i=1}^{N}{\\left[ \\pi(x_i) \\right]}^{y_i}{\\left[ 1-\\pi(x_i) \\right]^{1-y_i}}$$\n",
    "\n",
    ">这里 $y_i\\in \\left \\{ 1,0 \\right \\}$，故当第 $i$ 个实例的标签 $y_i=1$ 时，有 $\\pi(x_i)$，而 $y_i=0$ 时，有 $1-\\pi(x_i)$，共有 $N$ 个实例，连乘起来。\n",
    "\n",
    "对数似然函数（即对上面的似然函数求对数）为\n",
    "\n",
    "$$\n",
    "\\large\n",
    "\\begin{equation}\\begin{split} \n",
    "L(w)& = \\sum_{i=1}^N \\left[y_i\\log \\pi(x_i)+(1-y_i)\\log(1-\\pi(x_i))\\right] \\\\ \n",
    "& = \\sum_{i=1}^N \\left[ y_i\\log \\frac{\\pi(x_i)}{1-\\pi(x_i)} + \\log(1-\\pi(x_i)) \\right]\\\\ \n",
    "& = \\sum_{i=1}^N \\left[ y_i(w\\cdot x_i)-\\log(1+\\exp(w \\cdot x_i)) \\right]\n",
    "\\end{split}\\end{equation}\n",
    "$$\n",
    "\n",
    ">补充说明：对似然函数取对数，是因为对数函数单调递增，似然函数的极大值与取对数后的似然函数极大值一致，但是再计算上更简单了。参考说明：[似然函数与极大似然估计](https://zhuanlan.zhihu.com/p/32568242)。\n",
    "\n",
    ">在《统计学习方法》（第二版）中发现一个小错误：\n",
    ">\n",
    ">2019年6月第2次印刷\n",
    ">\n",
    ">P93 最后的对数似然函数公式\n",
    ">\n",
    ">最后一行的 $\\log(1 + \\exp(w\\cdot x_i))$ 少了一个后括号\n",
    "\n",
    "对 $L(w)$ 求极大值，可以得到 $w$ 的估计值（**极大似然估计**就是对对数似然函数求极大值），就是求 $\\max L(w)$ 而得到模型的参数 $w$。\n",
    "\n",
    "现在问题就变成了以对数似然函数为目标函数的最优化问题，而逻辑回归的训练中经常采用的方法就是[梯度下降法（Gradient Descent）](https://en.wikipedia.org/wiki/Gradient_descent)以及[拟牛顿法（Quasi-Newton Methods）](https://en.wikipedia.org/wiki/Quasi-Newton_method)。\n",
    "\n",
    "假设 $w$ 的极大似然估计值为 $\\hat w$（可以念做hat w），则我们训练所得到的逻辑回归模型为：\n",
    "\n",
    "$$\\large P(Y=1|x)=\\frac{\\exp(\\hat w \\cdot x)}{1 + \\exp(\\hat w \\cdot x)}$$\n",
    "\n",
    "$$\\large P(Y=0|x)=\\frac{1}{1 + \\exp(\\hat w \\cdot x)}$$\n",
    "\n",
    ">从二分类延伸到多分类的逻辑回归模型叫做**多项逻辑回归模型**，可以用于多分类，可以简单地认为是做了多次二分类。"
   ]
  },
  {
   "cell_type": "markdown",
   "metadata": {},
   "source": [
    "## 逻辑回归的SKlearn实现\n",
    "\n",
    "首先说一下逻辑回归的损失函数和正则化，这部分是书上没有的内容。\n",
    "\n",
    "### 损失函数\n",
    "\n",
    "接上一节，由于参数估计的目标是求对数似然函数的极大值，而\n",
    "\n",
    "$$\\large \\max L(w) = \\sum_{i=1}^N \\left[y_i\\log \\pi(x_i)+(1-y_i)\\log(1-\\pi(x_i))\\right]$$\n",
    "\n",
    "相当于求括号里面的每个 \n",
    "\n",
    "$$\\large \\left[y_i\\log \\pi(x_i)+(1-y_i)\\log(1-\\pi(x_i))\\right] $$\n",
    "\n",
    "的极大值，我们在前面加一个符号，相当于变成了求\n",
    "\n",
    "$$\\large -\\left[y_i\\log \\pi(x_i)+(1-y_i)\\log(1-\\pi(x_i))\\right]$$\n",
    "\n",
    "的极小值，这就是逻辑回归的损失函数，也叫做**最大似然损失函数**，括号拆开整理一下就是：\n",
    "\n",
    "$$\\large  L(y_i, \\pi(x_i)) = - y_i\\log \\pi(x_i)-(1-y_i)\\log(1-\\pi(x_i))$$\n",
    "\n",
    "### 正则化\n",
    "\n",
    "在 SKlearn 的线性模型页面，有对[逻辑回归](https://scikit-learn.org/stable/modules/linear_model.html#logistic-regression)的详细说明。\n",
    "\n",
    "SKlearn 的实现中，对于模型的实现额外增加了正则项，包括 $L1$ 正则和 $L2$ 正则。\n",
    "\n",
    "在2.01节已简单讲过正则化了，这里再回顾一下p范数(p-norm)的定义：\n",
    "\n",
    "$$\\large ||x||^p := \\left( \\sum_{i=1}^n |x_i|^p \\right)^{\\frac{1}{p}}$$\n",
    "\n",
    "对于 $L2$ 正则，有\n",
    "\n",
    "$$\\large ||x||^2 := \\left( \\sum_{i=1}^n |x_i|^2 \\right)^{\\frac{1}{2}}$$\n",
    "\n",
    "所以在这里，逻辑回归的  $L2$ 正则定义为 $\\large \\frac{\\lambda}{2}||w||^2$，其中 $\\lambda$ 为系数。\n",
    "\n",
    "故逻辑回归的结构风险最小化就是\n",
    "\n",
    "$$\\large R_{srm}(f) = \\frac{1}{N}\\sum^{N}_{i=1}L(y_i,\\pi(x_i))+\\frac{\\lambda}{2}||w||^2 $$\n",
    "\n",
    "具体计算这里不在深入了。"
   ]
  },
  {
   "cell_type": "markdown",
   "metadata": {},
   "source": [
    "### 编程实现\n",
    "\n",
    "在 `sklearn.linear_model.LogisticRegression` 的具体[文档](https://scikit-learn.org/stable/modules/generated/sklearn.linear_model.LogisticRegression.html#sklearn.linear_model.LogisticRegression)中，已经有较为全面的实现了。\n",
    "\n",
    "这里我们借用官方例子做演示，顺便讲解函数中的部分参数。"
   ]
  },
  {
   "cell_type": "code",
   "execution_count": 17,
   "metadata": {},
   "outputs": [],
   "source": [
    "from sklearn.datasets import load_iris\n",
    "from sklearn.linear_model import LogisticRegression\n",
    "from sklearn.model_selection import train_test_split\n",
    "from sklearn.metrics import accuracy_score"
   ]
  },
  {
   "cell_type": "code",
   "execution_count": 9,
   "metadata": {},
   "outputs": [],
   "source": [
    "# 导入iris数据集\n",
    "X, y = load_iris(return_X_y=True)"
   ]
  },
  {
   "cell_type": "code",
   "execution_count": 10,
   "metadata": {},
   "outputs": [],
   "source": [
    "# 二八划分\n",
    "X_train, X_test, y_train, y_test = train_test_split(X, y, test_size=0.2)  "
   ]
  },
  {
   "cell_type": "markdown",
   "metadata": {},
   "source": [
    "我们采用 `L-BFGS` 算法作为我们的优化器，它是一种改进的拟牛顿法，和SGD做的是同样的事情。"
   ]
  },
  {
   "cell_type": "code",
   "execution_count": 19,
   "metadata": {},
   "outputs": [],
   "source": [
    "clf = LogisticRegression(random_state=42,  # 随机种子\n",
    "                         penalty='l2',  # 正则化\n",
    "                         solver='lbfgs',  # 具体优化算法，lbfgs支持l2正则\n",
    "                         multi_class='multinomial',  # 多项逻辑回归\n",
    "                         max_iter=200,  # 最大迭代次数\n",
    "                         n_jobs=2 # 进程数量\n",
    "                         ).fit(X_train, y_train)"
   ]
  },
  {
   "cell_type": "code",
   "execution_count": 20,
   "metadata": {},
   "outputs": [],
   "source": [
    "y_pred = clf.predict(X_test)  # 预测"
   ]
  },
  {
   "cell_type": "code",
   "execution_count": 21,
   "metadata": {},
   "outputs": [
    {
     "data": {
      "text/plain": [
       "array([2, 1, 1, 1, 0, 2, 1, 0, 2, 2, 1, 2, 1, 2, 1, 0, 2, 2, 0, 1, 1, 2,\n",
       "       2, 1, 2, 1, 2, 2, 1, 1])"
      ]
     },
     "execution_count": 21,
     "metadata": {},
     "output_type": "execute_result"
    }
   ],
   "source": [
    "y_pred"
   ]
  },
  {
   "cell_type": "code",
   "execution_count": 22,
   "metadata": {},
   "outputs": [
    {
     "data": {
      "text/plain": [
       "array([2, 1, 2, 1, 0, 2, 1, 0, 2, 2, 1, 2, 1, 2, 2, 0, 2, 2, 0, 1, 1, 2,\n",
       "       2, 1, 2, 1, 2, 2, 1, 1])"
      ]
     },
     "execution_count": 22,
     "metadata": {},
     "output_type": "execute_result"
    }
   ],
   "source": [
    "y_test"
   ]
  },
  {
   "cell_type": "code",
   "execution_count": 23,
   "metadata": {},
   "outputs": [
    {
     "data": {
      "text/plain": [
       "0.9333333333333333"
      ]
     },
     "execution_count": 23,
     "metadata": {},
     "output_type": "execute_result"
    }
   ],
   "source": [
    "accuracy_score(y_test, y_pred)"
   ]
  },
  {
   "cell_type": "code",
   "execution_count": null,
   "metadata": {},
   "outputs": [],
   "source": []
  }
 ],
 "metadata": {
  "kernelspec": {
   "display_name": "Python 3",
   "language": "python",
   "name": "python3"
  },
  "language_info": {
   "codemirror_mode": {
    "name": "ipython",
    "version": 3
   },
   "file_extension": ".py",
   "mimetype": "text/x-python",
   "name": "python",
   "nbconvert_exporter": "python",
   "pygments_lexer": "ipython3",
   "version": "3.6.8"
  }
 },
 "nbformat": 4,
 "nbformat_minor": 2
}
