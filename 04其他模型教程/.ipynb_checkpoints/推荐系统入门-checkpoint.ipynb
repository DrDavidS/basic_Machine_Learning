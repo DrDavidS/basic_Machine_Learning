{
 "cells": [
  {
   "cell_type": "markdown",
   "metadata": {},
   "source": [
    "# Getting Started with a Movie Recommendation System\n",
    "\n",
    "参考[Getting Started with a Movie Recommendation System](https://www.kaggle.com/ibtesama/getting-started-with-a-movie-recommendation-system)。\n",
    "\n",
    "数据集是 Kaggle 提供的 [The Movies Dataset](https://www.kaggle.com/rounakbanik/the-movies-dataset) 数据集，以及 [TMDB 5000 Movie Dataset](https://www.kaggle.com/tmdb/tmdb-movie-metadata)。\n",
    "\n",
    "## The Age of Recommender Systems\n",
    "\n",
    "数据收集的快速增长引领了信息新时代。\n",
    "\n",
    "数据被用来创建更有效的系统，比如推荐系统。推荐系统是一种信息过滤系统，因为它可以提高搜索结果的质量，并提供与搜索项更为相关或与用户搜索历史相相对应的项。\n"
   ]
  },
  {
   "cell_type": "markdown",
   "metadata": {},
   "source": [
    "## 数据读取\n",
    "\n",
    "首先我们读取数据集"
   ]
  },
  {
   "cell_type": "code",
   "execution_count": 2,
   "metadata": {},
   "outputs": [],
   "source": [
    "import pandas as pd \n",
    "import numpy as np \n",
    "\n",
    "df1 = pd.read_csv('../datasets/Movies/tmdb_5000_credits.csv')\n",
    "df2 = pd.read_csv('../datasets/Movies/tmdb_5000_movies.csv')"
   ]
  },
  {
   "cell_type": "code",
   "execution_count": 3,
   "metadata": {},
   "outputs": [],
   "source": [
    "#显示所有列\n",
    "pd.set_option('display.max_columns', None)\n",
    "#显示所有行\n",
    "pd.set_option('display.max_rows', None)\n",
    "#设置value的显示长度为100，默认为50\n",
    "pd.set_option('max_colwidth',100)"
   ]
  },
  {
   "cell_type": "markdown",
   "metadata": {},
   "source": [
    "第一个数据集有以下特征：\n",
    "\n",
    "- movie_id - 每个电影独一无二的 id\n",
    "- cast - 主演和演出人员\n",
    "- crew - 导演、剪辑、作曲、编剧等\n",
    "\n",
    "第二个数据集有以下特征：\n",
    "\n",
    "- budget - 电影制作预算（成本）\n",
    "- genre - 电影类型，如动作片（Action）、喜剧片（Comedy）、惊悚片（Thriller）等\n",
    "- homepage - 指向电影首页的链接\n",
    "- id - 与第一个数据集中的 movie_id 一致\n",
    "- keywords - 电影的关键词（keywords）或者标签（tags）\n",
    "- original_language - 电影的语言种类\n",
    "- original_title - 翻译或者改编前的电影名称\n",
    "- overview - 电影的简要说明\n",
    "- popularity - 数字特征，指的是一部电影的受欢迎程度\n",
    "- production_companies - 电影的制作公司\n",
    "- production_countries - 电影的制作国家\n",
    "- release_date - 电影发布日期\n",
    "- revenue - 电影的全球收入\n",
    "- runtime - 电影时长（分钟）\n",
    "- status - \"Released\" or \"Rumored\"，“发布”或者“谣传”\n",
    "- tagline - 电影的宣传词（tagline）\n",
    "- title - 电影的标题\n",
    "- vote_average - 电影的平均评分\n",
    "- vote_count - 电影获得的票数\n",
    "\n",
    "我们基于 id 将两个数据集结合起来。"
   ]
  },
  {
   "cell_type": "code",
   "execution_count": 4,
   "metadata": {},
   "outputs": [],
   "source": [
    "df1.columns = ['id','tittle','cast','crew']\n",
    "df2 = df2.merge(df1, on='id')"
   ]
  },
  {
   "cell_type": "code",
   "execution_count": 5,
   "metadata": {},
   "outputs": [
    {
     "data": {
      "text/html": [
       "<div>\n",
       "<style scoped>\n",
       "    .dataframe tbody tr th:only-of-type {\n",
       "        vertical-align: middle;\n",
       "    }\n",
       "\n",
       "    .dataframe tbody tr th {\n",
       "        vertical-align: top;\n",
       "    }\n",
       "\n",
       "    .dataframe thead th {\n",
       "        text-align: right;\n",
       "    }\n",
       "</style>\n",
       "<table border=\"1\" class=\"dataframe\">\n",
       "  <thead>\n",
       "    <tr style=\"text-align: right;\">\n",
       "      <th></th>\n",
       "      <th>budget</th>\n",
       "      <th>genres</th>\n",
       "      <th>homepage</th>\n",
       "      <th>id</th>\n",
       "      <th>keywords</th>\n",
       "      <th>original_language</th>\n",
       "      <th>original_title</th>\n",
       "      <th>overview</th>\n",
       "      <th>popularity</th>\n",
       "      <th>production_companies</th>\n",
       "      <th>production_countries</th>\n",
       "      <th>release_date</th>\n",
       "      <th>revenue</th>\n",
       "      <th>runtime</th>\n",
       "      <th>spoken_languages</th>\n",
       "      <th>status</th>\n",
       "      <th>tagline</th>\n",
       "      <th>title</th>\n",
       "      <th>vote_average</th>\n",
       "      <th>vote_count</th>\n",
       "      <th>tittle</th>\n",
       "      <th>cast</th>\n",
       "      <th>crew</th>\n",
       "    </tr>\n",
       "  </thead>\n",
       "  <tbody>\n",
       "    <tr>\n",
       "      <th>0</th>\n",
       "      <td>237000000</td>\n",
       "      <td>[{\"id\": 28, \"name\": \"Action\"}, {\"id\": 12, \"name\": \"Adventure\"}, {\"id\": 14, \"name\": \"Fantasy\"}, {...</td>\n",
       "      <td>http://www.avatarmovie.com/</td>\n",
       "      <td>19995</td>\n",
       "      <td>[{\"id\": 1463, \"name\": \"culture clash\"}, {\"id\": 2964, \"name\": \"future\"}, {\"id\": 3386, \"name\": \"sp...</td>\n",
       "      <td>en</td>\n",
       "      <td>Avatar</td>\n",
       "      <td>In the 22nd century, a paraplegic Marine is dispatched to the moon Pandora on a unique mission, ...</td>\n",
       "      <td>150.437577</td>\n",
       "      <td>[{\"name\": \"Ingenious Film Partners\", \"id\": 289}, {\"name\": \"Twentieth Century Fox Film Corporatio...</td>\n",
       "      <td>[{\"iso_3166_1\": \"US\", \"name\": \"United States of America\"}, {\"iso_3166_1\": \"GB\", \"name\": \"United ...</td>\n",
       "      <td>2009-12-10</td>\n",
       "      <td>2787965087</td>\n",
       "      <td>162.0</td>\n",
       "      <td>[{\"iso_639_1\": \"en\", \"name\": \"English\"}, {\"iso_639_1\": \"es\", \"name\": \"Espa\\u00f1ol\"}]</td>\n",
       "      <td>Released</td>\n",
       "      <td>Enter the World of Pandora.</td>\n",
       "      <td>Avatar</td>\n",
       "      <td>7.2</td>\n",
       "      <td>11800</td>\n",
       "      <td>Avatar</td>\n",
       "      <td>[{\"cast_id\": 242, \"character\": \"Jake Sully\", \"credit_id\": \"5602a8a7c3a3685532001c9a\", \"gender\": ...</td>\n",
       "      <td>[{\"credit_id\": \"52fe48009251416c750aca23\", \"department\": \"Editing\", \"gender\": 0, \"id\": 1721, \"jo...</td>\n",
       "    </tr>\n",
       "    <tr>\n",
       "      <th>1</th>\n",
       "      <td>300000000</td>\n",
       "      <td>[{\"id\": 12, \"name\": \"Adventure\"}, {\"id\": 14, \"name\": \"Fantasy\"}, {\"id\": 28, \"name\": \"Action\"}]</td>\n",
       "      <td>http://disney.go.com/disneypictures/pirates/</td>\n",
       "      <td>285</td>\n",
       "      <td>[{\"id\": 270, \"name\": \"ocean\"}, {\"id\": 726, \"name\": \"drug abuse\"}, {\"id\": 911, \"name\": \"exotic is...</td>\n",
       "      <td>en</td>\n",
       "      <td>Pirates of the Caribbean: At World's End</td>\n",
       "      <td>Captain Barbossa, long believed to be dead, has come back to life and is headed to the edge of t...</td>\n",
       "      <td>139.082615</td>\n",
       "      <td>[{\"name\": \"Walt Disney Pictures\", \"id\": 2}, {\"name\": \"Jerry Bruckheimer Films\", \"id\": 130}, {\"na...</td>\n",
       "      <td>[{\"iso_3166_1\": \"US\", \"name\": \"United States of America\"}]</td>\n",
       "      <td>2007-05-19</td>\n",
       "      <td>961000000</td>\n",
       "      <td>169.0</td>\n",
       "      <td>[{\"iso_639_1\": \"en\", \"name\": \"English\"}]</td>\n",
       "      <td>Released</td>\n",
       "      <td>At the end of the world, the adventure begins.</td>\n",
       "      <td>Pirates of the Caribbean: At World's End</td>\n",
       "      <td>6.9</td>\n",
       "      <td>4500</td>\n",
       "      <td>Pirates of the Caribbean: At World's End</td>\n",
       "      <td>[{\"cast_id\": 4, \"character\": \"Captain Jack Sparrow\", \"credit_id\": \"52fe4232c3a36847f800b50d\", \"g...</td>\n",
       "      <td>[{\"credit_id\": \"52fe4232c3a36847f800b579\", \"department\": \"Camera\", \"gender\": 2, \"id\": 120, \"job\"...</td>\n",
       "    </tr>\n",
       "    <tr>\n",
       "      <th>2</th>\n",
       "      <td>245000000</td>\n",
       "      <td>[{\"id\": 28, \"name\": \"Action\"}, {\"id\": 12, \"name\": \"Adventure\"}, {\"id\": 80, \"name\": \"Crime\"}]</td>\n",
       "      <td>http://www.sonypictures.com/movies/spectre/</td>\n",
       "      <td>206647</td>\n",
       "      <td>[{\"id\": 470, \"name\": \"spy\"}, {\"id\": 818, \"name\": \"based on novel\"}, {\"id\": 4289, \"name\": \"secret...</td>\n",
       "      <td>en</td>\n",
       "      <td>Spectre</td>\n",
       "      <td>A cryptic message from Bond’s past sends him on a trail to uncover a sinister organization. Whil...</td>\n",
       "      <td>107.376788</td>\n",
       "      <td>[{\"name\": \"Columbia Pictures\", \"id\": 5}, {\"name\": \"Danjaq\", \"id\": 10761}, {\"name\": \"B24\", \"id\": ...</td>\n",
       "      <td>[{\"iso_3166_1\": \"GB\", \"name\": \"United Kingdom\"}, {\"iso_3166_1\": \"US\", \"name\": \"United States of ...</td>\n",
       "      <td>2015-10-26</td>\n",
       "      <td>880674609</td>\n",
       "      <td>148.0</td>\n",
       "      <td>[{\"iso_639_1\": \"fr\", \"name\": \"Fran\\u00e7ais\"}, {\"iso_639_1\": \"en\", \"name\": \"English\"}, {\"iso_639...</td>\n",
       "      <td>Released</td>\n",
       "      <td>A Plan No One Escapes</td>\n",
       "      <td>Spectre</td>\n",
       "      <td>6.3</td>\n",
       "      <td>4466</td>\n",
       "      <td>Spectre</td>\n",
       "      <td>[{\"cast_id\": 1, \"character\": \"James Bond\", \"credit_id\": \"52fe4d22c3a368484e1d8d6b\", \"gender\": 2,...</td>\n",
       "      <td>[{\"credit_id\": \"54805967c3a36829b5002c41\", \"department\": \"Sound\", \"gender\": 2, \"id\": 153, \"job\":...</td>\n",
       "    </tr>\n",
       "    <tr>\n",
       "      <th>3</th>\n",
       "      <td>250000000</td>\n",
       "      <td>[{\"id\": 28, \"name\": \"Action\"}, {\"id\": 80, \"name\": \"Crime\"}, {\"id\": 18, \"name\": \"Drama\"}, {\"id\": ...</td>\n",
       "      <td>http://www.thedarkknightrises.com/</td>\n",
       "      <td>49026</td>\n",
       "      <td>[{\"id\": 849, \"name\": \"dc comics\"}, {\"id\": 853, \"name\": \"crime fighter\"}, {\"id\": 949, \"name\": \"te...</td>\n",
       "      <td>en</td>\n",
       "      <td>The Dark Knight Rises</td>\n",
       "      <td>Following the death of District Attorney Harvey Dent, Batman assumes responsibility for Dent's c...</td>\n",
       "      <td>112.312950</td>\n",
       "      <td>[{\"name\": \"Legendary Pictures\", \"id\": 923}, {\"name\": \"Warner Bros.\", \"id\": 6194}, {\"name\": \"DC E...</td>\n",
       "      <td>[{\"iso_3166_1\": \"US\", \"name\": \"United States of America\"}]</td>\n",
       "      <td>2012-07-16</td>\n",
       "      <td>1084939099</td>\n",
       "      <td>165.0</td>\n",
       "      <td>[{\"iso_639_1\": \"en\", \"name\": \"English\"}]</td>\n",
       "      <td>Released</td>\n",
       "      <td>The Legend Ends</td>\n",
       "      <td>The Dark Knight Rises</td>\n",
       "      <td>7.6</td>\n",
       "      <td>9106</td>\n",
       "      <td>The Dark Knight Rises</td>\n",
       "      <td>[{\"cast_id\": 2, \"character\": \"Bruce Wayne / Batman\", \"credit_id\": \"52fe4781c3a36847f8139869\", \"g...</td>\n",
       "      <td>[{\"credit_id\": \"52fe4781c3a36847f81398c3\", \"department\": \"Sound\", \"gender\": 2, \"id\": 947, \"job\":...</td>\n",
       "    </tr>\n",
       "    <tr>\n",
       "      <th>4</th>\n",
       "      <td>260000000</td>\n",
       "      <td>[{\"id\": 28, \"name\": \"Action\"}, {\"id\": 12, \"name\": \"Adventure\"}, {\"id\": 878, \"name\": \"Science Fic...</td>\n",
       "      <td>http://movies.disney.com/john-carter</td>\n",
       "      <td>49529</td>\n",
       "      <td>[{\"id\": 818, \"name\": \"based on novel\"}, {\"id\": 839, \"name\": \"mars\"}, {\"id\": 1456, \"name\": \"medal...</td>\n",
       "      <td>en</td>\n",
       "      <td>John Carter</td>\n",
       "      <td>John Carter is a war-weary, former military captain who's inexplicably transported to the myster...</td>\n",
       "      <td>43.926995</td>\n",
       "      <td>[{\"name\": \"Walt Disney Pictures\", \"id\": 2}]</td>\n",
       "      <td>[{\"iso_3166_1\": \"US\", \"name\": \"United States of America\"}]</td>\n",
       "      <td>2012-03-07</td>\n",
       "      <td>284139100</td>\n",
       "      <td>132.0</td>\n",
       "      <td>[{\"iso_639_1\": \"en\", \"name\": \"English\"}]</td>\n",
       "      <td>Released</td>\n",
       "      <td>Lost in our world, found in another.</td>\n",
       "      <td>John Carter</td>\n",
       "      <td>6.1</td>\n",
       "      <td>2124</td>\n",
       "      <td>John Carter</td>\n",
       "      <td>[{\"cast_id\": 5, \"character\": \"John Carter\", \"credit_id\": \"52fe479ac3a36847f813ea75\", \"gender\": 2...</td>\n",
       "      <td>[{\"credit_id\": \"52fe479ac3a36847f813eaa3\", \"department\": \"Writing\", \"gender\": 2, \"id\": 7, \"job\":...</td>\n",
       "    </tr>\n",
       "  </tbody>\n",
       "</table>\n",
       "</div>"
      ],
      "text/plain": [
       "      budget  \\\n",
       "0  237000000   \n",
       "1  300000000   \n",
       "2  245000000   \n",
       "3  250000000   \n",
       "4  260000000   \n",
       "\n",
       "                                                                                                genres  \\\n",
       "0  [{\"id\": 28, \"name\": \"Action\"}, {\"id\": 12, \"name\": \"Adventure\"}, {\"id\": 14, \"name\": \"Fantasy\"}, {...   \n",
       "1       [{\"id\": 12, \"name\": \"Adventure\"}, {\"id\": 14, \"name\": \"Fantasy\"}, {\"id\": 28, \"name\": \"Action\"}]   \n",
       "2         [{\"id\": 28, \"name\": \"Action\"}, {\"id\": 12, \"name\": \"Adventure\"}, {\"id\": 80, \"name\": \"Crime\"}]   \n",
       "3  [{\"id\": 28, \"name\": \"Action\"}, {\"id\": 80, \"name\": \"Crime\"}, {\"id\": 18, \"name\": \"Drama\"}, {\"id\": ...   \n",
       "4  [{\"id\": 28, \"name\": \"Action\"}, {\"id\": 12, \"name\": \"Adventure\"}, {\"id\": 878, \"name\": \"Science Fic...   \n",
       "\n",
       "                                       homepage      id  \\\n",
       "0                   http://www.avatarmovie.com/   19995   \n",
       "1  http://disney.go.com/disneypictures/pirates/     285   \n",
       "2   http://www.sonypictures.com/movies/spectre/  206647   \n",
       "3            http://www.thedarkknightrises.com/   49026   \n",
       "4          http://movies.disney.com/john-carter   49529   \n",
       "\n",
       "                                                                                              keywords  \\\n",
       "0  [{\"id\": 1463, \"name\": \"culture clash\"}, {\"id\": 2964, \"name\": \"future\"}, {\"id\": 3386, \"name\": \"sp...   \n",
       "1  [{\"id\": 270, \"name\": \"ocean\"}, {\"id\": 726, \"name\": \"drug abuse\"}, {\"id\": 911, \"name\": \"exotic is...   \n",
       "2  [{\"id\": 470, \"name\": \"spy\"}, {\"id\": 818, \"name\": \"based on novel\"}, {\"id\": 4289, \"name\": \"secret...   \n",
       "3  [{\"id\": 849, \"name\": \"dc comics\"}, {\"id\": 853, \"name\": \"crime fighter\"}, {\"id\": 949, \"name\": \"te...   \n",
       "4  [{\"id\": 818, \"name\": \"based on novel\"}, {\"id\": 839, \"name\": \"mars\"}, {\"id\": 1456, \"name\": \"medal...   \n",
       "\n",
       "  original_language                            original_title  \\\n",
       "0                en                                    Avatar   \n",
       "1                en  Pirates of the Caribbean: At World's End   \n",
       "2                en                                   Spectre   \n",
       "3                en                     The Dark Knight Rises   \n",
       "4                en                               John Carter   \n",
       "\n",
       "                                                                                              overview  \\\n",
       "0  In the 22nd century, a paraplegic Marine is dispatched to the moon Pandora on a unique mission, ...   \n",
       "1  Captain Barbossa, long believed to be dead, has come back to life and is headed to the edge of t...   \n",
       "2  A cryptic message from Bond’s past sends him on a trail to uncover a sinister organization. Whil...   \n",
       "3  Following the death of District Attorney Harvey Dent, Batman assumes responsibility for Dent's c...   \n",
       "4  John Carter is a war-weary, former military captain who's inexplicably transported to the myster...   \n",
       "\n",
       "   popularity  \\\n",
       "0  150.437577   \n",
       "1  139.082615   \n",
       "2  107.376788   \n",
       "3  112.312950   \n",
       "4   43.926995   \n",
       "\n",
       "                                                                                  production_companies  \\\n",
       "0  [{\"name\": \"Ingenious Film Partners\", \"id\": 289}, {\"name\": \"Twentieth Century Fox Film Corporatio...   \n",
       "1  [{\"name\": \"Walt Disney Pictures\", \"id\": 2}, {\"name\": \"Jerry Bruckheimer Films\", \"id\": 130}, {\"na...   \n",
       "2  [{\"name\": \"Columbia Pictures\", \"id\": 5}, {\"name\": \"Danjaq\", \"id\": 10761}, {\"name\": \"B24\", \"id\": ...   \n",
       "3  [{\"name\": \"Legendary Pictures\", \"id\": 923}, {\"name\": \"Warner Bros.\", \"id\": 6194}, {\"name\": \"DC E...   \n",
       "4                                                          [{\"name\": \"Walt Disney Pictures\", \"id\": 2}]   \n",
       "\n",
       "                                                                                  production_countries  \\\n",
       "0  [{\"iso_3166_1\": \"US\", \"name\": \"United States of America\"}, {\"iso_3166_1\": \"GB\", \"name\": \"United ...   \n",
       "1                                           [{\"iso_3166_1\": \"US\", \"name\": \"United States of America\"}]   \n",
       "2  [{\"iso_3166_1\": \"GB\", \"name\": \"United Kingdom\"}, {\"iso_3166_1\": \"US\", \"name\": \"United States of ...   \n",
       "3                                           [{\"iso_3166_1\": \"US\", \"name\": \"United States of America\"}]   \n",
       "4                                           [{\"iso_3166_1\": \"US\", \"name\": \"United States of America\"}]   \n",
       "\n",
       "  release_date     revenue  runtime  \\\n",
       "0   2009-12-10  2787965087    162.0   \n",
       "1   2007-05-19   961000000    169.0   \n",
       "2   2015-10-26   880674609    148.0   \n",
       "3   2012-07-16  1084939099    165.0   \n",
       "4   2012-03-07   284139100    132.0   \n",
       "\n",
       "                                                                                      spoken_languages  \\\n",
       "0                [{\"iso_639_1\": \"en\", \"name\": \"English\"}, {\"iso_639_1\": \"es\", \"name\": \"Espa\\u00f1ol\"}]   \n",
       "1                                                             [{\"iso_639_1\": \"en\", \"name\": \"English\"}]   \n",
       "2  [{\"iso_639_1\": \"fr\", \"name\": \"Fran\\u00e7ais\"}, {\"iso_639_1\": \"en\", \"name\": \"English\"}, {\"iso_639...   \n",
       "3                                                             [{\"iso_639_1\": \"en\", \"name\": \"English\"}]   \n",
       "4                                                             [{\"iso_639_1\": \"en\", \"name\": \"English\"}]   \n",
       "\n",
       "     status                                         tagline  \\\n",
       "0  Released                     Enter the World of Pandora.   \n",
       "1  Released  At the end of the world, the adventure begins.   \n",
       "2  Released                           A Plan No One Escapes   \n",
       "3  Released                                 The Legend Ends   \n",
       "4  Released            Lost in our world, found in another.   \n",
       "\n",
       "                                      title  vote_average  vote_count  \\\n",
       "0                                    Avatar           7.2       11800   \n",
       "1  Pirates of the Caribbean: At World's End           6.9        4500   \n",
       "2                                   Spectre           6.3        4466   \n",
       "3                     The Dark Knight Rises           7.6        9106   \n",
       "4                               John Carter           6.1        2124   \n",
       "\n",
       "                                     tittle  \\\n",
       "0                                    Avatar   \n",
       "1  Pirates of the Caribbean: At World's End   \n",
       "2                                   Spectre   \n",
       "3                     The Dark Knight Rises   \n",
       "4                               John Carter   \n",
       "\n",
       "                                                                                                  cast  \\\n",
       "0  [{\"cast_id\": 242, \"character\": \"Jake Sully\", \"credit_id\": \"5602a8a7c3a3685532001c9a\", \"gender\": ...   \n",
       "1  [{\"cast_id\": 4, \"character\": \"Captain Jack Sparrow\", \"credit_id\": \"52fe4232c3a36847f800b50d\", \"g...   \n",
       "2  [{\"cast_id\": 1, \"character\": \"James Bond\", \"credit_id\": \"52fe4d22c3a368484e1d8d6b\", \"gender\": 2,...   \n",
       "3  [{\"cast_id\": 2, \"character\": \"Bruce Wayne / Batman\", \"credit_id\": \"52fe4781c3a36847f8139869\", \"g...   \n",
       "4  [{\"cast_id\": 5, \"character\": \"John Carter\", \"credit_id\": \"52fe479ac3a36847f813ea75\", \"gender\": 2...   \n",
       "\n",
       "                                                                                                  crew  \n",
       "0  [{\"credit_id\": \"52fe48009251416c750aca23\", \"department\": \"Editing\", \"gender\": 0, \"id\": 1721, \"jo...  \n",
       "1  [{\"credit_id\": \"52fe4232c3a36847f800b579\", \"department\": \"Camera\", \"gender\": 2, \"id\": 120, \"job\"...  \n",
       "2  [{\"credit_id\": \"54805967c3a36829b5002c41\", \"department\": \"Sound\", \"gender\": 2, \"id\": 153, \"job\":...  \n",
       "3  [{\"credit_id\": \"52fe4781c3a36847f81398c3\", \"department\": \"Sound\", \"gender\": 2, \"id\": 947, \"job\":...  \n",
       "4  [{\"credit_id\": \"52fe479ac3a36847f813eaa3\", \"department\": \"Writing\", \"gender\": 2, \"id\": 7, \"job\":...  "
      ]
     },
     "execution_count": 5,
     "metadata": {},
     "output_type": "execute_result"
    }
   ],
   "source": [
    "df2.head(5)"
   ]
  },
  {
   "cell_type": "markdown",
   "metadata": {},
   "source": [
    "## 受众特征过滤 - Demographic Filtering\n",
    "\n",
    "在开始之前，我们需要：\n",
    "\n",
    "- 一个指标给电影评分\n",
    "- 计算每部电影的分数\n",
    "- 给分数排序然后给用户推荐打分最高的电影\n",
    "\n",
    "我们可以使用电影的平均评分作为得分，但是使用它的评分还不够合理，因为平均得分为 8.9 分但是只有 3 次评分电影不能被认为比平均得分为 7.8 分但是又 40 次评分的电影更好。因此我们将使用 IMDB 的加权评分(WR)：\n",
    "\n",
    "$$\\large {\\rm WR} = (\\cfrac{v}{v+m}\\cdot R) + (\\cfrac{m}{v+m}\\cdot C)$$\n",
    "\n",
    "其中，\n",
    "\n",
    "- $v$ 是电影的投票次数\n",
    "- $m$ 是能在图表中被列出来的最低投票次数门槛\n",
    "- $R$ 是电影的平均评分\n",
    "- $C$ 是整个报告的平均投票次数\n",
    "\n",
    "我们已经有 $v$(`vote_count`) 和 $R$(`vote_average`)。同时 $C$ 可以被如下方法计算："
   ]
  },
  {
   "cell_type": "code",
   "execution_count": 6,
   "metadata": {},
   "outputs": [
    {
     "name": "stdout",
     "output_type": "stream",
     "text": [
      "6.092171559442011\n"
     ]
    }
   ],
   "source": [
    "C = df2['vote_average'].mean()\n",
    "\n",
    "print(C)"
   ]
  },
  {
   "cell_type": "markdown",
   "metadata": {},
   "source": [
    "因此，所有电影的平均分大约是 6 分（满分 10 分）。\n",
    "\n",
    "下一步是确定 $m$ 的适当值， $m$ 是图表中需要列出的最低票数。我们将使用 90% 作为我们的临界值。换句话说，要使电影在图表中出现，其票数需要超过列表中至少 90% 的电影。"
   ]
  },
  {
   "cell_type": "code",
   "execution_count": 7,
   "metadata": {},
   "outputs": [
    {
     "name": "stdout",
     "output_type": "stream",
     "text": [
      "1838.4000000000015\n"
     ]
    }
   ],
   "source": [
    "m = df2['vote_count'].quantile(0.9)\n",
    "\n",
    "print(m)"
   ]
  },
  {
   "cell_type": "markdown",
   "metadata": {},
   "source": [
    "现在我们可以将需要的影片筛选出来："
   ]
  },
  {
   "cell_type": "code",
   "execution_count": 8,
   "metadata": {},
   "outputs": [
    {
     "name": "stdout",
     "output_type": "stream",
     "text": [
      "(481, 23)\n"
     ]
    }
   ],
   "source": [
    "q_movies = df2.copy().loc[df2['vote_count'] >= m]\n",
    "\n",
    "print(q_movies.shape)"
   ]
  },
  {
   "cell_type": "markdown",
   "metadata": {},
   "source": [
    "我们看到有 481 部电影符合筛选条件。\n",
    "\n",
    "现在，我们需要计算每部合格电影的指标。为此，我们将定义一个函数 `weighted_rating()` 并定义一个新的特征**分数（score）**，通过将这个函数应用到合格电影的 DataFrame 中。\n",
    "\n",
    "现在计算这个分数："
   ]
  },
  {
   "cell_type": "code",
   "execution_count": 9,
   "metadata": {},
   "outputs": [],
   "source": [
    "def weighted_rating(x, m=m, C=C):\n",
    "    v = x['vote_count']\n",
    "    R = x['vote_average']\n",
    "    # Calculation based on the IMDB formula\n",
    "    return (v/(v+m) * R) + (m/(m+v) * C)"
   ]
  },
  {
   "cell_type": "code",
   "execution_count": 10,
   "metadata": {},
   "outputs": [],
   "source": [
    "# Define a new feature 'score' and calculate its value with `weighted_rating()`\n",
    "\n",
    "q_movies['score'] = q_movies.apply(weighted_rating, axis=1)"
   ]
  },
  {
   "cell_type": "markdown",
   "metadata": {},
   "source": [
    "最后，让我们根据得分功能对 DataFrame 进行排序，然后输出标题，投票数，平均投票以及加权得分后前十名的影片。"
   ]
  },
  {
   "cell_type": "code",
   "execution_count": 11,
   "metadata": {},
   "outputs": [
    {
     "data": {
      "text/html": [
       "<div>\n",
       "<style scoped>\n",
       "    .dataframe tbody tr th:only-of-type {\n",
       "        vertical-align: middle;\n",
       "    }\n",
       "\n",
       "    .dataframe tbody tr th {\n",
       "        vertical-align: top;\n",
       "    }\n",
       "\n",
       "    .dataframe thead th {\n",
       "        text-align: right;\n",
       "    }\n",
       "</style>\n",
       "<table border=\"1\" class=\"dataframe\">\n",
       "  <thead>\n",
       "    <tr style=\"text-align: right;\">\n",
       "      <th></th>\n",
       "      <th>title</th>\n",
       "      <th>vote_count</th>\n",
       "      <th>vote_average</th>\n",
       "      <th>score</th>\n",
       "    </tr>\n",
       "  </thead>\n",
       "  <tbody>\n",
       "    <tr>\n",
       "      <th>1881</th>\n",
       "      <td>The Shawshank Redemption</td>\n",
       "      <td>8205</td>\n",
       "      <td>8.5</td>\n",
       "      <td>8.059258</td>\n",
       "    </tr>\n",
       "    <tr>\n",
       "      <th>662</th>\n",
       "      <td>Fight Club</td>\n",
       "      <td>9413</td>\n",
       "      <td>8.3</td>\n",
       "      <td>7.939256</td>\n",
       "    </tr>\n",
       "    <tr>\n",
       "      <th>65</th>\n",
       "      <td>The Dark Knight</td>\n",
       "      <td>12002</td>\n",
       "      <td>8.2</td>\n",
       "      <td>7.920020</td>\n",
       "    </tr>\n",
       "    <tr>\n",
       "      <th>3232</th>\n",
       "      <td>Pulp Fiction</td>\n",
       "      <td>8428</td>\n",
       "      <td>8.3</td>\n",
       "      <td>7.904645</td>\n",
       "    </tr>\n",
       "    <tr>\n",
       "      <th>96</th>\n",
       "      <td>Inception</td>\n",
       "      <td>13752</td>\n",
       "      <td>8.1</td>\n",
       "      <td>7.863239</td>\n",
       "    </tr>\n",
       "    <tr>\n",
       "      <th>3337</th>\n",
       "      <td>The Godfather</td>\n",
       "      <td>5893</td>\n",
       "      <td>8.4</td>\n",
       "      <td>7.851236</td>\n",
       "    </tr>\n",
       "    <tr>\n",
       "      <th>95</th>\n",
       "      <td>Interstellar</td>\n",
       "      <td>10867</td>\n",
       "      <td>8.1</td>\n",
       "      <td>7.809479</td>\n",
       "    </tr>\n",
       "    <tr>\n",
       "      <th>809</th>\n",
       "      <td>Forrest Gump</td>\n",
       "      <td>7927</td>\n",
       "      <td>8.2</td>\n",
       "      <td>7.803188</td>\n",
       "    </tr>\n",
       "    <tr>\n",
       "      <th>329</th>\n",
       "      <td>The Lord of the Rings: The Return of the King</td>\n",
       "      <td>8064</td>\n",
       "      <td>8.1</td>\n",
       "      <td>7.727243</td>\n",
       "    </tr>\n",
       "    <tr>\n",
       "      <th>1990</th>\n",
       "      <td>The Empire Strikes Back</td>\n",
       "      <td>5879</td>\n",
       "      <td>8.2</td>\n",
       "      <td>7.697884</td>\n",
       "    </tr>\n",
       "  </tbody>\n",
       "</table>\n",
       "</div>"
      ],
      "text/plain": [
       "                                              title  vote_count  vote_average  \\\n",
       "1881                       The Shawshank Redemption        8205           8.5   \n",
       "662                                      Fight Club        9413           8.3   \n",
       "65                                  The Dark Knight       12002           8.2   \n",
       "3232                                   Pulp Fiction        8428           8.3   \n",
       "96                                        Inception       13752           8.1   \n",
       "3337                                  The Godfather        5893           8.4   \n",
       "95                                     Interstellar       10867           8.1   \n",
       "809                                    Forrest Gump        7927           8.2   \n",
       "329   The Lord of the Rings: The Return of the King        8064           8.1   \n",
       "1990                        The Empire Strikes Back        5879           8.2   \n",
       "\n",
       "         score  \n",
       "1881  8.059258  \n",
       "662   7.939256  \n",
       "65    7.920020  \n",
       "3232  7.904645  \n",
       "96    7.863239  \n",
       "3337  7.851236  \n",
       "95    7.809479  \n",
       "809   7.803188  \n",
       "329   7.727243  \n",
       "1990  7.697884  "
      ]
     },
     "execution_count": 11,
     "metadata": {},
     "output_type": "execute_result"
    }
   ],
   "source": [
    "# Sort movies based on score calculated above\n",
    "q_movies = q_movies.sort_values('score', ascending=False)\n",
    "\n",
    "#P rint the top 15 movies\n",
    "q_movies[['title', 'vote_count', 'vote_average', 'score']].head(10)"
   ]
  },
  {
   "cell_type": "markdown",
   "metadata": {},
   "source": [
    "很棒！\n",
    "\n",
    "现在我们已经做出了第一个（最最最基本）的推荐器。\n",
    "\n",
    "在这类系统的“Trending Now”标签下，我们可以找到现在非常受欢迎的电影，然后可以通过“受欢迎程度”列来对数据集排序。"
   ]
  },
  {
   "cell_type": "code",
   "execution_count": 12,
   "metadata": {},
   "outputs": [
    {
     "data": {
      "text/plain": [
       "Text(0.5, 1.0, 'Popular Movies')"
      ]
     },
     "execution_count": 12,
     "metadata": {},
     "output_type": "execute_result"
    },
    {
     "data": {
      "image/png": "[encoded data removed]",
      "text/plain": [
       "<Figure size 864x288 with 1 Axes>"
      ]
     },
     "metadata": {
      "needs_background": "light"
     },
     "output_type": "display_data"
    }
   ],
   "source": [
    "import matplotlib.pyplot as plt\n",
    "%matplotlib inline\n",
    "\n",
    "pop = df2.sort_values('popularity', ascending=False)  # 按照受欢迎程度\n",
    "plt.figure(figsize=(12,4))\n",
    "\n",
    "plt.barh(pop['title'].head(6),        # 前6个\n",
    "         pop['popularity'].head(6),   # 前6个\n",
    "         align='center',              # 中心对齐\n",
    "         color='skyblue')             # 颜色\n",
    "\n",
    "plt.gca().invert_yaxis()\n",
    "plt.xlabel(\"Popularity\")\n",
    "plt.title(\"Popular Movies\")"
   ]
  },
  {
   "cell_type": "markdown",
   "metadata": {},
   "source": [
    "现在，我们要记住的是，这些特征推荐者是向所有的用户提供了推荐电影的一般性图表。\n",
    "\n",
    "他们对特定用户的兴趣爱好并不敏感。所以我们要继续使用更完善的，基于内容的过滤系统。\n",
    "\n",
    "## 基于内容的过滤 - Content Based Filtering\n",
    "\n",
    "在这个推荐系统中，电影的内容（概述、演员、工作人员、关键字、标语等）可以用于查找与其他电影的相似性。然后推荐最有可能的相似电影。\n",
    "\n",
    "![img](https://i.ibb.co/WtCpzJ4/conten.png)\n",
    "\n",
    "\n",
    "### 基于描述的推荐\n",
    "\n",
    "我们将根据所有电影的情节描述计算相似度得分，然后根据该相似度得分推荐电影。在数据集的 `overview` 中我们可以了解到此信息，现在看看数据："
   ]
  },
  {
   "cell_type": "code",
   "execution_count": 13,
   "metadata": {},
   "outputs": [
    {
     "data": {
      "text/plain": [
       "0    In the 22nd century, a paraplegic Marine is dispatched to the moon Pandora on a unique mission, ...\n",
       "1    Captain Barbossa, long believed to be dead, has come back to life and is headed to the edge of t...\n",
       "2    A cryptic message from Bond’s past sends him on a trail to uncover a sinister organization. Whil...\n",
       "3    Following the death of District Attorney Harvey Dent, Batman assumes responsibility for Dent's c...\n",
       "4    John Carter is a war-weary, former military captain who's inexplicably transported to the myster...\n",
       "Name: overview, dtype: object"
      ]
     },
     "execution_count": 13,
     "metadata": {},
     "output_type": "execute_result"
    }
   ],
   "source": [
    "df2['overview'].head(5)"
   ]
  },
  {
   "cell_type": "markdown",
   "metadata": {},
   "source": [
    "如果稍微对文字处理有一些基础的人，可以知道我们需要将每个概述转换为词向量。\n",
    "\n",
    "现在我们使用最简单的 TF-IDF 向量为例子。\n",
    "\n",
    "什么叫做**词语频率（Term Frequency）**？它就是文档中单词的相对频率，以 **（特定词语数量/总词语数量）** 给出。而 **逆文本频率（Inverse Document Frequency）** 是指包含该术语的文档的相对数量，以 log（总文档数量/带有该术语的文档数量）给出。\n",
    "\n",
    "每个词语的总体重要性可以表达为 TF\\*IDF。\n",
    "\n",
    "由此我们可以得到一个矩阵，矩阵的每一列都代表总览词汇中的一个单词，而每一行代表一部电影。\n",
    "\n",
    "SKlearn 为我们提供了一个内置的 `TfIdfVectorizer` 类，我们可以用简单的两行代码就生成一个 TFIDF 矩阵。"
   ]
  },
  {
   "cell_type": "code",
   "execution_count": 14,
   "metadata": {},
   "outputs": [
    {
     "data": {
      "text/plain": [
       "(4803, 20978)"
      ]
     },
     "execution_count": 14,
     "metadata": {},
     "output_type": "execute_result"
    }
   ],
   "source": [
    "# Import TfIdfVectorizer from scikit-learn\n",
    "from sklearn.feature_extraction.text import TfidfVectorizer\n",
    "\n",
    "# Define a TF-IDF Vectorizer Object. \n",
    "# Remove all english stop words such as 'the', 'a'\n",
    "tfidf = TfidfVectorizer(stop_words='english')\n",
    "\n",
    "# Replace NaN with an empty string\n",
    "df2['overview'] = df2['overview'].fillna('')\n",
    "\n",
    "# Construct the required TF-IDF matrix by fitting and transforming the data\n",
    "tfidf_matrix = tfidf.fit_transform(df2['overview'])\n",
    "\n",
    "# Output the shape of tfidf_matrix\n",
    "tfidf_matrix.shape"
   ]
  },
  {
   "cell_type": "markdown",
   "metadata": {},
   "source": [
    "我们看到，数据集中使用了 20000 多个不同的单词来描述 4803 部电影。\n",
    "\n",
    "有了这个矩阵，我们可以计算一个相似度得分。有几种计算相似度的方法，比如欧氏距离， Pearson 相关性系数以及余弦相似度得分。没有所谓“最好”的答案。不同的方法在不同情况下各有优势，通常我们会多尝试一些不同的方法。\n",
    "\n",
    "我们将会使用余弦相似度来计算两部电影之间的相似度分数。\n",
    "\n",
    "余弦相似度定义如下：\n",
    "\n",
    "$$\\large {\\rm similarity} = \\cos(\\theta) = \\frac{A\\cdot B}{\\Vert A\\Vert \\Vert B\\Vert} = \\frac{\\sum_{i=1}^n A_iB_i}{\\sqrt{\\sum_{i=1}^n A_i^2}\\sqrt{\\sum_{i=1}^n B_i^2}}$$\n",
    "\n",
    "由于我们使用了 `TfIdfVectorizer` 因此计算点积会直接为我们提供余弦相似度分数。我们可以直接使用更快的 `linear_kernel()`，而不是 `cosine_similarities()`。"
   ]
  },
  {
   "cell_type": "code",
   "execution_count": 15,
   "metadata": {},
   "outputs": [],
   "source": [
    "# Import linear_kernel\n",
    "from sklearn.metrics.pairwise import linear_kernel\n",
    "\n",
    "# Compute the cosine similarity matrix\n",
    "cosine_sim = linear_kernel(tfidf_matrix, tfidf_matrix)"
   ]
  },
  {
   "cell_type": "markdown",
   "metadata": {},
   "source": [
    "现在我们定义一个函数，该函数以电影标题作为输入并输出 10 个最相似的电影的列表。\n",
    "\n",
    "首先，我们需要电影标题和 DataFrame 的索引映射。换句话说，我们需要一种机制来确定电影在我们 DataFrame 中的索引。"
   ]
  },
  {
   "cell_type": "code",
   "execution_count": 16,
   "metadata": {},
   "outputs": [],
   "source": [
    "#Construct a reverse map of indices and movie titles\n",
    "indices = pd.Series(df2.index, index=df2['title']).drop_duplicates()"
   ]
  },
  {
   "cell_type": "markdown",
   "metadata": {},
   "source": [
    "现在我们可以很好地定义推荐功能。\n",
    "\n",
    "- 根据标题获得电影的索引；\n",
    "- 获取该电影与所有电影的余弦相似度得分列表，然后转换为元组。其中第一个元素是其位置，第二个元素是相似性分数；\n",
    "- 根据相似性得分对上述元组列表排序；\n",
    "- 获取此列表前10个元素，忽略第一个元素，也就是它自己；\n",
    "- 返回与顶部元素索引对应的标题。"
   ]
  },
  {
   "cell_type": "code",
   "execution_count": 20,
   "metadata": {},
   "outputs": [],
   "source": [
    "def get_recommendations(title, cosine_sim=cosine_sim):\n",
    "    \"\"\"以电影标题为输入，并输出最相似电影\"\"\"\n",
    "    # 获取标题对应的索引\n",
    "    idx = indices[title]\n",
    "\n",
    "    # 获取所有电影与这部电影的相似度得分\n",
    "    sim_scores = list(enumerate(cosine_sim[idx]))\n",
    "\n",
    "    # 基于相似度排序\n",
    "    sim_scores = sorted(sim_scores, key=lambda x: x[1], reverse=True)\n",
    "\n",
    "    # 获取前十个相似的电影分数\n",
    "    sim_scores = sim_scores[1:11]\n",
    "\n",
    "    # 获取电影索引\n",
    "    movie_indices = [i[0] for i in sim_scores]\n",
    "\n",
    "    # 返回最相似的十部电影\n",
    "    return df2['title'].iloc[movie_indices]"
   ]
  },
  {
   "cell_type": "code",
   "execution_count": 21,
   "metadata": {},
   "outputs": [
    {
     "data": {
      "text/plain": [
       "65                              The Dark Knight\n",
       "299                              Batman Forever\n",
       "428                              Batman Returns\n",
       "1359                                     Batman\n",
       "3854    Batman: The Dark Knight Returns, Part 2\n",
       "119                               Batman Begins\n",
       "2507                                  Slow Burn\n",
       "9            Batman v Superman: Dawn of Justice\n",
       "1181                                        JFK\n",
       "210                              Batman & Robin\n",
       "Name: title, dtype: object"
      ]
     },
     "execution_count": 21,
     "metadata": {},
     "output_type": "execute_result"
    }
   ],
   "source": [
    "# 《黑暗骑士崛起》\n",
    "get_recommendations('The Dark Knight Rises')"
   ]
  },
  {
   "cell_type": "markdown",
   "metadata": {},
   "source": [
    "尽管我们的推荐系统在查找具有类似情节描述的电影方面做的不错，但是推荐的质量却不是很好。\n",
    "\n",
    "输入《黑暗骑士崛起》，返回了所有的蝙蝠侠电影。但是喜欢这部电影的人可能更喜欢克里斯托弗·诺兰的其他电影。这是本系统的一点缺陷。"
   ]
  },
  {
   "cell_type": "code",
   "execution_count": 22,
   "metadata": {},
   "outputs": [],
   "source": [
    "# Parse the stringified features into their corresponding python objects\n",
    "from ast import literal_eval\n",
    "\n",
    "features = ['cast', 'crew', 'keywords', 'genres']\n",
    "for feature in features:\n",
    "    df2[feature] = df2[feature].apply(literal_eval)"
   ]
  },
  {
   "cell_type": "markdown",
   "metadata": {},
   "source": [
    "接下来我们编写函数，以帮助我们从每个功能中提取所需信息。"
   ]
  },
  {
   "cell_type": "code",
   "execution_count": 27,
   "metadata": {},
   "outputs": [],
   "source": [
    "def get_director(x):\n",
    "    \"\"\"从 crew 中获取导演名称，如果没有导演则返回 Nan\"\"\"\n",
    "    for i in x:\n",
    "        if i['job'] == 'Director':\n",
    "            return i['name']\n",
    "    return np.nan"
   ]
  },
  {
   "cell_type": "code",
   "execution_count": 28,
   "metadata": {},
   "outputs": [],
   "source": [
    "def get_list(x):\n",
    "    \"\"\"返回list头三个元素，如果不足3个就返回整个list\"\"\"\n",
    "    if isinstance(x, list):\n",
    "        names = [i['name'] for i in x]\n",
    "        # Check if more than 3 elements exist. If yes, return only first three. \n",
    "        # If no, return entire list.\n",
    "        if len(names) > 3:\n",
    "            names = names[:3]\n",
    "        return names\n",
    "\n",
    "    # Return empty list in case of missing/malformed data\n",
    "    return []"
   ]
  },
  {
   "cell_type": "code",
   "execution_count": 29,
   "metadata": {},
   "outputs": [],
   "source": [
    "# Define new director, cast, genres and keywords features that are in a suitable form.\n",
    "# 新建导演、演员、体裁、关键字等列\n",
    "df2['director'] = df2['crew'].apply(get_director)\n",
    "\n",
    "features = ['cast', 'keywords', 'genres']\n",
    "for feature in features:\n",
    "    df2[feature] = df2[feature].apply(get_list)"
   ]
  },
  {
   "cell_type": "code",
   "execution_count": 30,
   "metadata": {},
   "outputs": [
    {
     "data": {
      "text/html": [
       "<div>\n",
       "<style scoped>\n",
       "    .dataframe tbody tr th:only-of-type {\n",
       "        vertical-align: middle;\n",
       "    }\n",
       "\n",
       "    .dataframe tbody tr th {\n",
       "        vertical-align: top;\n",
       "    }\n",
       "\n",
       "    .dataframe thead th {\n",
       "        text-align: right;\n",
       "    }\n",
       "</style>\n",
       "<table border=\"1\" class=\"dataframe\">\n",
       "  <thead>\n",
       "    <tr style=\"text-align: right;\">\n",
       "      <th></th>\n",
       "      <th>title</th>\n",
       "      <th>cast</th>\n",
       "      <th>director</th>\n",
       "      <th>keywords</th>\n",
       "      <th>genres</th>\n",
       "    </tr>\n",
       "  </thead>\n",
       "  <tbody>\n",
       "    <tr>\n",
       "      <th>0</th>\n",
       "      <td>Avatar</td>\n",
       "      <td>[Sam Worthington, Zoe Saldana, Sigourney Weaver]</td>\n",
       "      <td>James Cameron</td>\n",
       "      <td>[culture clash, future, space war]</td>\n",
       "      <td>[Action, Adventure, Fantasy]</td>\n",
       "    </tr>\n",
       "    <tr>\n",
       "      <th>1</th>\n",
       "      <td>Pirates of the Caribbean: At World's End</td>\n",
       "      <td>[Johnny Depp, Orlando Bloom, Keira Knightley]</td>\n",
       "      <td>Gore Verbinski</td>\n",
       "      <td>[ocean, drug abuse, exotic island]</td>\n",
       "      <td>[Adventure, Fantasy, Action]</td>\n",
       "    </tr>\n",
       "    <tr>\n",
       "      <th>2</th>\n",
       "      <td>Spectre</td>\n",
       "      <td>[Daniel Craig, Christoph Waltz, Léa Seydoux]</td>\n",
       "      <td>Sam Mendes</td>\n",
       "      <td>[spy, based on novel, secret agent]</td>\n",
       "      <td>[Action, Adventure, Crime]</td>\n",
       "    </tr>\n",
       "  </tbody>\n",
       "</table>\n",
       "</div>"
      ],
      "text/plain": [
       "                                      title  \\\n",
       "0                                    Avatar   \n",
       "1  Pirates of the Caribbean: At World's End   \n",
       "2                                   Spectre   \n",
       "\n",
       "                                               cast        director  \\\n",
       "0  [Sam Worthington, Zoe Saldana, Sigourney Weaver]   James Cameron   \n",
       "1     [Johnny Depp, Orlando Bloom, Keira Knightley]  Gore Verbinski   \n",
       "2      [Daniel Craig, Christoph Waltz, Léa Seydoux]      Sam Mendes   \n",
       "\n",
       "                              keywords                        genres  \n",
       "0   [culture clash, future, space war]  [Action, Adventure, Fantasy]  \n",
       "1   [ocean, drug abuse, exotic island]  [Adventure, Fantasy, Action]  \n",
       "2  [spy, based on novel, secret agent]    [Action, Adventure, Crime]  "
      ]
     },
     "execution_count": 30,
     "metadata": {},
     "output_type": "execute_result"
    }
   ],
   "source": [
    "# Print the new features of the first 3 films\n",
    "# 显示头三部电影的新特征\n",
    "df2[['title', 'cast', 'director', 'keywords', 'genres']].head(3)"
   ]
  },
  {
   "cell_type": "markdown",
   "metadata": {},
   "source": [
    "接下来我们将名称和关键字实例转换为小写，并且去除空格。这样做是为了让我们的 TFIDF 向量化程序不会把 “Johnny Depp” 和 “Johnny Galecki” 视作一样。"
   ]
  },
  {
   "cell_type": "code",
   "execution_count": 31,
   "metadata": {},
   "outputs": [],
   "source": [
    "# Function to convert all strings to lower case and strip names of spaces\n",
    "def clean_data(x):\n",
    "    if isinstance(x, list):\n",
    "        return [str.lower(i.replace(\" \", \"\")) for i in x]\n",
    "    else:\n",
    "        #Check if director exists. If not, return empty string\n",
    "        if isinstance(x, str):\n",
    "            return str.lower(x.replace(\" \", \"\"))\n",
    "        else:\n",
    "            return ''"
   ]
  },
  {
   "cell_type": "code",
   "execution_count": 32,
   "metadata": {},
   "outputs": [],
   "source": [
    "# Apply clean_data function to your features.\n",
    "features = ['cast', 'keywords', 'director', 'genres']\n",
    "\n",
    "for feature in features:\n",
    "    df2[feature] = df2[feature].apply(clean_data)"
   ]
  },
  {
   "cell_type": "markdown",
   "metadata": {},
   "source": [
    "现在我们准备创建 “metadata soup”，这是一个字符串，包含了我们要提供给 TFIDF 向量生成器的所有数据，包括“演员”、“导演”和“关键字”等等。"
   ]
  },
  {
   "cell_type": "code",
   "execution_count": 34,
   "metadata": {},
   "outputs": [],
   "source": [
    "def create_soup(x):\n",
    "    return ' '.join(x['keywords']) + ' ' + ' '.join(x['cast']) + ' ' + x['director'] + ' ' + ' '.join(x['genres'])\n",
    "\n",
    "df2['soup'] = df2.apply(create_soup, axis=1)"
   ]
  },
  {
   "cell_type": "code",
   "execution_count": 36,
   "metadata": {},
   "outputs": [
    {
     "data": {
      "text/plain": [
       "'cultureclash future spacewar samworthington zoesaldana sigourneyweaver jamescameron action adventure fantasy'"
      ]
     },
     "execution_count": 36,
     "metadata": {},
     "output_type": "execute_result"
    }
   ],
   "source": [
    "df2['soup'].values[0]"
   ]
  },
  {
   "cell_type": "markdown",
   "metadata": {},
   "source": []
  },
  {
   "cell_type": "code",
   "execution_count": null,
   "metadata": {},
   "outputs": [],
   "source": []
  }
 ],
 "metadata": {
  "kernelspec": {
   "display_name": "Python 3",
   "language": "python",
   "name": "python3"
  },
  "language_info": {
   "codemirror_mode": {
    "name": "ipython",
    "version": 3
   },
   "file_extension": ".py",
   "mimetype": "text/x-python",
   "name": "python",
   "nbconvert_exporter": "python",
   "pygments_lexer": "ipython3",
   "version": "3.7.4"
  }
 },
 "nbformat": 4,
 "nbformat_minor": 2
}
